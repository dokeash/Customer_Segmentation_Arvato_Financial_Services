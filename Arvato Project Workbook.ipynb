{
 "cells": [
  {
   "cell_type": "markdown",
   "metadata": {},
   "source": [
    "# Capstone Project: Create a Customer Segmentation Report for Arvato Financial Services\n",
    "\n",
    "In this project, you will analyze demographics data for customers of a mail-order sales company in Germany, comparing it against demographics information for the general population. You'll use unsupervised learning techniques to perform customer segmentation, identifying the parts of the population that best describe the core customer base of the company. Then, you'll apply what you've learned on a third dataset with demographics information for targets of a marketing campaign for the company, and use a model to predict which individuals are most likely to convert into becoming customers for the company. The data that you will use has been provided by our partners at Bertelsmann Arvato Analytics, and represents a real-life data science task.\n",
    "\n",
    "If you completed the first term of this program, you will be familiar with the first part of this project, from the unsupervised learning project. The versions of those two datasets used in this project will include many more features and has not been pre-cleaned. You are also free to choose whatever approach you'd like to analyzing the data rather than follow pre-determined steps. In your work on this project, make sure that you carefully document your steps and decisions, since your main deliverable for this project will be a blog post reporting your findings."
   ]
  },
  {
   "cell_type": "code",
   "execution_count": 2,
   "metadata": {},
   "outputs": [],
   "source": [
    "# import libraries here; add more as necessary\n",
    "import numpy as np\n",
    "import pandas as pd\n",
    "import matplotlib.pyplot as plt\n",
    "import seaborn as sns\n",
    "from sklearn.preprocessing import StandardScaler\n",
    "from sklearn.cluster import KMeans \n",
    "from sklearn.decomposition import PCA \n",
    "from sklearn.impute import SimpleImputer \n",
    "from sklearn.datasets import make_blobs\n",
    "from sklearn.cluster import KMeans\n",
    "from sklearn.metrics import silhouette_samples, silhouette_score\n",
    "\n",
    "import matplotlib.pyplot as plt\n",
    "import matplotlib.cm as cm\n",
    "import matplotlib as mpl\n",
    "\n",
    "from sklearn.utils import shuffle\n",
    "from sklearn.model_selection import cross_val_score, GridSearchCV\n",
    "from sklearn.ensemble import RandomForestRegressor, RandomForestClassifier\n",
    "from sklearn.linear_model import LogisticRegression\n",
    "from sklearn.metrics import roc_curve, auc, roc_auc_score\n",
    "from sklearn.model_selection import StratifiedKFold\n",
    "from sklearn.model_selection import learning_curve\n",
    "from sklearn.model_selection import cross_val_predict\n",
    "from sklearn.model_selection import train_test_split\n",
    "from scipy import interp\n",
    "from xgboost import XGBRegressor\n",
    "from numpy import mean\n",
    "from sklearn.model_selection import RepeatedStratifiedKFold\n",
    "\n",
    "%matplotlib inline"
   ]
  },
  {
   "cell_type": "markdown",
   "metadata": {},
   "source": [
    "## Part 0: Get to Know the Data\n",
    "\n",
    "There are four data files associated with this project:\n",
    "\n",
    "- `Udacity_AZDIAS_052018.csv`: Demographics data for the general population of Germany; 891 211 persons (rows) x 366 features (columns).\n",
    "- `Udacity_CUSTOMERS_052018.csv`: Demographics data for customers of a mail-order company; 191 652 persons (rows) x 369 features (columns).\n",
    "- `Udacity_MAILOUT_052018_TRAIN.csv`: Demographics data for individuals who were targets of a marketing campaign; 42 982 persons (rows) x 367 (columns).\n",
    "- `Udacity_MAILOUT_052018_TEST.csv`: Demographics data for individuals who were targets of a marketing campaign; 42 833 persons (rows) x 366 (columns).\n",
    "\n",
    "Each row of the demographics files represents a single person, but also includes information outside of individuals, including information about their household, building, and neighborhood. Use the information from the first two files to figure out how customers (\"CUSTOMERS\") are similar to or differ from the general population at large (\"AZDIAS\"), then use your analysis to make predictions on the other two files (\"MAILOUT\"), predicting which recipients are most likely to become a customer for the mail-order company.\n",
    "\n",
    "The \"CUSTOMERS\" file contains three extra columns ('CUSTOMER_GROUP', 'ONLINE_PURCHASE', and 'PRODUCT_GROUP'), which provide broad information about the customers depicted in the file. The original \"MAILOUT\" file included one additional column, \"RESPONSE\", which indicated whether or not each recipient became a customer of the company. For the \"TRAIN\" subset, this column has been retained, but in the \"TEST\" subset it has been removed; it is against that withheld column that your final predictions will be assessed in the Kaggle competition.\n",
    "\n",
    "Otherwise, all of the remaining columns are the same between the three data files. For more information about the columns depicted in the files, you can refer to two Excel spreadsheets provided in the workspace. [One of them](./DIAS Information Levels - Attributes 2017.xlsx) is a top-level list of attributes and descriptions, organized by informational category. [The other](./DIAS Attributes - Values 2017.xlsx) is a detailed mapping of data values for each feature in alphabetical order.\n",
    "\n",
    "In the below cell, we've provided some initial code to load in the first two datasets. Note for all of the `.csv` data files in this project that they're semicolon (`;`) delimited, so an additional argument in the [`read_csv()`](https://pandas.pydata.org/pandas-docs/stable/generated/pandas.read_csv.html) call has been included to read in the data properly. Also, considering the size of the datasets, it may take some time for them to load completely.\n",
    "\n",
    "You'll notice when the data is loaded in that a warning message will immediately pop up. Before you really start digging into the modeling and analysis, you're going to need to perform some cleaning. Take some time to browse the structure of the data and look over the informational spreadsheets to understand the data values. Make some decisions on which features to keep, which features to drop, and if any revisions need to be made on data formats. It'll be a good idea to create a function with pre-processing steps, since you'll need to clean all of the datasets before you work with them."
   ]
  },
  {
   "cell_type": "code",
   "execution_count": 3,
   "metadata": {
    "scrolled": true
   },
   "outputs": [
    {
     "name": "stderr",
     "output_type": "stream",
     "text": [
      "C:\\ProgramData\\Anaconda3\\lib\\site-packages\\IPython\\core\\interactiveshell.py:2785: DtypeWarning: Columns (18,19) have mixed types. Specify dtype option on import or set low_memory=False.\n",
      "  interactivity=interactivity, compiler=compiler, result=result)\n"
     ]
    }
   ],
   "source": [
    "# load in the data\n",
    "azdias = pd.read_csv('Udacity_AZDIAS_052018.csv', sep=';')\n",
    "customers = pd.read_csv('Udacity_CUSTOMERS_052018.csv', sep=';')"
   ]
  },
  {
   "cell_type": "code",
   "execution_count": 4,
   "metadata": {},
   "outputs": [],
   "source": [
    "# Be sure to add in a lot more cells (both markdown and code) to document your\n",
    "# approach and findings!"
   ]
  },
  {
   "cell_type": "code",
   "execution_count": 5,
   "metadata": {},
   "outputs": [
    {
     "data": {
      "text/plain": [
       "(891221, 366)"
      ]
     },
     "execution_count": 5,
     "metadata": {},
     "output_type": "execute_result"
    }
   ],
   "source": [
    "azdias.shape"
   ]
  },
  {
   "cell_type": "code",
   "execution_count": 6,
   "metadata": {},
   "outputs": [
    {
     "data": {
      "text/plain": [
       "(191652, 369)"
      ]
     },
     "execution_count": 6,
     "metadata": {},
     "output_type": "execute_result"
    }
   ],
   "source": [
    "customers.shape"
   ]
  },
  {
   "cell_type": "code",
   "execution_count": 7,
   "metadata": {},
   "outputs": [
    {
     "data": {
      "text/html": [
       "<div>\n",
       "<style scoped>\n",
       "    .dataframe tbody tr th:only-of-type {\n",
       "        vertical-align: middle;\n",
       "    }\n",
       "\n",
       "    .dataframe tbody tr th {\n",
       "        vertical-align: top;\n",
       "    }\n",
       "\n",
       "    .dataframe thead th {\n",
       "        text-align: right;\n",
       "    }\n",
       "</style>\n",
       "<table border=\"1\" class=\"dataframe\">\n",
       "  <thead>\n",
       "    <tr style=\"text-align: right;\">\n",
       "      <th></th>\n",
       "      <th>LNR</th>\n",
       "      <th>AGER_TYP</th>\n",
       "      <th>AKT_DAT_KL</th>\n",
       "      <th>ALTER_HH</th>\n",
       "      <th>ALTER_KIND1</th>\n",
       "      <th>ALTER_KIND2</th>\n",
       "      <th>ALTER_KIND3</th>\n",
       "      <th>ALTER_KIND4</th>\n",
       "      <th>ALTERSKATEGORIE_FEIN</th>\n",
       "      <th>ANZ_HAUSHALTE_AKTIV</th>\n",
       "      <th>...</th>\n",
       "      <th>VHN</th>\n",
       "      <th>VK_DHT4A</th>\n",
       "      <th>VK_DISTANZ</th>\n",
       "      <th>VK_ZG11</th>\n",
       "      <th>W_KEIT_KIND_HH</th>\n",
       "      <th>WOHNDAUER_2008</th>\n",
       "      <th>WOHNLAGE</th>\n",
       "      <th>ZABEOTYP</th>\n",
       "      <th>ANREDE_KZ</th>\n",
       "      <th>ALTERSKATEGORIE_GROB</th>\n",
       "    </tr>\n",
       "  </thead>\n",
       "  <tbody>\n",
       "    <tr>\n",
       "      <th>0</th>\n",
       "      <td>910215</td>\n",
       "      <td>-1</td>\n",
       "      <td>NaN</td>\n",
       "      <td>NaN</td>\n",
       "      <td>NaN</td>\n",
       "      <td>NaN</td>\n",
       "      <td>NaN</td>\n",
       "      <td>NaN</td>\n",
       "      <td>NaN</td>\n",
       "      <td>NaN</td>\n",
       "      <td>...</td>\n",
       "      <td>NaN</td>\n",
       "      <td>NaN</td>\n",
       "      <td>NaN</td>\n",
       "      <td>NaN</td>\n",
       "      <td>NaN</td>\n",
       "      <td>NaN</td>\n",
       "      <td>NaN</td>\n",
       "      <td>3</td>\n",
       "      <td>1</td>\n",
       "      <td>2</td>\n",
       "    </tr>\n",
       "    <tr>\n",
       "      <th>1</th>\n",
       "      <td>910220</td>\n",
       "      <td>-1</td>\n",
       "      <td>9.0</td>\n",
       "      <td>0.0</td>\n",
       "      <td>NaN</td>\n",
       "      <td>NaN</td>\n",
       "      <td>NaN</td>\n",
       "      <td>NaN</td>\n",
       "      <td>21.0</td>\n",
       "      <td>11.0</td>\n",
       "      <td>...</td>\n",
       "      <td>4.0</td>\n",
       "      <td>8.0</td>\n",
       "      <td>11.0</td>\n",
       "      <td>10.0</td>\n",
       "      <td>3.0</td>\n",
       "      <td>9.0</td>\n",
       "      <td>4.0</td>\n",
       "      <td>5</td>\n",
       "      <td>2</td>\n",
       "      <td>1</td>\n",
       "    </tr>\n",
       "    <tr>\n",
       "      <th>2</th>\n",
       "      <td>910225</td>\n",
       "      <td>-1</td>\n",
       "      <td>9.0</td>\n",
       "      <td>17.0</td>\n",
       "      <td>NaN</td>\n",
       "      <td>NaN</td>\n",
       "      <td>NaN</td>\n",
       "      <td>NaN</td>\n",
       "      <td>17.0</td>\n",
       "      <td>10.0</td>\n",
       "      <td>...</td>\n",
       "      <td>2.0</td>\n",
       "      <td>9.0</td>\n",
       "      <td>9.0</td>\n",
       "      <td>6.0</td>\n",
       "      <td>3.0</td>\n",
       "      <td>9.0</td>\n",
       "      <td>2.0</td>\n",
       "      <td>5</td>\n",
       "      <td>2</td>\n",
       "      <td>3</td>\n",
       "    </tr>\n",
       "    <tr>\n",
       "      <th>3</th>\n",
       "      <td>910226</td>\n",
       "      <td>2</td>\n",
       "      <td>1.0</td>\n",
       "      <td>13.0</td>\n",
       "      <td>NaN</td>\n",
       "      <td>NaN</td>\n",
       "      <td>NaN</td>\n",
       "      <td>NaN</td>\n",
       "      <td>13.0</td>\n",
       "      <td>1.0</td>\n",
       "      <td>...</td>\n",
       "      <td>0.0</td>\n",
       "      <td>7.0</td>\n",
       "      <td>10.0</td>\n",
       "      <td>11.0</td>\n",
       "      <td>NaN</td>\n",
       "      <td>9.0</td>\n",
       "      <td>7.0</td>\n",
       "      <td>3</td>\n",
       "      <td>2</td>\n",
       "      <td>4</td>\n",
       "    </tr>\n",
       "    <tr>\n",
       "      <th>4</th>\n",
       "      <td>910241</td>\n",
       "      <td>-1</td>\n",
       "      <td>1.0</td>\n",
       "      <td>20.0</td>\n",
       "      <td>NaN</td>\n",
       "      <td>NaN</td>\n",
       "      <td>NaN</td>\n",
       "      <td>NaN</td>\n",
       "      <td>14.0</td>\n",
       "      <td>3.0</td>\n",
       "      <td>...</td>\n",
       "      <td>2.0</td>\n",
       "      <td>3.0</td>\n",
       "      <td>5.0</td>\n",
       "      <td>4.0</td>\n",
       "      <td>2.0</td>\n",
       "      <td>9.0</td>\n",
       "      <td>3.0</td>\n",
       "      <td>4</td>\n",
       "      <td>1</td>\n",
       "      <td>3</td>\n",
       "    </tr>\n",
       "  </tbody>\n",
       "</table>\n",
       "<p>5 rows × 366 columns</p>\n",
       "</div>"
      ],
      "text/plain": [
       "      LNR  AGER_TYP  AKT_DAT_KL  ALTER_HH  ALTER_KIND1  ALTER_KIND2  \\\n",
       "0  910215        -1         NaN       NaN          NaN          NaN   \n",
       "1  910220        -1         9.0       0.0          NaN          NaN   \n",
       "2  910225        -1         9.0      17.0          NaN          NaN   \n",
       "3  910226         2         1.0      13.0          NaN          NaN   \n",
       "4  910241        -1         1.0      20.0          NaN          NaN   \n",
       "\n",
       "   ALTER_KIND3  ALTER_KIND4  ALTERSKATEGORIE_FEIN  ANZ_HAUSHALTE_AKTIV  \\\n",
       "0          NaN          NaN                   NaN                  NaN   \n",
       "1          NaN          NaN                  21.0                 11.0   \n",
       "2          NaN          NaN                  17.0                 10.0   \n",
       "3          NaN          NaN                  13.0                  1.0   \n",
       "4          NaN          NaN                  14.0                  3.0   \n",
       "\n",
       "          ...           VHN  VK_DHT4A  VK_DISTANZ  VK_ZG11  W_KEIT_KIND_HH  \\\n",
       "0         ...           NaN       NaN         NaN      NaN             NaN   \n",
       "1         ...           4.0       8.0        11.0     10.0             3.0   \n",
       "2         ...           2.0       9.0         9.0      6.0             3.0   \n",
       "3         ...           0.0       7.0        10.0     11.0             NaN   \n",
       "4         ...           2.0       3.0         5.0      4.0             2.0   \n",
       "\n",
       "   WOHNDAUER_2008  WOHNLAGE ZABEOTYP ANREDE_KZ ALTERSKATEGORIE_GROB  \n",
       "0             NaN       NaN        3         1                    2  \n",
       "1             9.0       4.0        5         2                    1  \n",
       "2             9.0       2.0        5         2                    3  \n",
       "3             9.0       7.0        3         2                    4  \n",
       "4             9.0       3.0        4         1                    3  \n",
       "\n",
       "[5 rows x 366 columns]"
      ]
     },
     "execution_count": 7,
     "metadata": {},
     "output_type": "execute_result"
    }
   ],
   "source": [
    "azdias.head()"
   ]
  },
  {
   "cell_type": "code",
   "execution_count": 8,
   "metadata": {},
   "outputs": [
    {
     "data": {
      "text/html": [
       "<div>\n",
       "<style scoped>\n",
       "    .dataframe tbody tr th:only-of-type {\n",
       "        vertical-align: middle;\n",
       "    }\n",
       "\n",
       "    .dataframe tbody tr th {\n",
       "        vertical-align: top;\n",
       "    }\n",
       "\n",
       "    .dataframe thead th {\n",
       "        text-align: right;\n",
       "    }\n",
       "</style>\n",
       "<table border=\"1\" class=\"dataframe\">\n",
       "  <thead>\n",
       "    <tr style=\"text-align: right;\">\n",
       "      <th></th>\n",
       "      <th>LNR</th>\n",
       "      <th>AGER_TYP</th>\n",
       "      <th>AKT_DAT_KL</th>\n",
       "      <th>ALTER_HH</th>\n",
       "      <th>ALTER_KIND1</th>\n",
       "      <th>ALTER_KIND2</th>\n",
       "      <th>ALTER_KIND3</th>\n",
       "      <th>ALTER_KIND4</th>\n",
       "      <th>ALTERSKATEGORIE_FEIN</th>\n",
       "      <th>ANZ_HAUSHALTE_AKTIV</th>\n",
       "      <th>...</th>\n",
       "      <th>VHN</th>\n",
       "      <th>VK_DHT4A</th>\n",
       "      <th>VK_DISTANZ</th>\n",
       "      <th>VK_ZG11</th>\n",
       "      <th>W_KEIT_KIND_HH</th>\n",
       "      <th>WOHNDAUER_2008</th>\n",
       "      <th>WOHNLAGE</th>\n",
       "      <th>ZABEOTYP</th>\n",
       "      <th>ANREDE_KZ</th>\n",
       "      <th>ALTERSKATEGORIE_GROB</th>\n",
       "    </tr>\n",
       "  </thead>\n",
       "  <tbody>\n",
       "    <tr>\n",
       "      <th>count</th>\n",
       "      <td>8.912210e+05</td>\n",
       "      <td>891221.000000</td>\n",
       "      <td>817722.000000</td>\n",
       "      <td>817722.000000</td>\n",
       "      <td>81058.000000</td>\n",
       "      <td>29499.000000</td>\n",
       "      <td>6170.000000</td>\n",
       "      <td>1205.000000</td>\n",
       "      <td>628274.000000</td>\n",
       "      <td>798073.000000</td>\n",
       "      <td>...</td>\n",
       "      <td>770025.000000</td>\n",
       "      <td>815304.000000</td>\n",
       "      <td>815304.000000</td>\n",
       "      <td>815304.000000</td>\n",
       "      <td>783619.000000</td>\n",
       "      <td>817722.000000</td>\n",
       "      <td>798073.000000</td>\n",
       "      <td>891221.000000</td>\n",
       "      <td>891221.000000</td>\n",
       "      <td>891221.000000</td>\n",
       "    </tr>\n",
       "    <tr>\n",
       "      <th>mean</th>\n",
       "      <td>6.372630e+05</td>\n",
       "      <td>-0.358435</td>\n",
       "      <td>4.421928</td>\n",
       "      <td>10.864126</td>\n",
       "      <td>11.745392</td>\n",
       "      <td>13.402658</td>\n",
       "      <td>14.476013</td>\n",
       "      <td>15.089627</td>\n",
       "      <td>13.700717</td>\n",
       "      <td>8.287263</td>\n",
       "      <td>...</td>\n",
       "      <td>2.417322</td>\n",
       "      <td>6.001214</td>\n",
       "      <td>7.532130</td>\n",
       "      <td>5.945972</td>\n",
       "      <td>3.933406</td>\n",
       "      <td>7.908791</td>\n",
       "      <td>4.052836</td>\n",
       "      <td>3.362438</td>\n",
       "      <td>1.522098</td>\n",
       "      <td>2.777398</td>\n",
       "    </tr>\n",
       "    <tr>\n",
       "      <th>std</th>\n",
       "      <td>2.572735e+05</td>\n",
       "      <td>1.198724</td>\n",
       "      <td>3.638805</td>\n",
       "      <td>7.639683</td>\n",
       "      <td>4.097660</td>\n",
       "      <td>3.243300</td>\n",
       "      <td>2.712427</td>\n",
       "      <td>2.452932</td>\n",
       "      <td>5.079849</td>\n",
       "      <td>15.628087</td>\n",
       "      <td>...</td>\n",
       "      <td>1.166572</td>\n",
       "      <td>2.856091</td>\n",
       "      <td>3.247789</td>\n",
       "      <td>2.771464</td>\n",
       "      <td>1.964701</td>\n",
       "      <td>1.923137</td>\n",
       "      <td>1.949539</td>\n",
       "      <td>1.352704</td>\n",
       "      <td>0.499512</td>\n",
       "      <td>1.068775</td>\n",
       "    </tr>\n",
       "    <tr>\n",
       "      <th>min</th>\n",
       "      <td>1.916530e+05</td>\n",
       "      <td>-1.000000</td>\n",
       "      <td>1.000000</td>\n",
       "      <td>0.000000</td>\n",
       "      <td>2.000000</td>\n",
       "      <td>2.000000</td>\n",
       "      <td>4.000000</td>\n",
       "      <td>7.000000</td>\n",
       "      <td>0.000000</td>\n",
       "      <td>0.000000</td>\n",
       "      <td>...</td>\n",
       "      <td>0.000000</td>\n",
       "      <td>1.000000</td>\n",
       "      <td>1.000000</td>\n",
       "      <td>1.000000</td>\n",
       "      <td>0.000000</td>\n",
       "      <td>1.000000</td>\n",
       "      <td>0.000000</td>\n",
       "      <td>1.000000</td>\n",
       "      <td>1.000000</td>\n",
       "      <td>1.000000</td>\n",
       "    </tr>\n",
       "    <tr>\n",
       "      <th>25%</th>\n",
       "      <td>4.144580e+05</td>\n",
       "      <td>-1.000000</td>\n",
       "      <td>1.000000</td>\n",
       "      <td>0.000000</td>\n",
       "      <td>8.000000</td>\n",
       "      <td>11.000000</td>\n",
       "      <td>13.000000</td>\n",
       "      <td>14.000000</td>\n",
       "      <td>11.000000</td>\n",
       "      <td>1.000000</td>\n",
       "      <td>...</td>\n",
       "      <td>2.000000</td>\n",
       "      <td>3.000000</td>\n",
       "      <td>5.000000</td>\n",
       "      <td>4.000000</td>\n",
       "      <td>2.000000</td>\n",
       "      <td>8.000000</td>\n",
       "      <td>3.000000</td>\n",
       "      <td>3.000000</td>\n",
       "      <td>1.000000</td>\n",
       "      <td>2.000000</td>\n",
       "    </tr>\n",
       "    <tr>\n",
       "      <th>50%</th>\n",
       "      <td>6.372630e+05</td>\n",
       "      <td>-1.000000</td>\n",
       "      <td>3.000000</td>\n",
       "      <td>13.000000</td>\n",
       "      <td>12.000000</td>\n",
       "      <td>14.000000</td>\n",
       "      <td>15.000000</td>\n",
       "      <td>15.000000</td>\n",
       "      <td>14.000000</td>\n",
       "      <td>4.000000</td>\n",
       "      <td>...</td>\n",
       "      <td>2.000000</td>\n",
       "      <td>6.000000</td>\n",
       "      <td>8.000000</td>\n",
       "      <td>6.000000</td>\n",
       "      <td>4.000000</td>\n",
       "      <td>9.000000</td>\n",
       "      <td>3.000000</td>\n",
       "      <td>3.000000</td>\n",
       "      <td>2.000000</td>\n",
       "      <td>3.000000</td>\n",
       "    </tr>\n",
       "    <tr>\n",
       "      <th>75%</th>\n",
       "      <td>8.600680e+05</td>\n",
       "      <td>-1.000000</td>\n",
       "      <td>9.000000</td>\n",
       "      <td>17.000000</td>\n",
       "      <td>15.000000</td>\n",
       "      <td>16.000000</td>\n",
       "      <td>17.000000</td>\n",
       "      <td>17.000000</td>\n",
       "      <td>17.000000</td>\n",
       "      <td>9.000000</td>\n",
       "      <td>...</td>\n",
       "      <td>3.000000</td>\n",
       "      <td>9.000000</td>\n",
       "      <td>10.000000</td>\n",
       "      <td>8.000000</td>\n",
       "      <td>6.000000</td>\n",
       "      <td>9.000000</td>\n",
       "      <td>5.000000</td>\n",
       "      <td>4.000000</td>\n",
       "      <td>2.000000</td>\n",
       "      <td>4.000000</td>\n",
       "    </tr>\n",
       "    <tr>\n",
       "      <th>max</th>\n",
       "      <td>1.082873e+06</td>\n",
       "      <td>3.000000</td>\n",
       "      <td>9.000000</td>\n",
       "      <td>21.000000</td>\n",
       "      <td>18.000000</td>\n",
       "      <td>18.000000</td>\n",
       "      <td>18.000000</td>\n",
       "      <td>18.000000</td>\n",
       "      <td>25.000000</td>\n",
       "      <td>595.000000</td>\n",
       "      <td>...</td>\n",
       "      <td>4.000000</td>\n",
       "      <td>11.000000</td>\n",
       "      <td>13.000000</td>\n",
       "      <td>11.000000</td>\n",
       "      <td>6.000000</td>\n",
       "      <td>9.000000</td>\n",
       "      <td>8.000000</td>\n",
       "      <td>6.000000</td>\n",
       "      <td>2.000000</td>\n",
       "      <td>9.000000</td>\n",
       "    </tr>\n",
       "  </tbody>\n",
       "</table>\n",
       "<p>8 rows × 360 columns</p>\n",
       "</div>"
      ],
      "text/plain": [
       "                LNR       AGER_TYP     AKT_DAT_KL       ALTER_HH  \\\n",
       "count  8.912210e+05  891221.000000  817722.000000  817722.000000   \n",
       "mean   6.372630e+05      -0.358435       4.421928      10.864126   \n",
       "std    2.572735e+05       1.198724       3.638805       7.639683   \n",
       "min    1.916530e+05      -1.000000       1.000000       0.000000   \n",
       "25%    4.144580e+05      -1.000000       1.000000       0.000000   \n",
       "50%    6.372630e+05      -1.000000       3.000000      13.000000   \n",
       "75%    8.600680e+05      -1.000000       9.000000      17.000000   \n",
       "max    1.082873e+06       3.000000       9.000000      21.000000   \n",
       "\n",
       "        ALTER_KIND1   ALTER_KIND2  ALTER_KIND3  ALTER_KIND4  \\\n",
       "count  81058.000000  29499.000000  6170.000000  1205.000000   \n",
       "mean      11.745392     13.402658    14.476013    15.089627   \n",
       "std        4.097660      3.243300     2.712427     2.452932   \n",
       "min        2.000000      2.000000     4.000000     7.000000   \n",
       "25%        8.000000     11.000000    13.000000    14.000000   \n",
       "50%       12.000000     14.000000    15.000000    15.000000   \n",
       "75%       15.000000     16.000000    17.000000    17.000000   \n",
       "max       18.000000     18.000000    18.000000    18.000000   \n",
       "\n",
       "       ALTERSKATEGORIE_FEIN  ANZ_HAUSHALTE_AKTIV          ...           \\\n",
       "count         628274.000000        798073.000000          ...            \n",
       "mean              13.700717             8.287263          ...            \n",
       "std                5.079849            15.628087          ...            \n",
       "min                0.000000             0.000000          ...            \n",
       "25%               11.000000             1.000000          ...            \n",
       "50%               14.000000             4.000000          ...            \n",
       "75%               17.000000             9.000000          ...            \n",
       "max               25.000000           595.000000          ...            \n",
       "\n",
       "                 VHN       VK_DHT4A     VK_DISTANZ        VK_ZG11  \\\n",
       "count  770025.000000  815304.000000  815304.000000  815304.000000   \n",
       "mean        2.417322       6.001214       7.532130       5.945972   \n",
       "std         1.166572       2.856091       3.247789       2.771464   \n",
       "min         0.000000       1.000000       1.000000       1.000000   \n",
       "25%         2.000000       3.000000       5.000000       4.000000   \n",
       "50%         2.000000       6.000000       8.000000       6.000000   \n",
       "75%         3.000000       9.000000      10.000000       8.000000   \n",
       "max         4.000000      11.000000      13.000000      11.000000   \n",
       "\n",
       "       W_KEIT_KIND_HH  WOHNDAUER_2008       WOHNLAGE       ZABEOTYP  \\\n",
       "count   783619.000000   817722.000000  798073.000000  891221.000000   \n",
       "mean         3.933406        7.908791       4.052836       3.362438   \n",
       "std          1.964701        1.923137       1.949539       1.352704   \n",
       "min          0.000000        1.000000       0.000000       1.000000   \n",
       "25%          2.000000        8.000000       3.000000       3.000000   \n",
       "50%          4.000000        9.000000       3.000000       3.000000   \n",
       "75%          6.000000        9.000000       5.000000       4.000000   \n",
       "max          6.000000        9.000000       8.000000       6.000000   \n",
       "\n",
       "           ANREDE_KZ  ALTERSKATEGORIE_GROB  \n",
       "count  891221.000000         891221.000000  \n",
       "mean        1.522098              2.777398  \n",
       "std         0.499512              1.068775  \n",
       "min         1.000000              1.000000  \n",
       "25%         1.000000              2.000000  \n",
       "50%         2.000000              3.000000  \n",
       "75%         2.000000              4.000000  \n",
       "max         2.000000              9.000000  \n",
       "\n",
       "[8 rows x 360 columns]"
      ]
     },
     "execution_count": 8,
     "metadata": {},
     "output_type": "execute_result"
    }
   ],
   "source": [
    "azdias.describe()"
   ]
  },
  {
   "cell_type": "code",
   "execution_count": 9,
   "metadata": {},
   "outputs": [
    {
     "data": {
      "text/plain": [
       "float64    267\n",
       "int64       93\n",
       "object       6\n",
       "dtype: int64"
      ]
     },
     "execution_count": 9,
     "metadata": {},
     "output_type": "execute_result"
    }
   ],
   "source": [
    "azdias.dtypes.value_counts()"
   ]
  },
  {
   "cell_type": "markdown",
   "metadata": {},
   "source": [
    "**Feature Information**"
   ]
  },
  {
   "cell_type": "code",
   "execution_count": 10,
   "metadata": {},
   "outputs": [
    {
     "data": {
      "text/html": [
       "<div>\n",
       "<style scoped>\n",
       "    .dataframe tbody tr th:only-of-type {\n",
       "        vertical-align: middle;\n",
       "    }\n",
       "\n",
       "    .dataframe tbody tr th {\n",
       "        vertical-align: top;\n",
       "    }\n",
       "\n",
       "    .dataframe thead th {\n",
       "        text-align: right;\n",
       "    }\n",
       "</style>\n",
       "<table border=\"1\" class=\"dataframe\">\n",
       "  <thead>\n",
       "    <tr style=\"text-align: right;\">\n",
       "      <th></th>\n",
       "      <th>Attribute</th>\n",
       "      <th>Description</th>\n",
       "      <th>Value</th>\n",
       "      <th>Meaning</th>\n",
       "    </tr>\n",
       "  </thead>\n",
       "  <tbody>\n",
       "    <tr>\n",
       "      <th>0</th>\n",
       "      <td>AGER_TYP</td>\n",
       "      <td>best-ager typology</td>\n",
       "      <td>-1</td>\n",
       "      <td>unknown</td>\n",
       "    </tr>\n",
       "    <tr>\n",
       "      <th>5</th>\n",
       "      <td>ALTERSKATEGORIE_GROB</td>\n",
       "      <td>age classification through prename analysis</td>\n",
       "      <td>-1, 0</td>\n",
       "      <td>unknown</td>\n",
       "    </tr>\n",
       "    <tr>\n",
       "      <th>11</th>\n",
       "      <td>ALTER_HH</td>\n",
       "      <td>main age within the household</td>\n",
       "      <td>0</td>\n",
       "      <td>unknown / no main age detectable</td>\n",
       "    </tr>\n",
       "    <tr>\n",
       "      <th>33</th>\n",
       "      <td>ANREDE_KZ</td>\n",
       "      <td>gender</td>\n",
       "      <td>-1, 0</td>\n",
       "      <td>unknown</td>\n",
       "    </tr>\n",
       "    <tr>\n",
       "      <th>36</th>\n",
       "      <td>ANZ_HAUSHALTE_AKTIV</td>\n",
       "      <td>number of households in the building</td>\n",
       "      <td>…</td>\n",
       "      <td>numeric value (typically coded from 1-10)</td>\n",
       "    </tr>\n",
       "  </tbody>\n",
       "</table>\n",
       "</div>"
      ],
      "text/plain": [
       "               Attribute                                   Description  Value  \\\n",
       "0               AGER_TYP                            best-ager typology     -1   \n",
       "5   ALTERSKATEGORIE_GROB  age classification through prename analysis   -1, 0   \n",
       "11              ALTER_HH                 main age within the household      0   \n",
       "33             ANREDE_KZ                                        gender  -1, 0   \n",
       "36   ANZ_HAUSHALTE_AKTIV          number of households in the building      …   \n",
       "\n",
       "                                      Meaning  \n",
       "0                                     unknown  \n",
       "5                                     unknown  \n",
       "11           unknown / no main age detectable  \n",
       "33                                    unknown  \n",
       "36  numeric value (typically coded from 1-10)  "
      ]
     },
     "execution_count": 10,
     "metadata": {},
     "output_type": "execute_result"
    }
   ],
   "source": [
    "# Laod DIAS Attributes\n",
    "dias_attributes = pd.read_excel('DIAS Attributes - Values 2017.xlsx', skiprows=[0])\n",
    "del dias_attributes['Unnamed: 0']\n",
    "\n",
    "# Drop NaN attribute\n",
    "dias_attributes = dias_attributes[~dias_attributes['Attribute'].isnull()]\n",
    "dias_attributes.head()"
   ]
  },
  {
   "cell_type": "code",
   "execution_count": 11,
   "metadata": {},
   "outputs": [
    {
     "data": {
      "text/plain": [
       "unknown                                                                             230\n",
       "no transaction known                                                                 34\n",
       "highest activity within the last 12 months                                           12\n",
       "no transactions known                                                                10\n",
       "numeric value (typically coded from 1-10)                                             3\n",
       "numeric value                                                                         3\n",
       "no Online-transactions within the last 12 months                                      3\n",
       "single                                                                                2\n",
       "typical low-income earners                                                            1\n",
       "Work-Life-Balance                                                                     1\n",
       "unknown / no main age detectable                                                      1\n",
       "single low-income- and average earners of younger age                                 1\n",
       "very high mobility                                                                    1\n",
       "Event travelers                                                                       1\n",
       "doesn't belong to the green avantgarde                                                1\n",
       "low-income earners                                                                    1\n",
       "numeric value (typically coded from 1-3)                                              1\n",
       "mainly 1-2 family homes                                                               1\n",
       "Universal                                                                             1\n",
       "building is located in a 125 x 125m-grid cell (RA1), which is a consumption cell      1\n",
       "very low                                                                              1\n",
       "business cell                                                                         1\n",
       "none                                                                                  1\n",
       "single low-income earners of younger age                                              1\n",
       "very low car quote                                                                    1\n",
       "Name: Meaning, dtype: int64"
      ]
     },
     "execution_count": 11,
     "metadata": {},
     "output_type": "execute_result"
    }
   ],
   "source": [
    "# dias_attributes Meanning counts\n",
    "dias_attributes.Meaning.value_counts(dropna=False)"
   ]
  },
  {
   "cell_type": "code",
   "execution_count": 12,
   "metadata": {},
   "outputs": [
    {
     "data": {
      "text/html": [
       "<div>\n",
       "<style scoped>\n",
       "    .dataframe tbody tr th:only-of-type {\n",
       "        vertical-align: middle;\n",
       "    }\n",
       "\n",
       "    .dataframe tbody tr th {\n",
       "        vertical-align: top;\n",
       "    }\n",
       "\n",
       "    .dataframe thead th {\n",
       "        text-align: right;\n",
       "    }\n",
       "</style>\n",
       "<table border=\"1\" class=\"dataframe\">\n",
       "  <thead>\n",
       "    <tr style=\"text-align: right;\">\n",
       "      <th></th>\n",
       "      <th>Attribute</th>\n",
       "      <th>Description</th>\n",
       "      <th>Value</th>\n",
       "      <th>Meaning</th>\n",
       "    </tr>\n",
       "  </thead>\n",
       "  <tbody>\n",
       "    <tr>\n",
       "      <th>0</th>\n",
       "      <td>AGER_TYP</td>\n",
       "      <td>best-ager typology</td>\n",
       "      <td>-1</td>\n",
       "      <td>unknown</td>\n",
       "    </tr>\n",
       "    <tr>\n",
       "      <th>5</th>\n",
       "      <td>ALTERSKATEGORIE_GROB</td>\n",
       "      <td>age classification through prename analysis</td>\n",
       "      <td>-1, 0</td>\n",
       "      <td>unknown</td>\n",
       "    </tr>\n",
       "    <tr>\n",
       "      <th>33</th>\n",
       "      <td>ANREDE_KZ</td>\n",
       "      <td>gender</td>\n",
       "      <td>-1, 0</td>\n",
       "      <td>unknown</td>\n",
       "    </tr>\n",
       "    <tr>\n",
       "      <th>40</th>\n",
       "      <td>BALLRAUM</td>\n",
       "      <td>distance to next urban centre</td>\n",
       "      <td>-1</td>\n",
       "      <td>unknown</td>\n",
       "    </tr>\n",
       "    <tr>\n",
       "      <th>51</th>\n",
       "      <td>CAMEO_DEUG_2015</td>\n",
       "      <td>CAMEO classification 2015 - Uppergroup</td>\n",
       "      <td>-1</td>\n",
       "      <td>unknown</td>\n",
       "    </tr>\n",
       "  </tbody>\n",
       "</table>\n",
       "</div>"
      ],
      "text/plain": [
       "               Attribute                                   Description  Value  \\\n",
       "0               AGER_TYP                            best-ager typology     -1   \n",
       "5   ALTERSKATEGORIE_GROB  age classification through prename analysis   -1, 0   \n",
       "33             ANREDE_KZ                                        gender  -1, 0   \n",
       "40              BALLRAUM                distance to next urban centre      -1   \n",
       "51       CAMEO_DEUG_2015        CAMEO classification 2015 - Uppergroup     -1   \n",
       "\n",
       "    Meaning  \n",
       "0   unknown  \n",
       "5   unknown  \n",
       "33  unknown  \n",
       "40  unknown  \n",
       "51  unknown  "
      ]
     },
     "execution_count": 12,
     "metadata": {},
     "output_type": "execute_result"
    }
   ],
   "source": [
    "# Find attribute with unknown Meaning\n",
    "dias_attributes_unknown = dias_attributes[dias_attributes['Meaning'] == 'unknown']\n",
    "\n",
    "# Keep only attribute of azdias\n",
    "dias_attributes_unknown = dias_attributes_unknown[\n",
    "    dias_attributes_unknown['Attribute'].isin(azdias.columns)]\n",
    "\n",
    "# unknown_Meaning shape\n",
    "dias_attributes_unknown.head()"
   ]
  },
  {
   "cell_type": "code",
   "execution_count": 13,
   "metadata": {},
   "outputs": [
    {
     "data": {
      "text/html": [
       "<div>\n",
       "<style scoped>\n",
       "    .dataframe tbody tr th:only-of-type {\n",
       "        vertical-align: middle;\n",
       "    }\n",
       "\n",
       "    .dataframe tbody tr th {\n",
       "        vertical-align: top;\n",
       "    }\n",
       "\n",
       "    .dataframe thead th {\n",
       "        text-align: right;\n",
       "    }\n",
       "</style>\n",
       "<table border=\"1\" class=\"dataframe\">\n",
       "  <thead>\n",
       "    <tr style=\"text-align: right;\">\n",
       "      <th></th>\n",
       "      <th>Information_level</th>\n",
       "      <th>Attribute</th>\n",
       "      <th>Description</th>\n",
       "      <th>Additional_notes</th>\n",
       "    </tr>\n",
       "  </thead>\n",
       "  <tbody>\n",
       "    <tr>\n",
       "      <th>0</th>\n",
       "      <td>NaN</td>\n",
       "      <td>AGER_TYP</td>\n",
       "      <td>best-ager typology</td>\n",
       "      <td>in cooperation with Kantar TNS; the informatio...</td>\n",
       "    </tr>\n",
       "    <tr>\n",
       "      <th>1</th>\n",
       "      <td>Person</td>\n",
       "      <td>ALTERSKATEGORIE_GROB</td>\n",
       "      <td>age through prename analysis</td>\n",
       "      <td>modelled on millions of first name-age-referen...</td>\n",
       "    </tr>\n",
       "    <tr>\n",
       "      <th>2</th>\n",
       "      <td>NaN</td>\n",
       "      <td>ANREDE_KZ</td>\n",
       "      <td>gender</td>\n",
       "      <td>NaN</td>\n",
       "    </tr>\n",
       "    <tr>\n",
       "      <th>3</th>\n",
       "      <td>NaN</td>\n",
       "      <td>CJT_GESAMTTYP</td>\n",
       "      <td>Customer-Journey-Typology relating to the pref...</td>\n",
       "      <td>relating to the preferred information, marketi...</td>\n",
       "    </tr>\n",
       "    <tr>\n",
       "      <th>4</th>\n",
       "      <td>NaN</td>\n",
       "      <td>FINANZ_MINIMALIST</td>\n",
       "      <td>financial typology: low financial interest</td>\n",
       "      <td>Gfk-Typology based on a representative househo...</td>\n",
       "    </tr>\n",
       "  </tbody>\n",
       "</table>\n",
       "</div>"
      ],
      "text/plain": [
       "  Information_level             Attribute  \\\n",
       "0               NaN              AGER_TYP   \n",
       "1            Person  ALTERSKATEGORIE_GROB   \n",
       "2               NaN             ANREDE_KZ   \n",
       "3               NaN         CJT_GESAMTTYP   \n",
       "4               NaN     FINANZ_MINIMALIST   \n",
       "\n",
       "                                         Description  \\\n",
       "0                                 best-ager typology   \n",
       "1                      age through prename analysis    \n",
       "2                                             gender   \n",
       "3  Customer-Journey-Typology relating to the pref...   \n",
       "4         financial typology: low financial interest   \n",
       "\n",
       "                                    Additional_notes  \n",
       "0  in cooperation with Kantar TNS; the informatio...  \n",
       "1  modelled on millions of first name-age-referen...  \n",
       "2                                                NaN  \n",
       "3  relating to the preferred information, marketi...  \n",
       "4  Gfk-Typology based on a representative househo...  "
      ]
     },
     "execution_count": 13,
     "metadata": {},
     "output_type": "execute_result"
    }
   ],
   "source": [
    "# Laod DIAS Information level\n",
    "dias_information_level = pd.read_excel('DIAS Information Levels - Attributes 2017.xlsx', skiprows=[0])\n",
    "del dias_information_level['Unnamed: 0']\n",
    "dias_information_level.columns = dias_information_level.columns.str.replace(' ', '_')\n",
    "dias_information_level.head(5)\n"
   ]
  },
  {
   "cell_type": "code",
   "execution_count": 14,
   "metadata": {},
   "outputs": [
    {
     "data": {
      "text/plain": [
       "NaN                   303\n",
       "Community               1\n",
       "PLZ8                    1\n",
       "RR1_ID                  1\n",
       "Microcell (RR4_ID)      1\n",
       "Microcell (RR3_ID)      1\n",
       "Building                1\n",
       "Postcode                1\n",
       "Person                  1\n",
       "125m x 125m Grid        1\n",
       "Household               1\n",
       "Name: Information_level, dtype: int64"
      ]
     },
     "execution_count": 14,
     "metadata": {},
     "output_type": "execute_result"
    }
   ],
   "source": [
    "dias_information_level.Information_level.value_counts(dropna=False)"
   ]
  },
  {
   "cell_type": "markdown",
   "metadata": {},
   "source": [
    "**Check what column with object type indicates** "
   ]
  },
  {
   "cell_type": "code",
   "execution_count": 15,
   "metadata": {},
   "outputs": [
    {
     "data": {
      "text/html": [
       "<div>\n",
       "<style scoped>\n",
       "    .dataframe tbody tr th:only-of-type {\n",
       "        vertical-align: middle;\n",
       "    }\n",
       "\n",
       "    .dataframe tbody tr th {\n",
       "        vertical-align: top;\n",
       "    }\n",
       "\n",
       "    .dataframe thead th {\n",
       "        text-align: right;\n",
       "    }\n",
       "</style>\n",
       "<table border=\"1\" class=\"dataframe\">\n",
       "  <thead>\n",
       "    <tr style=\"text-align: right;\">\n",
       "      <th></th>\n",
       "      <th>CAMEO_DEU_2015</th>\n",
       "      <th>CAMEO_DEUG_2015</th>\n",
       "      <th>CAMEO_INTL_2015</th>\n",
       "      <th>D19_LETZTER_KAUF_BRANCHE</th>\n",
       "      <th>EINGEFUEGT_AM</th>\n",
       "      <th>OST_WEST_KZ</th>\n",
       "    </tr>\n",
       "  </thead>\n",
       "  <tbody>\n",
       "    <tr>\n",
       "      <th>0</th>\n",
       "      <td>NaN</td>\n",
       "      <td>NaN</td>\n",
       "      <td>NaN</td>\n",
       "      <td>NaN</td>\n",
       "      <td>NaN</td>\n",
       "      <td>NaN</td>\n",
       "    </tr>\n",
       "    <tr>\n",
       "      <th>1</th>\n",
       "      <td>8A</td>\n",
       "      <td>8</td>\n",
       "      <td>51</td>\n",
       "      <td>NaN</td>\n",
       "      <td>1992-02-10 00:00:00</td>\n",
       "      <td>W</td>\n",
       "    </tr>\n",
       "    <tr>\n",
       "      <th>2</th>\n",
       "      <td>4C</td>\n",
       "      <td>4</td>\n",
       "      <td>24</td>\n",
       "      <td>D19_UNBEKANNT</td>\n",
       "      <td>1992-02-12 00:00:00</td>\n",
       "      <td>W</td>\n",
       "    </tr>\n",
       "    <tr>\n",
       "      <th>3</th>\n",
       "      <td>2A</td>\n",
       "      <td>2</td>\n",
       "      <td>12</td>\n",
       "      <td>D19_UNBEKANNT</td>\n",
       "      <td>1997-04-21 00:00:00</td>\n",
       "      <td>W</td>\n",
       "    </tr>\n",
       "    <tr>\n",
       "      <th>4</th>\n",
       "      <td>6B</td>\n",
       "      <td>6</td>\n",
       "      <td>43</td>\n",
       "      <td>D19_SCHUHE</td>\n",
       "      <td>1992-02-12 00:00:00</td>\n",
       "      <td>W</td>\n",
       "    </tr>\n",
       "  </tbody>\n",
       "</table>\n",
       "</div>"
      ],
      "text/plain": [
       "  CAMEO_DEU_2015 CAMEO_DEUG_2015 CAMEO_INTL_2015 D19_LETZTER_KAUF_BRANCHE  \\\n",
       "0            NaN             NaN             NaN                      NaN   \n",
       "1             8A               8              51                      NaN   \n",
       "2             4C               4              24            D19_UNBEKANNT   \n",
       "3             2A               2              12            D19_UNBEKANNT   \n",
       "4             6B               6              43               D19_SCHUHE   \n",
       "\n",
       "         EINGEFUEGT_AM OST_WEST_KZ  \n",
       "0                  NaN         NaN  \n",
       "1  1992-02-10 00:00:00           W  \n",
       "2  1992-02-12 00:00:00           W  \n",
       "3  1997-04-21 00:00:00           W  \n",
       "4  1992-02-12 00:00:00           W  "
      ]
     },
     "execution_count": 15,
     "metadata": {},
     "output_type": "execute_result"
    }
   ],
   "source": [
    "# Check object features\n",
    "azdias_objects = azdias.select_dtypes(include='object')\n",
    "azdias_objects.head()"
   ]
  },
  {
   "cell_type": "code",
   "execution_count": 16,
   "metadata": {},
   "outputs": [
    {
     "data": {
      "text/html": [
       "<div>\n",
       "<style scoped>\n",
       "    .dataframe tbody tr th:only-of-type {\n",
       "        vertical-align: middle;\n",
       "    }\n",
       "\n",
       "    .dataframe tbody tr th {\n",
       "        vertical-align: top;\n",
       "    }\n",
       "\n",
       "    .dataframe thead th {\n",
       "        text-align: right;\n",
       "    }\n",
       "</style>\n",
       "<table border=\"1\" class=\"dataframe\">\n",
       "  <thead>\n",
       "    <tr style=\"text-align: right;\">\n",
       "      <th></th>\n",
       "      <th>Information_level</th>\n",
       "      <th>Attribute</th>\n",
       "      <th>Description</th>\n",
       "      <th>Additional_notes</th>\n",
       "    </tr>\n",
       "  </thead>\n",
       "  <tbody>\n",
       "    <tr>\n",
       "      <th>83</th>\n",
       "      <td>NaN</td>\n",
       "      <td>OST_WEST_KZ</td>\n",
       "      <td>flag indicating the former GDR/FRG</td>\n",
       "      <td>NaN</td>\n",
       "    </tr>\n",
       "    <tr>\n",
       "      <th>85</th>\n",
       "      <td>Microcell (RR4_ID)</td>\n",
       "      <td>CAMEO_DEUG_2015</td>\n",
       "      <td>CAMEO_4.0: uppergroup</td>\n",
       "      <td>New German CAMEO Typology established together...</td>\n",
       "    </tr>\n",
       "    <tr>\n",
       "      <th>86</th>\n",
       "      <td>NaN</td>\n",
       "      <td>CAMEO_DEU_2015</td>\n",
       "      <td>CAMEO_4.0: specific group</td>\n",
       "      <td>NaN</td>\n",
       "    </tr>\n",
       "  </tbody>\n",
       "</table>\n",
       "</div>"
      ],
      "text/plain": [
       "     Information_level        Attribute                         Description  \\\n",
       "83                 NaN      OST_WEST_KZ  flag indicating the former GDR/FRG   \n",
       "85  Microcell (RR4_ID)  CAMEO_DEUG_2015               CAMEO_4.0: uppergroup   \n",
       "86                 NaN   CAMEO_DEU_2015           CAMEO_4.0: specific group   \n",
       "\n",
       "                                     Additional_notes  \n",
       "83                                                NaN  \n",
       "85  New German CAMEO Typology established together...  \n",
       "86                                                NaN  "
      ]
     },
     "execution_count": 16,
     "metadata": {},
     "output_type": "execute_result"
    }
   ],
   "source": [
    "dias_information_level[dias_information_level.Attribute.isin(azdias_objects.columns)]"
   ]
  },
  {
   "cell_type": "code",
   "execution_count": 17,
   "metadata": {},
   "outputs": [
    {
     "data": {
      "text/plain": [
       "NaN                       257113\n",
       "D19_UNBEKANNT             195338\n",
       "D19_VERSICHERUNGEN         57734\n",
       "D19_SONSTIGE               44722\n",
       "D19_VOLLSORTIMENT          34812\n",
       "D19_SCHUHE                 32578\n",
       "D19_BUCH_CD                28754\n",
       "D19_VERSAND_REST           26034\n",
       "D19_DROGERIEARTIKEL        24072\n",
       "D19_BANKEN_DIREKT          23273\n",
       "D19_BEKLEIDUNG_REST        21796\n",
       "D19_HAUS_DEKO              20858\n",
       "D19_TELKO_MOBILE           14447\n",
       "D19_ENERGIE                12084\n",
       "D19_TELKO_REST             11472\n",
       "D19_BANKEN_GROSS           10550\n",
       "D19_BEKLEIDUNG_GEH         10272\n",
       "D19_KINDERARTIKEL           7301\n",
       "D19_FREIZEIT                7257\n",
       "D19_TECHNIK                 7002\n",
       "D19_LEBENSMITTEL            6458\n",
       "D19_BANKEN_REST             5247\n",
       "D19_RATGEBER                4931\n",
       "D19_NAHRUNGSERGAENZUNG      4061\n",
       "D19_DIGIT_SERV              3577\n",
       "D19_REISEN                  3122\n",
       "D19_TIERARTIKEL             2578\n",
       "D19_SAMMELARTIKEL           2443\n",
       "D19_HANDWERK                2227\n",
       "D19_WEIN_FEINKOST           2164\n",
       "D19_GARTEN                  1646\n",
       "D19_BANKEN_LOKAL            1442\n",
       "D19_BIO_OEKO                1232\n",
       "D19_BILDUNG                  980\n",
       "D19_LOTTO                    839\n",
       "D19_KOSMETIK                 805\n",
       "Name: D19_LETZTER_KAUF_BRANCHE, dtype: int64"
      ]
     },
     "execution_count": 17,
     "metadata": {},
     "output_type": "execute_result"
    }
   ],
   "source": [
    "azdias_objects.D19_LETZTER_KAUF_BRANCHE.value_counts(dropna=False)"
   ]
  },
  {
   "cell_type": "code",
   "execution_count": 18,
   "metadata": {},
   "outputs": [
    {
     "data": {
      "text/plain": [
       "NaN     98979\n",
       "51      77576\n",
       "51.0    56118\n",
       "41      53459\n",
       "24      52882\n",
       "41.0    38877\n",
       "24.0    38276\n",
       "14      36524\n",
       "43      32730\n",
       "14.0    26360\n",
       "54      26207\n",
       "43.0    23942\n",
       "25      22837\n",
       "54.0    19184\n",
       "22      19173\n",
       "25.0    16791\n",
       "23      15653\n",
       "13      15272\n",
       "45      15206\n",
       "22.0    13982\n",
       "55      13842\n",
       "52      11836\n",
       "23.0    11097\n",
       "13.0    11064\n",
       "31      11041\n",
       "45.0    10926\n",
       "34      10737\n",
       "55.0    10113\n",
       "15       9832\n",
       "52.0     8706\n",
       "44       8543\n",
       "31.0     7983\n",
       "34.0     7787\n",
       "12       7645\n",
       "15.0     7142\n",
       "44.0     6277\n",
       "35       6090\n",
       "32       6067\n",
       "33       5833\n",
       "12.0     5604\n",
       "32.0     4287\n",
       "35.0     4266\n",
       "33.0     4102\n",
       "XX        373\n",
       "Name: CAMEO_INTL_2015, dtype: int64"
      ]
     },
     "execution_count": 18,
     "metadata": {},
     "output_type": "execute_result"
    }
   ],
   "source": [
    "azdias_objects.CAMEO_INTL_2015.value_counts(dropna=False)"
   ]
  },
  {
   "cell_type": "markdown",
   "metadata": {},
   "source": [
    "**Comment:**\n",
    "\"EINGEFUEGT_AM\" is a timestamp and hence we do not need it.\n",
    "Also \"D19_LETZTER_KAUF_BRANCHE\" contain some variable names and there is no information regarding in attribute files. So lets drop these two columns.\n",
    "\n",
    "LNR unique identifier for each row. Hence droping it too."
   ]
  },
  {
   "cell_type": "code",
   "execution_count": 19,
   "metadata": {},
   "outputs": [],
   "source": [
    "# Create List of columns to drop\n",
    "columns_to_drop = ['EINGEFUEGT_AM','D19_LETZTER_KAUF_BRANCHE']"
   ]
  },
  {
   "cell_type": "code",
   "execution_count": 20,
   "metadata": {},
   "outputs": [],
   "source": [
    "id_azdias_LNR =  azdias['LNR']\n",
    "azdias = azdias.drop('LNR', axis=1)"
   ]
  },
  {
   "cell_type": "markdown",
   "metadata": {},
   "source": [
    "### Step 1: Data Preprocessing\n",
    "\n"
   ]
  },
  {
   "cell_type": "markdown",
   "metadata": {},
   "source": [
    "###### 1.1 : Find columns with NaN values"
   ]
  },
  {
   "cell_type": "code",
   "execution_count": 21,
   "metadata": {},
   "outputs": [
    {
     "data": {
      "text/plain": [
       "ALTER_KIND4                    99.864792\n",
       "ALTER_KIND3                    99.307691\n",
       "ALTER_KIND2                    96.690047\n",
       "ALTER_KIND1                    90.904837\n",
       "EXTSEL992                      73.399639\n",
       "KK_KUNDENTYP                   65.596749\n",
       "ALTERSKATEGORIE_FEIN           29.504130\n",
       "D19_LOTTO                      28.849522\n",
       "D19_LETZTER_KAUF_BRANCHE       28.849522\n",
       "D19_VERSI_ONLINE_QUOTE_12      28.849522\n",
       "D19_KONSUMTYP                  28.849522\n",
       "D19_SOZIALES                   28.849522\n",
       "D19_GESAMT_ONLINE_QUOTE_12     28.849522\n",
       "D19_TELKO_ONLINE_QUOTE_12      28.849522\n",
       "D19_VERSAND_ONLINE_QUOTE_12    28.849522\n",
       "D19_BANKEN_ONLINE_QUOTE_12     28.849522\n",
       "KBA05_MAXSEG                   14.959701\n",
       "KBA05_MAXVORB                  14.959701\n",
       "KBA05_MOD1                     14.959701\n",
       "KBA05_SEG1                     14.959701\n",
       "KBA05_MAXHERST                 14.959701\n",
       "KBA05_MAXBJ                    14.959701\n",
       "KBA05_MAXAH                    14.959701\n",
       "KBA05_MOD2                     14.959701\n",
       "KBA05_MOD3                     14.959701\n",
       "KBA05_MOD4                     14.959701\n",
       "KBA05_KW3                      14.959701\n",
       "KBA05_MOD8                     14.959701\n",
       "KBA05_MOTOR                    14.959701\n",
       "KBA05_MOTRAD                   14.959701\n",
       "                                 ...    \n",
       "D19_RATGEBER                    0.000000\n",
       "FINANZ_ANLEGER                  0.000000\n",
       "D19_REISEN                      0.000000\n",
       "D19_SAMMELARTIKEL               0.000000\n",
       "D19_SCHUHE                      0.000000\n",
       "D19_SONSTIGE                    0.000000\n",
       "D19_TECHNIK                     0.000000\n",
       "D19_TELKO_ANZ_12                0.000000\n",
       "D19_TELKO_ANZ_24                0.000000\n",
       "D19_TELKO_DATUM                 0.000000\n",
       "D19_TELKO_MOBILE                0.000000\n",
       "D19_TELKO_OFFLINE_DATUM         0.000000\n",
       "D19_TELKO_ONLINE_DATUM          0.000000\n",
       "D19_TELKO_REST                  0.000000\n",
       "D19_TIERARTIKEL                 0.000000\n",
       "D19_VERSAND_ANZ_12              0.000000\n",
       "D19_VERSAND_ANZ_24              0.000000\n",
       "D19_VERSAND_DATUM               0.000000\n",
       "D19_VERSAND_OFFLINE_DATUM       0.000000\n",
       "D19_VERSAND_ONLINE_DATUM        0.000000\n",
       "D19_VERSAND_REST                0.000000\n",
       "D19_VERSI_ANZ_12                0.000000\n",
       "D19_VERSI_ANZ_24                0.000000\n",
       "D19_VERSI_DATUM                 0.000000\n",
       "D19_VERSI_OFFLINE_DATUM         0.000000\n",
       "D19_VERSI_ONLINE_DATUM          0.000000\n",
       "D19_VERSICHERUNGEN              0.000000\n",
       "D19_VOLLSORTIMENT               0.000000\n",
       "D19_WEIN_FEINKOST               0.000000\n",
       "AGER_TYP                        0.000000\n",
       "Length: 365, dtype: float64"
      ]
     },
     "execution_count": 21,
     "metadata": {},
     "output_type": "execute_result"
    }
   ],
   "source": [
    "# Count the number of nan values in each column\n",
    "azdias_null = azdias.isnull().sum()\n",
    "azdias_null_percent = azdias_null / len(azdias) * 100\n",
    "azdias_null_percent.sort_values(ascending=False)"
   ]
  },
  {
   "cell_type": "code",
   "execution_count": 22,
   "metadata": {},
   "outputs": [
    {
     "data": {
      "image/png": "[encoded data removed]",
      "text/plain": [
       "<Figure size 432x288 with 1 Axes>"
      ]
     },
     "metadata": {
      "needs_background": "light"
     },
     "output_type": "display_data"
    }
   ],
   "source": [
    "# Histogram of missing data in each column.\n",
    "plt.hist(azdias_null_percent, bins=10, facecolor='b', alpha=1)\n",
    "plt.xlabel('% of missing values')\n",
    "plt.ylabel('# of features')\n",
    "plt.title('Figure 1: Histogram showing null values in each column')\n",
    "plt.grid(True)\n",
    "plt.show()"
   ]
  },
  {
   "cell_type": "code",
   "execution_count": 23,
   "metadata": {},
   "outputs": [
    {
     "name": "stdout",
     "output_type": "stream",
     "text": [
      "ALTER_KIND1     90.904837\n",
      "ALTER_KIND2     96.690047\n",
      "ALTER_KIND3     99.307691\n",
      "ALTER_KIND4     99.864792\n",
      "EXTSEL992       73.399639\n",
      "KK_KUNDENTYP    65.596749\n",
      "dtype: float64\n"
     ]
    }
   ],
   "source": [
    "missing_col_filtered = azdias_null_percent[azdias_null_percent>30]\n",
    "print(missing_col_filtered)"
   ]
  },
  {
   "cell_type": "markdown",
   "metadata": {},
   "source": [
    "**Comment:**\n",
    "We can see that the 6 columns identified above have missing values greather than 30 %.\n"
   ]
  },
  {
   "cell_type": "code",
   "execution_count": 24,
   "metadata": {},
   "outputs": [
    {
     "data": {
      "text/plain": [
       "['EINGEFUEGT_AM',\n",
       " 'D19_LETZTER_KAUF_BRANCHE',\n",
       " 'ALTER_KIND1',\n",
       " 'ALTER_KIND2',\n",
       " 'ALTER_KIND3',\n",
       " 'ALTER_KIND4',\n",
       " 'EXTSEL992',\n",
       " 'KK_KUNDENTYP']"
      ]
     },
     "execution_count": 24,
     "metadata": {},
     "output_type": "execute_result"
    }
   ],
   "source": [
    "null_columns = azdias.loc[:,list((azdias_null_percent>=30))].columns\n",
    "#Add new column to drop in list\n",
    "columns_to_drop.extend(null_columns) \n",
    "columns_to_drop "
   ]
  },
  {
   "cell_type": "code",
   "execution_count": 25,
   "metadata": {},
   "outputs": [
    {
     "name": "stdout",
     "output_type": "stream",
     "text": [
      "azdias Shape before (891221, 365)\n",
      "azdias Shape after (891221, 357)\n"
     ]
    }
   ],
   "source": [
    "# Most of the values from 6 columns are null and difficult to impute so lets delete this 6 columns \n",
    "print(\"azdias Shape before\", azdias.shape)\n",
    "azdias = azdias.drop(columns_to_drop, axis=1)\n",
    "print(\"azdias Shape after\", azdias.shape)"
   ]
  },
  {
   "cell_type": "markdown",
   "metadata": {},
   "source": [
    "###### 1.2 : Find rows with NaN values\n",
    "\n",
    "First we will see how many rows contain null/missing values. Then divide the missing data into two subsets to find pattern and to decide what to do with it. First set is for data points that are above some threshold for null values, and a second subset for points below that threshold."
   ]
  },
  {
   "cell_type": "code",
   "execution_count": 26,
   "metadata": {},
   "outputs": [
    {
     "name": "stdout",
     "output_type": "stream",
     "text": [
      "Number of rows with NaN 424497\n",
      "55664     251\n",
      "537799    251\n",
      "350182    251\n",
      "826869    251\n",
      "373501    251\n",
      "739769    250\n",
      "23667     250\n",
      "347712    250\n",
      "716386    250\n",
      "522174    250\n",
      "629707    250\n",
      "255742    250\n",
      "5099      250\n",
      "332962    250\n",
      "140317    250\n",
      "57866     250\n",
      "475330    250\n",
      "228624    250\n",
      "765378    245\n",
      "765415    245\n",
      "851357    245\n",
      "374119    245\n",
      "374109    245\n",
      "374098    245\n",
      "373851    245\n",
      "374073    245\n",
      "374088    245\n",
      "765375    245\n",
      "374045    245\n",
      "374037    245\n",
      "         ... \n",
      "405146      0\n",
      "405147      0\n",
      "405148      0\n",
      "405149      0\n",
      "405152      0\n",
      "405153      0\n",
      "405155      0\n",
      "405156      0\n",
      "405157      0\n",
      "405158      0\n",
      "405159      0\n",
      "754461      0\n",
      "754460      0\n",
      "754459      0\n",
      "405166      0\n",
      "405167      0\n",
      "405168      0\n",
      "405169      0\n",
      "754457      0\n",
      "405171      0\n",
      "405172      0\n",
      "405173      0\n",
      "754455      0\n",
      "405175      0\n",
      "405177      0\n",
      "405179      0\n",
      "754451      0\n",
      "405184      0\n",
      "754449      0\n",
      "445610      0\n",
      "Length: 891221, dtype: int64\n"
     ]
    }
   ],
   "source": [
    "# Number of rows which null values\n",
    "print(\"Number of rows with NaN\", sum(azdias.isnull().any(axis=1)))\n",
    "row_nans = azdias.isnull().sum(axis=1)\n",
    "print(row_nans.sort_values(ascending=False))"
   ]
  },
  {
   "cell_type": "markdown",
   "metadata": {},
   "source": [
    "**Comment:**\n",
    "424497 records out of total 891221 records have atleast 1 null record. Its 47% of the data.\n",
    "so we will drop rows that have more than 40% of null data. Rows with more null values might affect machine learning algorithm."
   ]
  },
  {
   "cell_type": "code",
   "execution_count": 27,
   "metadata": {},
   "outputs": [
    {
     "name": "stdout",
     "output_type": "stream",
     "text": [
      "number of rows in old dataset:  891221\n",
      "number of rows in new dataset:  751331\n"
     ]
    }
   ],
   "source": [
    "print('number of rows in old dataset: ',azdias.shape[0])\n",
    "# Drop row that contains more than 40% of nan values\n",
    "azdias_40 = azdias[azdias.isnull().sum(axis=1) <= 40].reset_index(drop=True)\n",
    "print('number of rows in new dataset: ',azdias_40.shape[0])"
   ]
  },
  {
   "cell_type": "markdown",
   "metadata": {},
   "source": [
    "###### 1.3 : Remove correlated columns"
   ]
  },
  {
   "cell_type": "code",
   "execution_count": 28,
   "metadata": {},
   "outputs": [],
   "source": [
    "# Create correlation matrix\n",
    "corr_matrix = azdias_40.corr()"
   ]
  },
  {
   "cell_type": "code",
   "execution_count": 29,
   "metadata": {},
   "outputs": [
    {
     "data": {
      "text/html": [
       "<div>\n",
       "<style scoped>\n",
       "    .dataframe tbody tr th:only-of-type {\n",
       "        vertical-align: middle;\n",
       "    }\n",
       "\n",
       "    .dataframe tbody tr th {\n",
       "        vertical-align: top;\n",
       "    }\n",
       "\n",
       "    .dataframe thead th {\n",
       "        text-align: right;\n",
       "    }\n",
       "</style>\n",
       "<table border=\"1\" class=\"dataframe\">\n",
       "  <thead>\n",
       "    <tr style=\"text-align: right;\">\n",
       "      <th></th>\n",
       "      <th>Attribute</th>\n",
       "      <th>Description</th>\n",
       "      <th>Value</th>\n",
       "      <th>Meaning</th>\n",
       "    </tr>\n",
       "  </thead>\n",
       "  <tbody>\n",
       "    <tr>\n",
       "      <th>312</th>\n",
       "      <td>D19_GESAMT_ANZ_24</td>\n",
       "      <td>transaction activity TOTAL POOL in the last 24...</td>\n",
       "      <td>0</td>\n",
       "      <td>no transactions known</td>\n",
       "    </tr>\n",
       "    <tr>\n",
       "      <th>546</th>\n",
       "      <td>D19_VERSAND_ANZ_12</td>\n",
       "      <td>transaction activity MAIL-ORDER in the last 12...</td>\n",
       "      <td>0</td>\n",
       "      <td>no transactions known</td>\n",
       "    </tr>\n",
       "    <tr>\n",
       "      <th>553</th>\n",
       "      <td>D19_VERSAND_ANZ_24</td>\n",
       "      <td>transaction activity MAIL-ORDER in the last 24...</td>\n",
       "      <td>0</td>\n",
       "      <td>no transactions known</td>\n",
       "    </tr>\n",
       "    <tr>\n",
       "      <th>560</th>\n",
       "      <td>D19_VERSAND_DATUM</td>\n",
       "      <td>actuality of the last transaction for the segm...</td>\n",
       "      <td>1</td>\n",
       "      <td>highest activity within the last 12 months</td>\n",
       "    </tr>\n",
       "    <tr>\n",
       "      <th>580</th>\n",
       "      <td>D19_VERSAND_ONLINE_DATUM</td>\n",
       "      <td>actuality of the last transaction for the segm...</td>\n",
       "      <td>1</td>\n",
       "      <td>highest activity within the last 12 months</td>\n",
       "    </tr>\n",
       "    <tr>\n",
       "      <th>590</th>\n",
       "      <td>D19_VERSAND_ONLINE_QUOTE_12</td>\n",
       "      <td>amount of online transactions within all trans...</td>\n",
       "      <td>0</td>\n",
       "      <td>no Online-transactions within the last 12 months</td>\n",
       "    </tr>\n",
       "    <tr>\n",
       "      <th>929</th>\n",
       "      <td>KBA05_KRSHERST3</td>\n",
       "      <td>share of Ford/Opel (reffered to the county ave...</td>\n",
       "      <td>-1, 9</td>\n",
       "      <td>unknown</td>\n",
       "    </tr>\n",
       "    <tr>\n",
       "      <th>1089</th>\n",
       "      <td>KBA05_SEG9</td>\n",
       "      <td>share of vans in the microcell</td>\n",
       "      <td>-1, 9</td>\n",
       "      <td>unknown</td>\n",
       "    </tr>\n",
       "    <tr>\n",
       "      <th>1420</th>\n",
       "      <td>KBA13_HALTER_66</td>\n",
       "      <td>share of car owners over 66 within the PLZ8</td>\n",
       "      <td>-1</td>\n",
       "      <td>unknown</td>\n",
       "    </tr>\n",
       "    <tr>\n",
       "      <th>1462</th>\n",
       "      <td>KBA13_HERST_SONST</td>\n",
       "      <td>share of other cars within the PLZ8</td>\n",
       "      <td>-1</td>\n",
       "      <td>unknown</td>\n",
       "    </tr>\n",
       "    <tr>\n",
       "      <th>1511</th>\n",
       "      <td>KBA13_KMH_250</td>\n",
       "      <td>share of cars with max speed between 210 and 2...</td>\n",
       "      <td>-1</td>\n",
       "      <td>unknown</td>\n",
       "    </tr>\n",
       "    <tr>\n",
       "      <th>1903</th>\n",
       "      <td>LP_FAMILIE_GROB</td>\n",
       "      <td>familytyp rough</td>\n",
       "      <td>1</td>\n",
       "      <td>single</td>\n",
       "    </tr>\n",
       "    <tr>\n",
       "      <th>1914</th>\n",
       "      <td>LP_LEBENSPHASE_FEIN</td>\n",
       "      <td>lifestage fine</td>\n",
       "      <td>1</td>\n",
       "      <td>single low-income earners of younger age</td>\n",
       "    </tr>\n",
       "    <tr>\n",
       "      <th>1954</th>\n",
       "      <td>LP_LEBENSPHASE_GROB</td>\n",
       "      <td>lifestage rough</td>\n",
       "      <td>1</td>\n",
       "      <td>single low-income- and average earners of youn...</td>\n",
       "    </tr>\n",
       "    <tr>\n",
       "      <th>1976</th>\n",
       "      <td>LP_STATUS_GROB</td>\n",
       "      <td>social status rough</td>\n",
       "      <td>1</td>\n",
       "      <td>low-income earners</td>\n",
       "    </tr>\n",
       "    <tr>\n",
       "      <th>2016</th>\n",
       "      <td>PLZ8_ANTG1</td>\n",
       "      <td>number of 1-2 family houses in the PLZ8</td>\n",
       "      <td>-1</td>\n",
       "      <td>unknown</td>\n",
       "    </tr>\n",
       "    <tr>\n",
       "      <th>2028</th>\n",
       "      <td>PLZ8_ANTG3</td>\n",
       "      <td>number of 6-10 family houses in the PLZ8</td>\n",
       "      <td>-1</td>\n",
       "      <td>unknown</td>\n",
       "    </tr>\n",
       "    <tr>\n",
       "      <th>2037</th>\n",
       "      <td>PLZ8_BAUMAX</td>\n",
       "      <td>most common building-type within the PLZ8</td>\n",
       "      <td>1</td>\n",
       "      <td>mainly 1-2 family homes</td>\n",
       "    </tr>\n",
       "    <tr>\n",
       "      <th>2042</th>\n",
       "      <td>PLZ8_GBZ</td>\n",
       "      <td>number of buildings within the PLZ8</td>\n",
       "      <td>-1</td>\n",
       "      <td>unknown</td>\n",
       "    </tr>\n",
       "    <tr>\n",
       "      <th>2048</th>\n",
       "      <td>PLZ8_HHZ</td>\n",
       "      <td>number of households within the PLZ8</td>\n",
       "      <td>-1</td>\n",
       "      <td>unknown</td>\n",
       "    </tr>\n",
       "  </tbody>\n",
       "</table>\n",
       "</div>"
      ],
      "text/plain": [
       "                        Attribute  \\\n",
       "312             D19_GESAMT_ANZ_24   \n",
       "546            D19_VERSAND_ANZ_12   \n",
       "553            D19_VERSAND_ANZ_24   \n",
       "560             D19_VERSAND_DATUM   \n",
       "580      D19_VERSAND_ONLINE_DATUM   \n",
       "590   D19_VERSAND_ONLINE_QUOTE_12   \n",
       "929               KBA05_KRSHERST3   \n",
       "1089                   KBA05_SEG9   \n",
       "1420              KBA13_HALTER_66   \n",
       "1462            KBA13_HERST_SONST   \n",
       "1511                KBA13_KMH_250   \n",
       "1903              LP_FAMILIE_GROB   \n",
       "1914          LP_LEBENSPHASE_FEIN   \n",
       "1954          LP_LEBENSPHASE_GROB   \n",
       "1976               LP_STATUS_GROB   \n",
       "2016                   PLZ8_ANTG1   \n",
       "2028                   PLZ8_ANTG3   \n",
       "2037                  PLZ8_BAUMAX   \n",
       "2042                     PLZ8_GBZ   \n",
       "2048                     PLZ8_HHZ   \n",
       "\n",
       "                                            Description  Value  \\\n",
       "312   transaction activity TOTAL POOL in the last 24...      0   \n",
       "546   transaction activity MAIL-ORDER in the last 12...      0   \n",
       "553   transaction activity MAIL-ORDER in the last 24...      0   \n",
       "560   actuality of the last transaction for the segm...      1   \n",
       "580   actuality of the last transaction for the segm...      1   \n",
       "590   amount of online transactions within all trans...      0   \n",
       "929   share of Ford/Opel (reffered to the county ave...  -1, 9   \n",
       "1089                     share of vans in the microcell  -1, 9   \n",
       "1420        share of car owners over 66 within the PLZ8     -1   \n",
       "1462                share of other cars within the PLZ8     -1   \n",
       "1511  share of cars with max speed between 210 and 2...     -1   \n",
       "1903                                    familytyp rough      1   \n",
       "1914                                    lifestage fine       1   \n",
       "1954                                    lifestage rough      1   \n",
       "1976                                social status rough      1   \n",
       "2016            number of 1-2 family houses in the PLZ8     -1   \n",
       "2028           number of 6-10 family houses in the PLZ8     -1   \n",
       "2037          most common building-type within the PLZ8      1   \n",
       "2042                number of buildings within the PLZ8     -1   \n",
       "2048               number of households within the PLZ8     -1   \n",
       "\n",
       "                                                Meaning  \n",
       "312                               no transactions known  \n",
       "546                               no transactions known  \n",
       "553                               no transactions known  \n",
       "560          highest activity within the last 12 months  \n",
       "580          highest activity within the last 12 months  \n",
       "590    no Online-transactions within the last 12 months  \n",
       "929                                             unknown  \n",
       "1089                                            unknown  \n",
       "1420                                            unknown  \n",
       "1462                                            unknown  \n",
       "1511                                            unknown  \n",
       "1903                                            single   \n",
       "1914           single low-income earners of younger age  \n",
       "1954  single low-income- and average earners of youn...  \n",
       "1976                                 low-income earners  \n",
       "2016                                            unknown  \n",
       "2028                                            unknown  \n",
       "2037                            mainly 1-2 family homes  \n",
       "2042                                            unknown  \n",
       "2048                                            unknown  "
      ]
     },
     "execution_count": 29,
     "metadata": {},
     "output_type": "execute_result"
    }
   ],
   "source": [
    "# Select upper triangle of correlation matrix\n",
    "upper = corr_matrix.where(np.triu(np.ones(corr_matrix.shape), k=1).astype(np.bool))\n",
    "\n",
    "# Find index of feature columns with correlation greater than 0.95\n",
    "to_drop = [column for column in upper.columns if any(upper[column] > 0.90)]\n",
    "dias_attributes[dias_attributes['Attribute'].isin(to_drop)]"
   ]
  },
  {
   "cell_type": "code",
   "execution_count": 30,
   "metadata": {},
   "outputs": [
    {
     "name": "stdout",
     "output_type": "stream",
     "text": [
      "(751331, 357)\n",
      "(751331, 336)\n"
     ]
    }
   ],
   "source": [
    "# Drop correlated features \n",
    "print(azdias_40.shape)\n",
    "azdias_df = azdias_40.drop(to_drop, axis=1)\n",
    "print(azdias_df.shape)"
   ]
  },
  {
   "cell_type": "code",
   "execution_count": 31,
   "metadata": {},
   "outputs": [],
   "source": [
    "#columns_to_drop list will give us all the channels that have been deleted from Azdias\n",
    "# need to be dropped from customers\n",
    "columns_to_drop.extend(to_drop) \n",
    "drop_df = pd.DataFrame(columns_to_drop, columns =['column_names']) \n",
    "drop_df.to_csv('column_to be dropped.csv')"
   ]
  },
  {
   "cell_type": "code",
   "execution_count": 32,
   "metadata": {},
   "outputs": [],
   "source": [
    "#Dropping Unique identifiers for customers\n",
    "id_customers_LNR =  customers['LNR']\n",
    "customers = customers.drop('LNR', axis=1)"
   ]
  },
  {
   "cell_type": "code",
   "execution_count": 33,
   "metadata": {},
   "outputs": [
    {
     "name": "stdout",
     "output_type": "stream",
     "text": [
      "customers Shape before (191652, 368)\n",
      "customers Shape after (191652, 339)\n"
     ]
    }
   ],
   "source": [
    "print(\"customers Shape before\", customers.shape)\n",
    "customers_df = customers.drop(columns_to_drop, axis=1)\n",
    "print(\"customers Shape after\", customers_df.shape)"
   ]
  },
  {
   "cell_type": "code",
   "execution_count": 34,
   "metadata": {},
   "outputs": [
    {
     "name": "stdout",
     "output_type": "stream",
     "text": [
      "customers Shape after (191652, 336)\n"
     ]
    }
   ],
   "source": [
    "# Customer also have 3 extra columns of customers dataset.\n",
    "customers_df = customers_df.drop(columns=['CUSTOMER_GROUP', 'ONLINE_PURCHASE', 'PRODUCT_GROUP'], axis=1)\n",
    "print(\"customers Shape after\", customers_df.shape)"
   ]
  },
  {
   "cell_type": "markdown",
   "metadata": {},
   "source": [
    "#### 1.4 : encoding"
   ]
  },
  {
   "cell_type": "code",
   "execution_count": 35,
   "metadata": {},
   "outputs": [
    {
     "name": "stdout",
     "output_type": "stream",
     "text": [
      "numeric columns:  332\n",
      "categorical columns:  ['CAMEO_DEU_2015', 'CAMEO_INTL_2015', 'CAMEO_DEUG_2015', 'OST_WEST_KZ']\n"
     ]
    }
   ],
   "source": [
    "#feature types, separate numeric columns from categorical\n",
    "\n",
    "cols = azdias_df.columns\n",
    "num_cols = azdias_df._get_numeric_data().columns\n",
    "print('numeric columns: ',len(num_cols))\n",
    "#get categorical columns\n",
    "print('categorical columns: ',list(set(cols) - set(num_cols)))"
   ]
  },
  {
   "cell_type": "code",
   "execution_count": 36,
   "metadata": {},
   "outputs": [
    {
     "data": {
      "text/html": [
       "<div>\n",
       "<style scoped>\n",
       "    .dataframe tbody tr th:only-of-type {\n",
       "        vertical-align: middle;\n",
       "    }\n",
       "\n",
       "    .dataframe tbody tr th {\n",
       "        vertical-align: top;\n",
       "    }\n",
       "\n",
       "    .dataframe thead th {\n",
       "        text-align: right;\n",
       "    }\n",
       "</style>\n",
       "<table border=\"1\" class=\"dataframe\">\n",
       "  <thead>\n",
       "    <tr style=\"text-align: right;\">\n",
       "      <th></th>\n",
       "      <th>CAMEO_INTL_2015</th>\n",
       "      <th>OST_WEST_KZ</th>\n",
       "      <th>CAMEO_DEU_2015</th>\n",
       "      <th>CAMEO_DEUG_2015</th>\n",
       "    </tr>\n",
       "  </thead>\n",
       "  <tbody>\n",
       "    <tr>\n",
       "      <th>0</th>\n",
       "      <td>51</td>\n",
       "      <td>W</td>\n",
       "      <td>8A</td>\n",
       "      <td>8</td>\n",
       "    </tr>\n",
       "    <tr>\n",
       "      <th>1</th>\n",
       "      <td>24</td>\n",
       "      <td>W</td>\n",
       "      <td>4C</td>\n",
       "      <td>4</td>\n",
       "    </tr>\n",
       "    <tr>\n",
       "      <th>2</th>\n",
       "      <td>12</td>\n",
       "      <td>W</td>\n",
       "      <td>2A</td>\n",
       "      <td>2</td>\n",
       "    </tr>\n",
       "    <tr>\n",
       "      <th>3</th>\n",
       "      <td>43</td>\n",
       "      <td>W</td>\n",
       "      <td>6B</td>\n",
       "      <td>6</td>\n",
       "    </tr>\n",
       "    <tr>\n",
       "      <th>4</th>\n",
       "      <td>54</td>\n",
       "      <td>W</td>\n",
       "      <td>8C</td>\n",
       "      <td>8</td>\n",
       "    </tr>\n",
       "  </tbody>\n",
       "</table>\n",
       "</div>"
      ],
      "text/plain": [
       "  CAMEO_INTL_2015 OST_WEST_KZ CAMEO_DEU_2015 CAMEO_DEUG_2015\n",
       "0              51           W             8A               8\n",
       "1              24           W             4C               4\n",
       "2              12           W             2A               2\n",
       "3              43           W             6B               6\n",
       "4              54           W             8C               8"
      ]
     },
     "execution_count": 36,
     "metadata": {},
     "output_type": "execute_result"
    }
   ],
   "source": [
    "azdias_df[['CAMEO_INTL_2015', 'OST_WEST_KZ', 'CAMEO_DEU_2015','CAMEO_DEUG_2015']].head()"
   ]
  },
  {
   "cell_type": "markdown",
   "metadata": {},
   "source": [
    "###### 1.4.1 : encoding - OST_WEST_KZ"
   ]
  },
  {
   "cell_type": "code",
   "execution_count": 37,
   "metadata": {},
   "outputs": [
    {
     "data": {
      "text/plain": [
       "W    591679\n",
       "O    159652\n",
       "Name: OST_WEST_KZ, dtype: int64"
      ]
     },
     "execution_count": 37,
     "metadata": {},
     "output_type": "execute_result"
    }
   ],
   "source": [
    "azdias_df.OST_WEST_KZ.value_counts(dropna=False)"
   ]
  },
  {
   "cell_type": "code",
   "execution_count": 38,
   "metadata": {},
   "outputs": [
    {
     "data": {
      "text/plain": [
       "1    591679\n",
       "2    159652\n",
       "Name: OST_WEST_KZ, dtype: int64"
      ]
     },
     "execution_count": 38,
     "metadata": {},
     "output_type": "execute_result"
    }
   ],
   "source": [
    "# Encode OST_WEST_KZ as dummy variable\n",
    "azdias_df['OST_WEST_KZ'] = azdias_df['OST_WEST_KZ'].map({'W': 1, 'O': 2})\n",
    "azdias_df.OST_WEST_KZ.value_counts(dropna=False)"
   ]
  },
  {
   "cell_type": "code",
   "execution_count": 39,
   "metadata": {},
   "outputs": [
    {
     "data": {
      "text/plain": [
       " 1.0    130382\n",
       "NaN      49927\n",
       " 2.0     11343\n",
       "Name: OST_WEST_KZ, dtype: int64"
      ]
     },
     "execution_count": 39,
     "metadata": {},
     "output_type": "execute_result"
    }
   ],
   "source": [
    "#Applying same encoding operation on customers_df which we did on azdias_df\n",
    "customers_df['OST_WEST_KZ'] = customers_df['OST_WEST_KZ'].map({'W': 1, 'O': 2})\n",
    "customers_df.OST_WEST_KZ.value_counts(dropna=False)"
   ]
  },
  {
   "cell_type": "markdown",
   "metadata": {},
   "source": [
    "###### 1.4.2  : encoding -CAMEO_INTL_2015, CAMEO_DEU_2015, CAMEO_DEUG_2015"
   ]
  },
  {
   "cell_type": "code",
   "execution_count": 40,
   "metadata": {},
   "outputs": [
    {
     "data": {
      "text/html": [
       "<div>\n",
       "<style scoped>\n",
       "    .dataframe tbody tr th:only-of-type {\n",
       "        vertical-align: middle;\n",
       "    }\n",
       "\n",
       "    .dataframe tbody tr th {\n",
       "        vertical-align: top;\n",
       "    }\n",
       "\n",
       "    .dataframe thead th {\n",
       "        text-align: right;\n",
       "    }\n",
       "</style>\n",
       "<table border=\"1\" class=\"dataframe\">\n",
       "  <thead>\n",
       "    <tr style=\"text-align: right;\">\n",
       "      <th></th>\n",
       "      <th>Attribute</th>\n",
       "      <th>Description</th>\n",
       "      <th>Value</th>\n",
       "      <th>Meaning</th>\n",
       "    </tr>\n",
       "  </thead>\n",
       "  <tbody>\n",
       "    <tr>\n",
       "      <th>51</th>\n",
       "      <td>CAMEO_DEUG_2015</td>\n",
       "      <td>CAMEO classification 2015 - Uppergroup</td>\n",
       "      <td>-1</td>\n",
       "      <td>unknown</td>\n",
       "    </tr>\n",
       "  </tbody>\n",
       "</table>\n",
       "</div>"
      ],
      "text/plain": [
       "          Attribute                             Description Value  Meaning\n",
       "51  CAMEO_DEUG_2015  CAMEO classification 2015 - Uppergroup    -1  unknown"
      ]
     },
     "execution_count": 40,
     "metadata": {},
     "output_type": "execute_result"
    }
   ],
   "source": [
    "dias_attributes[dias_attributes['Attribute'].isin(['CAMEO_DEUG_2015','CAMEO_DEUG_2015', 'CAMEO_INTL_2015'])]"
   ]
  },
  {
   "cell_type": "code",
   "execution_count": 41,
   "metadata": {},
   "outputs": [
    {
     "data": {
      "text/plain": [
       "6B     54368\n",
       "8A     51517\n",
       "4C     44224\n",
       "2D     33024\n",
       "7A     32939\n",
       "3C     32772\n",
       "3D     32495\n",
       "8B     32227\n",
       "8C     30425\n",
       "4A     30311\n",
       "9D     27919\n",
       "9B     27072\n",
       "9C     24418\n",
       "7B     23533\n",
       "9A     20203\n",
       "2C     17825\n",
       "8D     17220\n",
       "6E     15721\n",
       "5D     14265\n",
       "6C     14206\n",
       "2B     14134\n",
       "2A     11933\n",
       "1D     11485\n",
       "1A     10215\n",
       "5A      9786\n",
       "5B      9723\n",
       "5C      9092\n",
       "7C      8762\n",
       "4B      8308\n",
       "4D      8115\n",
       "6A      6501\n",
       "3A      5899\n",
       "6D      5851\n",
       "3B      5716\n",
       "9E      5629\n",
       "6F      5126\n",
       "7D      5104\n",
       "4E      5034\n",
       "1E      4799\n",
       "7E      4431\n",
       "5F      4090\n",
       "1C      4048\n",
       "1B      3846\n",
       "5E      3415\n",
       "NaN     3316\n",
       "XX       289\n",
       "Name: CAMEO_DEU_2015, dtype: int64"
      ]
     },
     "execution_count": 41,
     "metadata": {},
     "output_type": "execute_result"
    }
   ],
   "source": [
    "azdias_df.CAMEO_DEU_2015.value_counts(dropna=False)"
   ]
  },
  {
   "cell_type": "code",
   "execution_count": 42,
   "metadata": {},
   "outputs": [
    {
     "data": {
      "text/plain": [
       "8      76227\n",
       "9      60866\n",
       "6      58851\n",
       "4      55529\n",
       "8.0    55162\n",
       "2      44594\n",
       "3      44523\n",
       "9.0    44375\n",
       "7      43192\n",
       "6.0    42922\n",
       "4.0    40463\n",
       "3.0    32359\n",
       "2.0    32322\n",
       "7.0    31577\n",
       "5      29369\n",
       "5.0    21002\n",
       "1      19936\n",
       "1.0    14457\n",
       "NaN     3316\n",
       "X        289\n",
       "Name: CAMEO_DEUG_2015, dtype: int64"
      ]
     },
     "execution_count": 42,
     "metadata": {},
     "output_type": "execute_result"
    }
   ],
   "source": [
    "azdias_df.CAMEO_DEUG_2015.value_counts(dropna=False)"
   ]
  },
  {
   "cell_type": "code",
   "execution_count": 43,
   "metadata": {},
   "outputs": [
    {
     "data": {
      "text/plain": [
       "51      75961\n",
       "51.0    54965\n",
       "41      51362\n",
       "24      49388\n",
       "41.0    37337\n",
       "24.0    35723\n",
       "14      34151\n",
       "43      31376\n",
       "54      25574\n",
       "14.0    24592\n",
       "43.0    22992\n",
       "25      21597\n",
       "54.0    18717\n",
       "22      17454\n",
       "25.0    15932\n",
       "45      14710\n",
       "13      14087\n",
       "55      13167\n",
       "22.0    12857\n",
       "52      11639\n",
       "23      11613\n",
       "45.0    10568\n",
       "13.0    10262\n",
       "34      10250\n",
       "55.0     9682\n",
       "31       9419\n",
       "15       9415\n",
       "52.0     8564\n",
       "23.0     8310\n",
       "44       8178\n",
       "34.0     7430\n",
       "12       6877\n",
       "15.0     6869\n",
       "31.0     6868\n",
       "44.0     6028\n",
       "35       5840\n",
       "32       5693\n",
       "33       5336\n",
       "12.0     5056\n",
       "35.0     4101\n",
       "32.0     4030\n",
       "33.0     3756\n",
       "NaN      3316\n",
       "XX        289\n",
       "Name: CAMEO_INTL_2015, dtype: int64"
      ]
     },
     "execution_count": 43,
     "metadata": {},
     "output_type": "execute_result"
    }
   ],
   "source": [
    "azdias_df.CAMEO_INTL_2015.value_counts(dropna=False)"
   ]
  },
  {
   "cell_type": "code",
   "execution_count": 44,
   "metadata": {},
   "outputs": [],
   "source": [
    "def clean_object_type_columns(df):\n",
    "    '''\n",
    "    df = df[~df.CAMEO_INTL_2015.isin(['XX'])]\n",
    "    df = df[~df.CAMEO_DEU_2015.isin(['XX'])]\n",
    "    df = df[~df.CAMEO_DEUG_2015.isin(['X'])]\n",
    "    '''\n",
    "    df[['CAMEO_DEUG_2015','CAMEO_DEU_2015','CAMEO_INTL_2015']] = df[['CAMEO_DEUG_2015','CAMEO_DEU_2015','CAMEO_INTL_2015']].replace(['XX','X'],-1)\n",
    "    df[['CAMEO_DEUG_2015','CAMEO_DEU_2015','CAMEO_INTL_2015']] = df[['CAMEO_DEUG_2015','CAMEO_DEU_2015','CAMEO_INTL_2015']].fillna(-1)\n",
    "    \n",
    "    df[['CAMEO_DEUG_2015','CAMEO_DEU_2015','CAMEO_INTL_2015']] = df[['CAMEO_DEUG_2015','CAMEO_DEU_2015','CAMEO_INTL_2015']].replace({-1: np.nan})\n",
    "    \n",
    "    df['CAMEO_INTL_2015_1s'] = df['CAMEO_INTL_2015'].astype(str).str[0]\n",
    "    df['CAMEO_INTL_2015_10s'] = df['CAMEO_INTL_2015'].astype(str).str[1]\n",
    "    \n",
    "    df['CAMEO_INTL_2015_1s'] = df['CAMEO_INTL_2015_1s'].replace({'n': np.nan})\n",
    "    df['CAMEO_INTL_2015_10s'] = df['CAMEO_INTL_2015_10s'].replace({'a': np.nan})\n",
    "    \n",
    "    df = df.drop('CAMEO_INTL_2015', axis=1)\n",
    "    \n",
    "    df['CAMEO_DEUG_2015'] = df['CAMEO_DEUG_2015'].astype(float).astype(object)\n",
    "    \n",
    "    return df"
   ]
  },
  {
   "cell_type": "code",
   "execution_count": 45,
   "metadata": {},
   "outputs": [
    {
     "data": {
      "text/plain": [
       "(751331, 337)"
      ]
     },
     "execution_count": 45,
     "metadata": {},
     "output_type": "execute_result"
    }
   ],
   "source": [
    "complete_azdias_df = clean_object_type_columns(azdias_df)\n",
    "complete_azdias_df.shape"
   ]
  },
  {
   "cell_type": "code",
   "execution_count": 46,
   "metadata": {},
   "outputs": [
    {
     "data": {
      "text/plain": [
       "(191652, 337)"
      ]
     },
     "execution_count": 46,
     "metadata": {},
     "output_type": "execute_result"
    }
   ],
   "source": [
    "complete_customers_df = clean_object_type_columns(customers_df)\n",
    "complete_customers_df.shape"
   ]
  },
  {
   "cell_type": "code",
   "execution_count": 47,
   "metadata": {},
   "outputs": [
    {
     "data": {
      "text/html": [
       "<div>\n",
       "<style scoped>\n",
       "    .dataframe tbody tr th:only-of-type {\n",
       "        vertical-align: middle;\n",
       "    }\n",
       "\n",
       "    .dataframe tbody tr th {\n",
       "        vertical-align: top;\n",
       "    }\n",
       "\n",
       "    .dataframe thead th {\n",
       "        text-align: right;\n",
       "    }\n",
       "</style>\n",
       "<table border=\"1\" class=\"dataframe\">\n",
       "  <thead>\n",
       "    <tr style=\"text-align: right;\">\n",
       "      <th></th>\n",
       "      <th>CAMEO_DEU_2015</th>\n",
       "      <th>CAMEO_DEUG_2015</th>\n",
       "      <th>CAMEO_INTL_2015_1s</th>\n",
       "      <th>CAMEO_INTL_2015_10s</th>\n",
       "    </tr>\n",
       "  </thead>\n",
       "  <tbody>\n",
       "    <tr>\n",
       "      <th>0</th>\n",
       "      <td>1A</td>\n",
       "      <td>1</td>\n",
       "      <td>1</td>\n",
       "      <td>3</td>\n",
       "    </tr>\n",
       "    <tr>\n",
       "      <th>1</th>\n",
       "      <td>NaN</td>\n",
       "      <td>NaN</td>\n",
       "      <td>NaN</td>\n",
       "      <td>NaN</td>\n",
       "    </tr>\n",
       "    <tr>\n",
       "      <th>2</th>\n",
       "      <td>5D</td>\n",
       "      <td>5</td>\n",
       "      <td>3</td>\n",
       "      <td>4</td>\n",
       "    </tr>\n",
       "    <tr>\n",
       "      <th>3</th>\n",
       "      <td>4C</td>\n",
       "      <td>4</td>\n",
       "      <td>2</td>\n",
       "      <td>4</td>\n",
       "    </tr>\n",
       "    <tr>\n",
       "      <th>4</th>\n",
       "      <td>7B</td>\n",
       "      <td>7</td>\n",
       "      <td>4</td>\n",
       "      <td>1</td>\n",
       "    </tr>\n",
       "    <tr>\n",
       "      <th>5</th>\n",
       "      <td>5D</td>\n",
       "      <td>5</td>\n",
       "      <td>3</td>\n",
       "      <td>4</td>\n",
       "    </tr>\n",
       "    <tr>\n",
       "      <th>6</th>\n",
       "      <td>3B</td>\n",
       "      <td>3</td>\n",
       "      <td>2</td>\n",
       "      <td>3</td>\n",
       "    </tr>\n",
       "    <tr>\n",
       "      <th>7</th>\n",
       "      <td>1D</td>\n",
       "      <td>1</td>\n",
       "      <td>1</td>\n",
       "      <td>5</td>\n",
       "    </tr>\n",
       "    <tr>\n",
       "      <th>8</th>\n",
       "      <td>9E</td>\n",
       "      <td>9</td>\n",
       "      <td>5</td>\n",
       "      <td>5</td>\n",
       "    </tr>\n",
       "    <tr>\n",
       "      <th>9</th>\n",
       "      <td>1D</td>\n",
       "      <td>1</td>\n",
       "      <td>1</td>\n",
       "      <td>5</td>\n",
       "    </tr>\n",
       "  </tbody>\n",
       "</table>\n",
       "</div>"
      ],
      "text/plain": [
       "  CAMEO_DEU_2015 CAMEO_DEUG_2015 CAMEO_INTL_2015_1s CAMEO_INTL_2015_10s\n",
       "0             1A               1                  1                   3\n",
       "1            NaN             NaN                NaN                 NaN\n",
       "2             5D               5                  3                   4\n",
       "3             4C               4                  2                   4\n",
       "4             7B               7                  4                   1\n",
       "5             5D               5                  3                   4\n",
       "6             3B               3                  2                   3\n",
       "7             1D               1                  1                   5\n",
       "8             9E               9                  5                   5\n",
       "9             1D               1                  1                   5"
      ]
     },
     "execution_count": 47,
     "metadata": {},
     "output_type": "execute_result"
    }
   ],
   "source": [
    "# Check object features\n",
    "complete_customers_df.select_dtypes(include='object').head(10)"
   ]
  },
  {
   "cell_type": "code",
   "execution_count": 48,
   "metadata": {},
   "outputs": [
    {
     "data": {
      "text/plain": [
       "Index(['AGER_TYP', 'AKT_DAT_KL', 'ALTER_HH', 'ALTERSKATEGORIE_FEIN',\n",
       "       'ANZ_HAUSHALTE_AKTIV', 'ANZ_HH_TITEL', 'ANZ_KINDER', 'ANZ_PERSONEN',\n",
       "       'ANZ_TITEL', 'ARBEIT',\n",
       "       ...\n",
       "       'CAMEO_INTL_2015_1s_1', 'CAMEO_INTL_2015_1s_2', 'CAMEO_INTL_2015_1s_3',\n",
       "       'CAMEO_INTL_2015_1s_4', 'CAMEO_INTL_2015_1s_5', 'CAMEO_INTL_2015_10s_1',\n",
       "       'CAMEO_INTL_2015_10s_2', 'CAMEO_INTL_2015_10s_3',\n",
       "       'CAMEO_INTL_2015_10s_4', 'CAMEO_INTL_2015_10s_5'],\n",
       "      dtype='object', length=396)"
      ]
     },
     "execution_count": 48,
     "metadata": {},
     "output_type": "execute_result"
    }
   ],
   "source": [
    "# Get the dummies for object type attributes\n",
    "complete_azdias_df = pd.get_dummies(complete_azdias_df)\n",
    "complete_azdias_df.columns"
   ]
  },
  {
   "cell_type": "code",
   "execution_count": 49,
   "metadata": {},
   "outputs": [
    {
     "data": {
      "text/plain": [
       "['CAMEO_DEUG_2015_1.0',\n",
       " 'CAMEO_DEUG_2015_2.0',\n",
       " 'CAMEO_DEUG_2015_3.0',\n",
       " 'CAMEO_DEUG_2015_4.0',\n",
       " 'CAMEO_DEUG_2015_5.0',\n",
       " 'CAMEO_DEUG_2015_6.0',\n",
       " 'CAMEO_DEUG_2015_7.0',\n",
       " 'CAMEO_DEUG_2015_8.0',\n",
       " 'CAMEO_DEUG_2015_9.0']"
      ]
     },
     "execution_count": 49,
     "metadata": {},
     "output_type": "execute_result"
    }
   ],
   "source": [
    "[col for col in complete_azdias_df if col.startswith('CAMEO_DEUG_2015')]"
   ]
  },
  {
   "cell_type": "code",
   "execution_count": 50,
   "metadata": {},
   "outputs": [
    {
     "data": {
      "text/plain": [
       "Index(['AGER_TYP', 'AKT_DAT_KL', 'ALTER_HH', 'ALTERSKATEGORIE_FEIN',\n",
       "       'ANZ_HAUSHALTE_AKTIV', 'ANZ_HH_TITEL', 'ANZ_KINDER', 'ANZ_PERSONEN',\n",
       "       'ANZ_TITEL', 'ARBEIT',\n",
       "       ...\n",
       "       'CAMEO_INTL_2015_1s_1', 'CAMEO_INTL_2015_1s_2', 'CAMEO_INTL_2015_1s_3',\n",
       "       'CAMEO_INTL_2015_1s_4', 'CAMEO_INTL_2015_1s_5', 'CAMEO_INTL_2015_10s_1',\n",
       "       'CAMEO_INTL_2015_10s_2', 'CAMEO_INTL_2015_10s_3',\n",
       "       'CAMEO_INTL_2015_10s_4', 'CAMEO_INTL_2015_10s_5'],\n",
       "      dtype='object', length=396)"
      ]
     },
     "execution_count": 50,
     "metadata": {},
     "output_type": "execute_result"
    }
   ],
   "source": [
    "# Get the dummies for object type attributes\n",
    "complete_customers_df = pd.get_dummies(complete_customers_df)\n",
    "complete_customers_df.columns"
   ]
  },
  {
   "cell_type": "code",
   "execution_count": 51,
   "metadata": {},
   "outputs": [
    {
     "data": {
      "text/plain": [
       "['CAMEO_DEUG_2015_1.0',\n",
       " 'CAMEO_DEUG_2015_2.0',\n",
       " 'CAMEO_DEUG_2015_3.0',\n",
       " 'CAMEO_DEUG_2015_4.0',\n",
       " 'CAMEO_DEUG_2015_5.0',\n",
       " 'CAMEO_DEUG_2015_6.0',\n",
       " 'CAMEO_DEUG_2015_7.0',\n",
       " 'CAMEO_DEUG_2015_8.0',\n",
       " 'CAMEO_DEUG_2015_9.0']"
      ]
     },
     "execution_count": 51,
     "metadata": {},
     "output_type": "execute_result"
    }
   ],
   "source": [
    "[col for col in complete_customers_df if col.startswith('CAMEO_DEUG_2015')]"
   ]
  },
  {
   "cell_type": "markdown",
   "metadata": {},
   "source": [
    "###### 1.5 : Impute in place of NaN"
   ]
  },
  {
   "cell_type": "code",
   "execution_count": 52,
   "metadata": {},
   "outputs": [
    {
     "data": {
      "text/plain": [
       "284083"
      ]
     },
     "execution_count": 52,
     "metadata": {},
     "output_type": "execute_result"
    }
   ],
   "source": [
    "sum(complete_azdias_df.isnull().any(axis=1))"
   ]
  },
  {
   "cell_type": "code",
   "execution_count": 53,
   "metadata": {},
   "outputs": [
    {
     "data": {
      "text/plain": [
       "72653"
      ]
     },
     "execution_count": 53,
     "metadata": {},
     "output_type": "execute_result"
    }
   ],
   "source": [
    "sum(complete_customers_df.isnull().any(axis=1))"
   ]
  },
  {
   "cell_type": "code",
   "execution_count": 54,
   "metadata": {},
   "outputs": [
    {
     "data": {
      "text/plain": [
       "0"
      ]
     },
     "execution_count": 54,
     "metadata": {},
     "output_type": "execute_result"
    }
   ],
   "source": [
    "# impute NaN values using sklearn library  in general.\n",
    "imputer_azdias = SimpleImputer()\n",
    "imputer_azdias = imputer_azdias.fit(complete_azdias_df)\n",
    "imputed_azdias = imputer_azdias.transform(complete_azdias_df)\n",
    "imputed_azdias_df = pd.DataFrame(imputed_azdias)\n",
    "sum(imputed_azdias_df.isnull().any(axis=1))"
   ]
  },
  {
   "cell_type": "code",
   "execution_count": 55,
   "metadata": {},
   "outputs": [
    {
     "data": {
      "text/plain": [
       "0"
      ]
     },
     "execution_count": 55,
     "metadata": {},
     "output_type": "execute_result"
    }
   ],
   "source": [
    "# impute NaN values using sklearn library in customer \n",
    "imputer_customers = SimpleImputer()\n",
    "imputer_customers = imputer_customers.fit(complete_customers_df)\n",
    "imputed_customer = imputer_customers.transform(complete_customers_df)\n",
    "imputed_customers_df = pd.DataFrame(imputed_customer)\n",
    "sum(imputed_customers_df.isnull().any(axis=1))"
   ]
  },
  {
   "cell_type": "markdown",
   "metadata": {},
   "source": [
    "###### 1.6 : Scaling"
   ]
  },
  {
   "cell_type": "code",
   "execution_count": 56,
   "metadata": {},
   "outputs": [],
   "source": [
    "# scale the azdias data\n",
    "scale_azdias_obj = StandardScaler(copy=False)\n",
    "scale_azdias_obj = scale_azdias_obj.fit(imputed_azdias_df)\n",
    "imputed_azdias_df[imputed_azdias_df.columns] = scale_azdias_obj.transform(imputed_azdias_df)"
   ]
  },
  {
   "cell_type": "code",
   "execution_count": 57,
   "metadata": {},
   "outputs": [],
   "source": [
    "# scale the customers data\n",
    "scale_customers_obj = StandardScaler(copy=False)\n",
    "scale_customers_obj = scale_customers_obj.fit(imputed_customers_df)\n",
    "imputed_customers_df[imputed_customers_df.columns] = scale_customers_obj.transform(imputed_customers_df)"
   ]
  },
  {
   "cell_type": "markdown",
   "metadata": {},
   "source": [
    "###### 1.6 : PCA"
   ]
  },
  {
   "cell_type": "code",
   "execution_count": 58,
   "metadata": {},
   "outputs": [
    {
     "data": {
      "image/png": "[encoded data removed]",
      "text/plain": [
       "<Figure size 432x288 with 1 Axes>"
      ]
     },
     "metadata": {
      "needs_background": "light"
     },
     "output_type": "display_data"
    }
   ],
   "source": [
    "#We still have 397 dimensional data and we will  use Principal Component to reduce dimension.\n",
    "pca = PCA().fit(imputed_azdias_df)\n",
    "plt.plot(np.cumsum(pca.explained_variance_ratio_))\n",
    "plt.grid()\n",
    "plt.xlabel('number of components')\n",
    "plt.ylabel('cumulative explained variance');\n",
    "plt.savefig('PCA.png')"
   ]
  },
  {
   "cell_type": "markdown",
   "metadata": {},
   "source": [
    "**Comment:** First 200 principal components shares the maximum amount of information, around 90%. So lets keep 200 componenets. Now we are down to 200 features from 397."
   ]
  },
  {
   "cell_type": "code",
   "execution_count": 59,
   "metadata": {},
   "outputs": [
    {
     "name": "stdout",
     "output_type": "stream",
     "text": [
      "0.9011663725869348\n"
     ]
    },
    {
     "data": {
      "text/html": [
       "<div>\n",
       "<style scoped>\n",
       "    .dataframe tbody tr th:only-of-type {\n",
       "        vertical-align: middle;\n",
       "    }\n",
       "\n",
       "    .dataframe tbody tr th {\n",
       "        vertical-align: top;\n",
       "    }\n",
       "\n",
       "    .dataframe thead th {\n",
       "        text-align: right;\n",
       "    }\n",
       "</style>\n",
       "<table border=\"1\" class=\"dataframe\">\n",
       "  <thead>\n",
       "    <tr style=\"text-align: right;\">\n",
       "      <th></th>\n",
       "      <th>0</th>\n",
       "      <th>1</th>\n",
       "      <th>2</th>\n",
       "      <th>3</th>\n",
       "      <th>4</th>\n",
       "      <th>5</th>\n",
       "      <th>6</th>\n",
       "      <th>7</th>\n",
       "      <th>8</th>\n",
       "      <th>9</th>\n",
       "      <th>...</th>\n",
       "      <th>190</th>\n",
       "      <th>191</th>\n",
       "      <th>192</th>\n",
       "      <th>193</th>\n",
       "      <th>194</th>\n",
       "      <th>195</th>\n",
       "      <th>196</th>\n",
       "      <th>197</th>\n",
       "      <th>198</th>\n",
       "      <th>199</th>\n",
       "    </tr>\n",
       "  </thead>\n",
       "  <tbody>\n",
       "    <tr>\n",
       "      <th>0</th>\n",
       "      <td>5.009972</td>\n",
       "      <td>-2.231493</td>\n",
       "      <td>4.480828</td>\n",
       "      <td>-3.759361</td>\n",
       "      <td>-4.505915</td>\n",
       "      <td>0.938856</td>\n",
       "      <td>-2.106203</td>\n",
       "      <td>3.194973</td>\n",
       "      <td>0.035467</td>\n",
       "      <td>0.737277</td>\n",
       "      <td>...</td>\n",
       "      <td>0.071889</td>\n",
       "      <td>0.007611</td>\n",
       "      <td>1.290181</td>\n",
       "      <td>-0.659021</td>\n",
       "      <td>-0.836738</td>\n",
       "      <td>-0.061902</td>\n",
       "      <td>-0.783884</td>\n",
       "      <td>-0.381130</td>\n",
       "      <td>0.145800</td>\n",
       "      <td>-1.241728</td>\n",
       "    </tr>\n",
       "    <tr>\n",
       "      <th>1</th>\n",
       "      <td>-1.165552</td>\n",
       "      <td>-0.249042</td>\n",
       "      <td>0.558432</td>\n",
       "      <td>-3.243803</td>\n",
       "      <td>-3.470337</td>\n",
       "      <td>3.741415</td>\n",
       "      <td>-3.781008</td>\n",
       "      <td>-2.535808</td>\n",
       "      <td>0.651061</td>\n",
       "      <td>0.377288</td>\n",
       "      <td>...</td>\n",
       "      <td>0.541203</td>\n",
       "      <td>-0.842453</td>\n",
       "      <td>0.502385</td>\n",
       "      <td>0.170833</td>\n",
       "      <td>0.865725</td>\n",
       "      <td>-0.308472</td>\n",
       "      <td>-0.961559</td>\n",
       "      <td>0.482346</td>\n",
       "      <td>0.806038</td>\n",
       "      <td>-0.055043</td>\n",
       "    </tr>\n",
       "    <tr>\n",
       "      <th>2</th>\n",
       "      <td>-5.341985</td>\n",
       "      <td>2.395633</td>\n",
       "      <td>-3.907269</td>\n",
       "      <td>-1.296575</td>\n",
       "      <td>-3.661119</td>\n",
       "      <td>-0.831960</td>\n",
       "      <td>-0.996760</td>\n",
       "      <td>0.717837</td>\n",
       "      <td>-3.083647</td>\n",
       "      <td>-0.752044</td>\n",
       "      <td>...</td>\n",
       "      <td>1.061920</td>\n",
       "      <td>0.322334</td>\n",
       "      <td>0.810364</td>\n",
       "      <td>-0.215478</td>\n",
       "      <td>0.217535</td>\n",
       "      <td>-0.135490</td>\n",
       "      <td>0.181480</td>\n",
       "      <td>0.205875</td>\n",
       "      <td>-0.290086</td>\n",
       "      <td>0.462230</td>\n",
       "    </tr>\n",
       "    <tr>\n",
       "      <th>3</th>\n",
       "      <td>-3.793245</td>\n",
       "      <td>-0.554741</td>\n",
       "      <td>5.895283</td>\n",
       "      <td>-1.096008</td>\n",
       "      <td>8.070180</td>\n",
       "      <td>-3.185813</td>\n",
       "      <td>3.159848</td>\n",
       "      <td>-0.847659</td>\n",
       "      <td>-4.019527</td>\n",
       "      <td>6.777203</td>\n",
       "      <td>...</td>\n",
       "      <td>0.285641</td>\n",
       "      <td>0.162358</td>\n",
       "      <td>0.924700</td>\n",
       "      <td>0.443621</td>\n",
       "      <td>-0.181796</td>\n",
       "      <td>0.161411</td>\n",
       "      <td>-0.801956</td>\n",
       "      <td>-0.476950</td>\n",
       "      <td>0.303167</td>\n",
       "      <td>-0.933672</td>\n",
       "    </tr>\n",
       "    <tr>\n",
       "      <th>4</th>\n",
       "      <td>-2.631202</td>\n",
       "      <td>0.428082</td>\n",
       "      <td>-1.552604</td>\n",
       "      <td>-1.871140</td>\n",
       "      <td>-2.030557</td>\n",
       "      <td>1.099782</td>\n",
       "      <td>0.309687</td>\n",
       "      <td>1.462462</td>\n",
       "      <td>-0.373835</td>\n",
       "      <td>2.851802</td>\n",
       "      <td>...</td>\n",
       "      <td>0.549884</td>\n",
       "      <td>-0.274800</td>\n",
       "      <td>-0.062360</td>\n",
       "      <td>0.211655</td>\n",
       "      <td>0.444729</td>\n",
       "      <td>0.324206</td>\n",
       "      <td>-0.096099</td>\n",
       "      <td>-1.049462</td>\n",
       "      <td>-0.354888</td>\n",
       "      <td>-0.844876</td>\n",
       "    </tr>\n",
       "  </tbody>\n",
       "</table>\n",
       "<p>5 rows × 200 columns</p>\n",
       "</div>"
      ],
      "text/plain": [
       "        0         1         2         3         4         5         6    \\\n",
       "0  5.009972 -2.231493  4.480828 -3.759361 -4.505915  0.938856 -2.106203   \n",
       "1 -1.165552 -0.249042  0.558432 -3.243803 -3.470337  3.741415 -3.781008   \n",
       "2 -5.341985  2.395633 -3.907269 -1.296575 -3.661119 -0.831960 -0.996760   \n",
       "3 -3.793245 -0.554741  5.895283 -1.096008  8.070180 -3.185813  3.159848   \n",
       "4 -2.631202  0.428082 -1.552604 -1.871140 -2.030557  1.099782  0.309687   \n",
       "\n",
       "        7         8         9      ...          190       191       192  \\\n",
       "0  3.194973  0.035467  0.737277    ...     0.071889  0.007611  1.290181   \n",
       "1 -2.535808  0.651061  0.377288    ...     0.541203 -0.842453  0.502385   \n",
       "2  0.717837 -3.083647 -0.752044    ...     1.061920  0.322334  0.810364   \n",
       "3 -0.847659 -4.019527  6.777203    ...     0.285641  0.162358  0.924700   \n",
       "4  1.462462 -0.373835  2.851802    ...     0.549884 -0.274800 -0.062360   \n",
       "\n",
       "        193       194       195       196       197       198       199  \n",
       "0 -0.659021 -0.836738 -0.061902 -0.783884 -0.381130  0.145800 -1.241728  \n",
       "1  0.170833  0.865725 -0.308472 -0.961559  0.482346  0.806038 -0.055043  \n",
       "2 -0.215478  0.217535 -0.135490  0.181480  0.205875 -0.290086  0.462230  \n",
       "3  0.443621 -0.181796  0.161411 -0.801956 -0.476950  0.303167 -0.933672  \n",
       "4  0.211655  0.444729  0.324206 -0.096099 -1.049462 -0.354888 -0.844876  \n",
       "\n",
       "[5 rows x 200 columns]"
      ]
     },
     "execution_count": 59,
     "metadata": {},
     "output_type": "execute_result"
    }
   ],
   "source": [
    "# PCA\n",
    "pca = PCA(n_components=200).fit(imputed_azdias_df)\n",
    "azdias_pca = pca.transform(imputed_azdias_df)\n",
    "azdias_pca_df = pd.DataFrame(azdias_pca)\n",
    "print(pca.explained_variance_ratio_.sum())\n",
    "azdias_pca_df.head()"
   ]
  },
  {
   "cell_type": "code",
   "execution_count": 60,
   "metadata": {},
   "outputs": [
    {
     "data": {
      "image/png": "[encoded data removed]",
      "text/plain": [
       "<Figure size 1440x864 with 1 Axes>"
      ]
     },
     "metadata": {
      "needs_background": "light"
     },
     "output_type": "display_data"
    }
   ],
   "source": [
    "# Plot the explained variances\n",
    "features = range(pca.n_components_)\n",
    "plt.figure(figsize=(20, 12))\n",
    "plt.bar(features, pca.explained_variance_ratio_, color='black')\n",
    "plt.xlabel('PCA features')\n",
    "plt.ylabel('variance %')\n",
    "plt.xticks(features)\n",
    "plt.savefig('PCA_explained_variance.png')\n",
    "# Save components to a DataFrame\n",
    "PCA_components = pd.DataFrame(azdias_pca)"
   ]
  },
  {
   "cell_type": "markdown",
   "metadata": {},
   "source": [
    "**Comment:** First 2 componenets, explain the majority of the variance in our data"
   ]
  },
  {
   "cell_type": "code",
   "execution_count": 61,
   "metadata": {},
   "outputs": [
    {
     "data": {
      "text/html": [
       "<div>\n",
       "<style scoped>\n",
       "    .dataframe tbody tr th:only-of-type {\n",
       "        vertical-align: middle;\n",
       "    }\n",
       "\n",
       "    .dataframe tbody tr th {\n",
       "        vertical-align: top;\n",
       "    }\n",
       "\n",
       "    .dataframe thead th {\n",
       "        text-align: right;\n",
       "    }\n",
       "</style>\n",
       "<table border=\"1\" class=\"dataframe\">\n",
       "  <thead>\n",
       "    <tr style=\"text-align: right;\">\n",
       "      <th></th>\n",
       "      <th>0</th>\n",
       "      <th>1</th>\n",
       "      <th>2</th>\n",
       "      <th>3</th>\n",
       "      <th>4</th>\n",
       "      <th>5</th>\n",
       "      <th>6</th>\n",
       "      <th>7</th>\n",
       "      <th>8</th>\n",
       "      <th>9</th>\n",
       "      <th>...</th>\n",
       "      <th>190</th>\n",
       "      <th>191</th>\n",
       "      <th>192</th>\n",
       "      <th>193</th>\n",
       "      <th>194</th>\n",
       "      <th>195</th>\n",
       "      <th>196</th>\n",
       "      <th>197</th>\n",
       "      <th>198</th>\n",
       "      <th>199</th>\n",
       "    </tr>\n",
       "  </thead>\n",
       "  <tbody>\n",
       "    <tr>\n",
       "      <th>0</th>\n",
       "      <td>4.298492</td>\n",
       "      <td>-1.280569</td>\n",
       "      <td>5.638391</td>\n",
       "      <td>0.097246</td>\n",
       "      <td>-5.172806</td>\n",
       "      <td>-3.020796</td>\n",
       "      <td>-1.085453</td>\n",
       "      <td>-0.049677</td>\n",
       "      <td>-0.357069</td>\n",
       "      <td>-0.650446</td>\n",
       "      <td>...</td>\n",
       "      <td>-1.534085</td>\n",
       "      <td>-0.606481</td>\n",
       "      <td>-1.051142</td>\n",
       "      <td>1.373654</td>\n",
       "      <td>1.011860</td>\n",
       "      <td>1.317611</td>\n",
       "      <td>-0.091648</td>\n",
       "      <td>-0.298847</td>\n",
       "      <td>-0.267336</td>\n",
       "      <td>-0.608105</td>\n",
       "    </tr>\n",
       "    <tr>\n",
       "      <th>1</th>\n",
       "      <td>-0.015366</td>\n",
       "      <td>-0.073649</td>\n",
       "      <td>0.091137</td>\n",
       "      <td>0.137581</td>\n",
       "      <td>-0.526864</td>\n",
       "      <td>-0.345999</td>\n",
       "      <td>0.072671</td>\n",
       "      <td>-0.654642</td>\n",
       "      <td>-1.166868</td>\n",
       "      <td>-0.786692</td>\n",
       "      <td>...</td>\n",
       "      <td>-1.101935</td>\n",
       "      <td>0.245149</td>\n",
       "      <td>0.453238</td>\n",
       "      <td>-0.131757</td>\n",
       "      <td>-0.614997</td>\n",
       "      <td>-0.636348</td>\n",
       "      <td>-0.684819</td>\n",
       "      <td>-0.281434</td>\n",
       "      <td>-0.794932</td>\n",
       "      <td>0.044865</td>\n",
       "    </tr>\n",
       "    <tr>\n",
       "      <th>2</th>\n",
       "      <td>-3.673255</td>\n",
       "      <td>5.142002</td>\n",
       "      <td>-1.442144</td>\n",
       "      <td>2.488045</td>\n",
       "      <td>-3.886043</td>\n",
       "      <td>-4.701922</td>\n",
       "      <td>-3.794155</td>\n",
       "      <td>0.083931</td>\n",
       "      <td>2.336183</td>\n",
       "      <td>-1.680571</td>\n",
       "      <td>...</td>\n",
       "      <td>1.585711</td>\n",
       "      <td>0.905464</td>\n",
       "      <td>-0.025848</td>\n",
       "      <td>-0.514408</td>\n",
       "      <td>-0.391523</td>\n",
       "      <td>0.122403</td>\n",
       "      <td>0.746313</td>\n",
       "      <td>0.030146</td>\n",
       "      <td>-1.105691</td>\n",
       "      <td>-0.568362</td>\n",
       "    </tr>\n",
       "    <tr>\n",
       "      <th>3</th>\n",
       "      <td>2.932400</td>\n",
       "      <td>-3.208712</td>\n",
       "      <td>0.215296</td>\n",
       "      <td>0.491041</td>\n",
       "      <td>-4.112998</td>\n",
       "      <td>0.264043</td>\n",
       "      <td>4.894378</td>\n",
       "      <td>-1.088302</td>\n",
       "      <td>-0.205336</td>\n",
       "      <td>-3.358591</td>\n",
       "      <td>...</td>\n",
       "      <td>-0.068281</td>\n",
       "      <td>1.111532</td>\n",
       "      <td>-0.214126</td>\n",
       "      <td>0.059306</td>\n",
       "      <td>0.141720</td>\n",
       "      <td>-0.712158</td>\n",
       "      <td>-0.277711</td>\n",
       "      <td>0.115131</td>\n",
       "      <td>0.657815</td>\n",
       "      <td>-0.861310</td>\n",
       "    </tr>\n",
       "    <tr>\n",
       "      <th>4</th>\n",
       "      <td>2.396895</td>\n",
       "      <td>1.126736</td>\n",
       "      <td>-8.363738</td>\n",
       "      <td>-1.333450</td>\n",
       "      <td>7.700893</td>\n",
       "      <td>-2.194739</td>\n",
       "      <td>-4.319044</td>\n",
       "      <td>-0.430617</td>\n",
       "      <td>1.253320</td>\n",
       "      <td>0.591705</td>\n",
       "      <td>...</td>\n",
       "      <td>0.373326</td>\n",
       "      <td>0.169977</td>\n",
       "      <td>1.300149</td>\n",
       "      <td>-1.723648</td>\n",
       "      <td>0.752959</td>\n",
       "      <td>0.303684</td>\n",
       "      <td>0.689167</td>\n",
       "      <td>0.119001</td>\n",
       "      <td>0.637011</td>\n",
       "      <td>-1.289621</td>\n",
       "    </tr>\n",
       "  </tbody>\n",
       "</table>\n",
       "<p>5 rows × 200 columns</p>\n",
       "</div>"
      ],
      "text/plain": [
       "        0         1         2         3         4         5         6    \\\n",
       "0  4.298492 -1.280569  5.638391  0.097246 -5.172806 -3.020796 -1.085453   \n",
       "1 -0.015366 -0.073649  0.091137  0.137581 -0.526864 -0.345999  0.072671   \n",
       "2 -3.673255  5.142002 -1.442144  2.488045 -3.886043 -4.701922 -3.794155   \n",
       "3  2.932400 -3.208712  0.215296  0.491041 -4.112998  0.264043  4.894378   \n",
       "4  2.396895  1.126736 -8.363738 -1.333450  7.700893 -2.194739 -4.319044   \n",
       "\n",
       "        7         8         9      ...          190       191       192  \\\n",
       "0 -0.049677 -0.357069 -0.650446    ...    -1.534085 -0.606481 -1.051142   \n",
       "1 -0.654642 -1.166868 -0.786692    ...    -1.101935  0.245149  0.453238   \n",
       "2  0.083931  2.336183 -1.680571    ...     1.585711  0.905464 -0.025848   \n",
       "3 -1.088302 -0.205336 -3.358591    ...    -0.068281  1.111532 -0.214126   \n",
       "4 -0.430617  1.253320  0.591705    ...     0.373326  0.169977  1.300149   \n",
       "\n",
       "        193       194       195       196       197       198       199  \n",
       "0  1.373654  1.011860  1.317611 -0.091648 -0.298847 -0.267336 -0.608105  \n",
       "1 -0.131757 -0.614997 -0.636348 -0.684819 -0.281434 -0.794932  0.044865  \n",
       "2 -0.514408 -0.391523  0.122403  0.746313  0.030146 -1.105691 -0.568362  \n",
       "3  0.059306  0.141720 -0.712158 -0.277711  0.115131  0.657815 -0.861310  \n",
       "4 -1.723648  0.752959  0.303684  0.689167  0.119001  0.637011 -1.289621  \n",
       "\n",
       "[5 rows x 200 columns]"
      ]
     },
     "execution_count": 61,
     "metadata": {},
     "output_type": "execute_result"
    }
   ],
   "source": [
    "# PCA Customers\n",
    "pca_cust = PCA(n_components=200).fit(imputed_customers_df)\n",
    "customers_pca = pca_cust.transform(imputed_customers_df)\n",
    "customers_pca_df = pd.DataFrame(customers_pca)\n",
    "customers_pca_df.head()"
   ]
  },
  {
   "cell_type": "code",
   "execution_count": 62,
   "metadata": {},
   "outputs": [
    {
     "name": "stdout",
     "output_type": "stream",
     "text": [
      "                                0\n",
      "KBA13_ANTG3              0.139983\n",
      "KBA13_ANTG4              0.137231\n",
      "PLZ8_ANTG4               0.136293\n",
      "KBA13_BAUMAX             0.136034\n",
      "HH_EINKOMMEN_SCORE       0.128673\n",
      "EWDICHTE                 0.121219\n",
      "ORTSGR_KLS9              0.119837\n",
      "CAMEO_INTL_2015_1s_5     0.112798\n",
      "FINANZ_HAUSBAUER         0.105038\n",
      "CAMEO_INTL_2015_10s_1    0.102787\n",
      "VK_DISTANZ               0.099584\n",
      "VK_DHT4A                 0.096950\n",
      "PLZ8_ANTG2               0.096902\n",
      "KBA05_ANTG4              0.095798\n",
      "ARBEIT                   0.091737\n",
      "D19_KONSUMTYP_MAX        0.091259\n",
      "D19_GESAMT_DATUM         0.090797\n",
      "VK_ZG11                  0.090200\n",
      "KBA13_HALTER_30          0.089574\n",
      "KBA13_HALTER_35          0.088250\n",
      "CAMEO_DEUG_2015_9.0      0.086974\n",
      "STRUKTURTYP              0.086391\n",
      "ZABEOTYP                 0.084701\n",
      "KBA05_BAUMAX             0.084610\n",
      "ANZ_HAUSHALTE_AKTIV      0.083983\n",
      "KONSUMZELLE              0.083652\n",
      "RELAT_AB                 0.082717\n",
      "D19_GESAMT_ONLINE_DATUM  0.081076\n",
      "KBA05_ANTG3              0.077470\n",
      "KBA13_ANTG2              0.076702\n",
      "...                           ...\n",
      "GREEN_AVANTGARDE        -0.067936\n",
      "D19_HAUS_DEKO           -0.068044\n",
      "KBA05_AUTOQUOT          -0.068286\n",
      "BALLRAUM                -0.071238\n",
      "GEBAEUDETYP_RASTER      -0.072648\n",
      "CAMEO_INTL_2015_1s_1    -0.073063\n",
      "KBA13_SEG_GELAENDEWAGEN -0.075098\n",
      "LP_FAMILIE_FEIN         -0.077221\n",
      "KBA13_HALTER_60         -0.078130\n",
      "CAMEO_INTL_2015_1s_2    -0.078470\n",
      "ANZ_PERSONEN            -0.080835\n",
      "D19_GESAMT_ANZ_12       -0.081618\n",
      "ONLINE_AFFINITAET       -0.082614\n",
      "KBA13_KRSAQUOT          -0.084899\n",
      "FIRMENDICHTE            -0.089140\n",
      "KBA13_HALTER_50         -0.094584\n",
      "INNENSTADT              -0.099731\n",
      "KBA13_HALTER_55         -0.101086\n",
      "KBA13_GBZ               -0.103450\n",
      "KONSUMNAEHE             -0.104601\n",
      "KBA13_ALTERHALTER_60    -0.106435\n",
      "FINANZ_MINIMALIST       -0.114466\n",
      "GEMEINDETYP             -0.114910\n",
      "KBA05_GBZ               -0.131350\n",
      "KBA13_AUTOQUOTE         -0.131418\n",
      "LP_STATUS_FEIN          -0.135704\n",
      "MOBI_RASTER             -0.136118\n",
      "KBA05_ANTG1             -0.136405\n",
      "KBA13_ANTG1             -0.140874\n",
      "MOBI_REGIO              -0.149044\n",
      "\n",
      "[396 rows x 1 columns]\n"
     ]
    }
   ],
   "source": [
    "#What PCA component represent. Here is the example of PCA1\n",
    "component = 0\n",
    "pca_df = pd.DataFrame(pca.components_, columns=list(complete_azdias_df.columns))\n",
    "pca_component = pd.DataFrame(pca_df.iloc[component])\n",
    "print(pca_component.sort_values(component, ascending=False))"
   ]
  },
  {
   "cell_type": "markdown",
   "metadata": {},
   "source": [
    "## Part 1: Customer Segmentation Report\n",
    "\n",
    "The main bulk of your analysis will come in this part of the project. Here, you should use unsupervised learning techniques to describe the relationship between the demographics of the company's existing customers and the general population of Germany. By the end of this part, you should be able to describe parts of the general population that are more likely to be part of the mail-order company's main customer base, and which parts of the general population are less so."
   ]
  },
  {
   "cell_type": "markdown",
   "metadata": {},
   "source": [
    "### Step 2: Clustering on Aazdias data"
   ]
  },
  {
   "cell_type": "markdown",
   "metadata": {},
   "source": [
    "###### 2.1 Finding the number of clusters - with Elbow Criterion "
   ]
  },
  {
   "cell_type": "code",
   "execution_count": 63,
   "metadata": {},
   "outputs": [
    {
     "data": {
      "image/png": "[encoded data removed]",
      "text/plain": [
       "<Figure size 432x288 with 1 Axes>"
      ]
     },
     "metadata": {
      "needs_background": "light"
     },
     "output_type": "display_data"
    }
   ],
   "source": [
    "#Elbow Criterion for number of cluster selection or optimal (k)\n",
    "sse = {}\n",
    "silhouette = {}\n",
    "for k in range(1, 10):\n",
    "    kmeans = KMeans(n_clusters=k, init='k-means++', n_jobs=-1).fit(azdias_pca_df)\n",
    "    sse[k] = kmeans.inertia_ # Inertia: Sum of distances of samples to their closest cluster center\n",
    "    # The silhouette_score gives the average value for all the samples.\n",
    "    # This gives a perspective into the density and separation of the formed clusters\n",
    "    #cluster_labels = kmeans.predict(azdias_pca_df)\n",
    "    #silhouette[k] = silhouette_score(azdias_pca_df, cluster_labels)\n",
    "    \n",
    "plt.figure()\n",
    "plt.plot(list(sse.keys()), list(sse.values()),marker = 'o')\n",
    "plt.xlabel(\"Number of cluster\")\n",
    "plt.ylabel(\"SSE\")\n",
    "plt.show()\n",
    "#plt.savefig('Elbow_Criterion.png')"
   ]
  },
  {
   "cell_type": "markdown",
   "metadata": {},
   "source": [
    "**Comment**: According to above Elbow criterion plot, sse does not decreased much after 4 th cluster.So lets use k=4."
   ]
  },
  {
   "cell_type": "markdown",
   "metadata": {},
   "source": [
    "###### 2.2 Build Cluster model"
   ]
  },
  {
   "cell_type": "code",
   "execution_count": 64,
   "metadata": {},
   "outputs": [],
   "source": [
    "# Fit KMmeans model\n",
    "kmeans = KMeans(n_clusters=4, n_jobs=-1)\n",
    "model = kmeans.fit(azdias_pca_df)\n",
    "prediction_azdias = model.predict(azdias_pca_df)"
   ]
  },
  {
   "cell_type": "code",
   "execution_count": 65,
   "metadata": {},
   "outputs": [],
   "source": [
    "def plot_distribution(dist):\n",
    "    ## Distribution of data point in each of these clusters obtained by k-means using 200 PCA components\n",
    "    ax = sns.countplot(x = dist ,palette=\"viridis\")\n",
    "    sns.set(font_scale=1.5)\n",
    "    ax.set_xlabel(' ')\n",
    "    ax.set_ylabel(' ')\n",
    "    fig = plt.gcf()\n",
    "    fig.set_size_inches(10,5)\n",
    "    ax.set_ylim()#30000)\n",
    "    for p in ax.patches:\n",
    "        ax.annotate('{:.2f}%'.format(100*p.get_height()/len(dist)), (p.get_x()+ 0.2, p.get_height()+ 40))\n",
    "\n",
    "    plt.title('Distribution of data in clusters obtained by K-means')\n",
    "    plt.xlabel('Cluster Numbers')\n",
    "    plt.ylabel('Frequency [%]')\n",
    "    plt.show()"
   ]
  },
  {
   "cell_type": "code",
   "execution_count": 66,
   "metadata": {},
   "outputs": [
    {
     "data": {
      "image/png": "[encoded data removed]",
      "text/plain": [
       "<Figure size 720x360 with 1 Axes>"
      ]
     },
     "metadata": {
      "needs_background": "light"
     },
     "output_type": "display_data"
    }
   ],
   "source": [
    "plot_distribution(prediction_azdias)"
   ]
  },
  {
   "cell_type": "markdown",
   "metadata": {},
   "source": [
    "###### 2.3 Predictions using cluster model"
   ]
  },
  {
   "cell_type": "code",
   "execution_count": 67,
   "metadata": {},
   "outputs": [
    {
     "data": {
      "image/png": "[encoded data removed]",
      "text/plain": [
       "<Figure size 720x360 with 1 Axes>"
      ]
     },
     "metadata": {},
     "output_type": "display_data"
    }
   ],
   "source": [
    "prediction_customers = model.predict(customers_pca_df)\n",
    "plot_distribution(prediction_customers)"
   ]
  },
  {
   "cell_type": "code",
   "execution_count": 68,
   "metadata": {},
   "outputs": [],
   "source": [
    "from pickle import dump\n",
    "# save the imputer\n",
    "dump(imputer_azdias, open('imputer.pkl', 'wb'))\n",
    "# save the scaler\n",
    "dump(scale_azdias_obj, open('scaler.pkl', 'wb'))\n",
    "# save the pca\n",
    "dump(azdias_pca, open('pca.pkl', 'wb'))\n",
    "# save the model\n",
    "dump(model, open('K-Means_model.pkl', 'wb'))"
   ]
  },
  {
   "cell_type": "markdown",
   "metadata": {},
   "source": [
    "###### 2.4 Interpret the clusters"
   ]
  },
  {
   "cell_type": "code",
   "execution_count": 69,
   "metadata": {},
   "outputs": [],
   "source": [
    "class_array_az = pd.Series(prediction_azdias).value_counts()\n",
    "class_azdias_df = pd.DataFrame({'cluster': class_array_az.index,\n",
    "                           '% of data': 100*class_array_az.values/len(prediction_azdias)})\n",
    "class_azdias_df['data'] = 'General population'\n",
    "\n",
    "class_array_cust = pd.Series(prediction_customers).value_counts()\n",
    "class_customers_df = pd.DataFrame({'cluster': class_array_cust.index,\n",
    "                              '% of data': 100*class_array_cust.values/len(prediction_customers)})\n",
    "class_customers_df['data'] = 'Customer data'"
   ]
  },
  {
   "cell_type": "code",
   "execution_count": 70,
   "metadata": {},
   "outputs": [
    {
     "data": {
      "text/html": [
       "<div>\n",
       "<style scoped>\n",
       "    .dataframe tbody tr th:only-of-type {\n",
       "        vertical-align: middle;\n",
       "    }\n",
       "\n",
       "    .dataframe tbody tr th {\n",
       "        vertical-align: top;\n",
       "    }\n",
       "\n",
       "    .dataframe thead th {\n",
       "        text-align: right;\n",
       "    }\n",
       "</style>\n",
       "<table border=\"1\" class=\"dataframe\">\n",
       "  <thead>\n",
       "    <tr style=\"text-align: right;\">\n",
       "      <th></th>\n",
       "      <th>cluster</th>\n",
       "      <th>% of data</th>\n",
       "      <th>data</th>\n",
       "    </tr>\n",
       "  </thead>\n",
       "  <tbody>\n",
       "    <tr>\n",
       "      <th>0</th>\n",
       "      <td>3</td>\n",
       "      <td>39.397971</td>\n",
       "      <td>Customer data</td>\n",
       "    </tr>\n",
       "    <tr>\n",
       "      <th>1</th>\n",
       "      <td>1</td>\n",
       "      <td>30.722351</td>\n",
       "      <td>Customer data</td>\n",
       "    </tr>\n",
       "    <tr>\n",
       "      <th>2</th>\n",
       "      <td>2</td>\n",
       "      <td>29.879156</td>\n",
       "      <td>Customer data</td>\n",
       "    </tr>\n",
       "    <tr>\n",
       "      <th>3</th>\n",
       "      <td>0</td>\n",
       "      <td>0.000522</td>\n",
       "      <td>Customer data</td>\n",
       "    </tr>\n",
       "  </tbody>\n",
       "</table>\n",
       "</div>"
      ],
      "text/plain": [
       "   cluster  % of data           data\n",
       "0        3  39.397971  Customer data\n",
       "1        1  30.722351  Customer data\n",
       "2        2  29.879156  Customer data\n",
       "3        0   0.000522  Customer data"
      ]
     },
     "execution_count": 70,
     "metadata": {},
     "output_type": "execute_result"
    }
   ],
   "source": [
    "class_customers_df"
   ]
  },
  {
   "cell_type": "code",
   "execution_count": 71,
   "metadata": {},
   "outputs": [
    {
     "data": {
      "text/html": [
       "<div>\n",
       "<style scoped>\n",
       "    .dataframe tbody tr th:only-of-type {\n",
       "        vertical-align: middle;\n",
       "    }\n",
       "\n",
       "    .dataframe tbody tr th {\n",
       "        vertical-align: top;\n",
       "    }\n",
       "\n",
       "    .dataframe thead th {\n",
       "        text-align: right;\n",
       "    }\n",
       "</style>\n",
       "<table border=\"1\" class=\"dataframe\">\n",
       "  <thead>\n",
       "    <tr style=\"text-align: right;\">\n",
       "      <th></th>\n",
       "      <th>cluster</th>\n",
       "      <th>% of data</th>\n",
       "      <th>data</th>\n",
       "    </tr>\n",
       "  </thead>\n",
       "  <tbody>\n",
       "    <tr>\n",
       "      <th>0</th>\n",
       "      <td>3</td>\n",
       "      <td>36.611161</td>\n",
       "      <td>General population</td>\n",
       "    </tr>\n",
       "    <tr>\n",
       "      <th>1</th>\n",
       "      <td>2</td>\n",
       "      <td>36.603973</td>\n",
       "      <td>General population</td>\n",
       "    </tr>\n",
       "    <tr>\n",
       "      <th>2</th>\n",
       "      <td>1</td>\n",
       "      <td>24.915783</td>\n",
       "      <td>General population</td>\n",
       "    </tr>\n",
       "    <tr>\n",
       "      <th>3</th>\n",
       "      <td>0</td>\n",
       "      <td>1.869083</td>\n",
       "      <td>General population</td>\n",
       "    </tr>\n",
       "  </tbody>\n",
       "</table>\n",
       "</div>"
      ],
      "text/plain": [
       "   cluster  % of data                data\n",
       "0        3  36.611161  General population\n",
       "1        2  36.603973  General population\n",
       "2        1  24.915783  General population\n",
       "3        0   1.869083  General population"
      ]
     },
     "execution_count": 71,
     "metadata": {},
     "output_type": "execute_result"
    }
   ],
   "source": [
    "class_azdias_df"
   ]
  },
  {
   "cell_type": "code",
   "execution_count": 72,
   "metadata": {},
   "outputs": [
    {
     "data": {
      "image/png": "[encoded data removed]",
      "text/plain": [
       "<Figure size 864x576 with 1 Axes>"
      ]
     },
     "metadata": {},
     "output_type": "display_data"
    }
   ],
   "source": [
    "plt.figure(figsize=(12, 8))\n",
    "sns.barplot(x=\"cluster\", y=\"% of data\", hue=\"data\",\n",
    "            data=pd.concat([class_customers_df, class_azdias_df]))\n",
    "plt.xlabel('Cluster', fontsize=24)\n",
    "plt.ylabel('% of data', fontsize=24)\n",
    "plt.title('Compare Customer Data to Demographics Data', fontsize=24)\n",
    "plt.legend(fontsize=24)\n",
    "plt.show()"
   ]
  },
  {
   "cell_type": "markdown",
   "metadata": {},
   "source": [
    "**Comment: Almost 40 % percent of the customer data fit in the \"cluster 3\"  which contains 36% of general population data. \n",
    "Hence company can use this portion of population as a potential customers.\n",
    "Opposite to this is the \"Cluster 0\", which can be excluded as % of customer is really low**"
   ]
  },
  {
   "cell_type": "code",
   "execution_count": 73,
   "metadata": {},
   "outputs": [],
   "source": [
    "# Inverse transform of PCA for label:\n",
    "def interpret_clusters(cluster_class):\n",
    "    mask = np.isin(prediction_azdias, cluster_class)\n",
    "    inverse_pca = pca.inverse_transform(azdias_pca[mask])\n",
    "    inverse_scaler = scale_azdias_obj.inverse_transform(inverse_pca).round()\n",
    "    clustered_azdias = pd.DataFrame(inverse_scaler, columns=complete_azdias_df.columns)\n",
    "    return clustered_azdias"
   ]
  },
  {
   "cell_type": "code",
   "execution_count": 141,
   "metadata": {},
   "outputs": [
    {
     "data": {
      "text/html": [
       "<div>\n",
       "<style scoped>\n",
       "    .dataframe tbody tr th:only-of-type {\n",
       "        vertical-align: middle;\n",
       "    }\n",
       "\n",
       "    .dataframe tbody tr th {\n",
       "        vertical-align: top;\n",
       "    }\n",
       "\n",
       "    .dataframe thead th {\n",
       "        text-align: right;\n",
       "    }\n",
       "</style>\n",
       "<table border=\"1\" class=\"dataframe\">\n",
       "  <thead>\n",
       "    <tr style=\"text-align: right;\">\n",
       "      <th></th>\n",
       "      <th>AGER_TYP</th>\n",
       "      <th>AKT_DAT_KL</th>\n",
       "      <th>ALTER_HH</th>\n",
       "      <th>ALTERSKATEGORIE_FEIN</th>\n",
       "      <th>ANZ_HAUSHALTE_AKTIV</th>\n",
       "      <th>ANZ_HH_TITEL</th>\n",
       "      <th>ANZ_KINDER</th>\n",
       "      <th>ANZ_PERSONEN</th>\n",
       "      <th>ANZ_TITEL</th>\n",
       "      <th>ARBEIT</th>\n",
       "      <th>...</th>\n",
       "      <th>CAMEO_INTL_2015_1s_1</th>\n",
       "      <th>CAMEO_INTL_2015_1s_2</th>\n",
       "      <th>CAMEO_INTL_2015_1s_3</th>\n",
       "      <th>CAMEO_INTL_2015_1s_4</th>\n",
       "      <th>CAMEO_INTL_2015_1s_5</th>\n",
       "      <th>CAMEO_INTL_2015_10s_1</th>\n",
       "      <th>CAMEO_INTL_2015_10s_2</th>\n",
       "      <th>CAMEO_INTL_2015_10s_3</th>\n",
       "      <th>CAMEO_INTL_2015_10s_4</th>\n",
       "      <th>CAMEO_INTL_2015_10s_5</th>\n",
       "    </tr>\n",
       "  </thead>\n",
       "  <tbody>\n",
       "    <tr>\n",
       "      <th>0</th>\n",
       "      <td>-1.0</td>\n",
       "      <td>10.0</td>\n",
       "      <td>14.0</td>\n",
       "      <td>18.0</td>\n",
       "      <td>19.0</td>\n",
       "      <td>-0.0</td>\n",
       "      <td>0.0</td>\n",
       "      <td>2.0</td>\n",
       "      <td>0.0</td>\n",
       "      <td>3.0</td>\n",
       "      <td>...</td>\n",
       "      <td>0.0</td>\n",
       "      <td>0.0</td>\n",
       "      <td>0.0</td>\n",
       "      <td>-0.0</td>\n",
       "      <td>1.0</td>\n",
       "      <td>1.0</td>\n",
       "      <td>-0.0</td>\n",
       "      <td>0.0</td>\n",
       "      <td>0.0</td>\n",
       "      <td>-0.0</td>\n",
       "    </tr>\n",
       "    <tr>\n",
       "      <th>1</th>\n",
       "      <td>1.0</td>\n",
       "      <td>1.0</td>\n",
       "      <td>9.0</td>\n",
       "      <td>11.0</td>\n",
       "      <td>6.0</td>\n",
       "      <td>-0.0</td>\n",
       "      <td>0.0</td>\n",
       "      <td>1.0</td>\n",
       "      <td>0.0</td>\n",
       "      <td>5.0</td>\n",
       "      <td>...</td>\n",
       "      <td>0.0</td>\n",
       "      <td>0.0</td>\n",
       "      <td>0.0</td>\n",
       "      <td>-0.0</td>\n",
       "      <td>1.0</td>\n",
       "      <td>1.0</td>\n",
       "      <td>0.0</td>\n",
       "      <td>0.0</td>\n",
       "      <td>0.0</td>\n",
       "      <td>-0.0</td>\n",
       "    </tr>\n",
       "    <tr>\n",
       "      <th>2</th>\n",
       "      <td>-2.0</td>\n",
       "      <td>9.0</td>\n",
       "      <td>3.0</td>\n",
       "      <td>13.0</td>\n",
       "      <td>4.0</td>\n",
       "      <td>-0.0</td>\n",
       "      <td>-0.0</td>\n",
       "      <td>1.0</td>\n",
       "      <td>0.0</td>\n",
       "      <td>5.0</td>\n",
       "      <td>...</td>\n",
       "      <td>-0.0</td>\n",
       "      <td>0.0</td>\n",
       "      <td>0.0</td>\n",
       "      <td>-0.0</td>\n",
       "      <td>1.0</td>\n",
       "      <td>-0.0</td>\n",
       "      <td>0.0</td>\n",
       "      <td>0.0</td>\n",
       "      <td>-0.0</td>\n",
       "      <td>1.0</td>\n",
       "    </tr>\n",
       "    <tr>\n",
       "      <th>3</th>\n",
       "      <td>-1.0</td>\n",
       "      <td>8.0</td>\n",
       "      <td>2.0</td>\n",
       "      <td>15.0</td>\n",
       "      <td>11.0</td>\n",
       "      <td>0.0</td>\n",
       "      <td>0.0</td>\n",
       "      <td>1.0</td>\n",
       "      <td>-0.0</td>\n",
       "      <td>4.0</td>\n",
       "      <td>...</td>\n",
       "      <td>0.0</td>\n",
       "      <td>0.0</td>\n",
       "      <td>-0.0</td>\n",
       "      <td>-0.0</td>\n",
       "      <td>1.0</td>\n",
       "      <td>1.0</td>\n",
       "      <td>0.0</td>\n",
       "      <td>0.0</td>\n",
       "      <td>0.0</td>\n",
       "      <td>0.0</td>\n",
       "    </tr>\n",
       "    <tr>\n",
       "      <th>4</th>\n",
       "      <td>-1.0</td>\n",
       "      <td>6.0</td>\n",
       "      <td>15.0</td>\n",
       "      <td>14.0</td>\n",
       "      <td>10.0</td>\n",
       "      <td>-0.0</td>\n",
       "      <td>1.0</td>\n",
       "      <td>2.0</td>\n",
       "      <td>-0.0</td>\n",
       "      <td>4.0</td>\n",
       "      <td>...</td>\n",
       "      <td>0.0</td>\n",
       "      <td>-0.0</td>\n",
       "      <td>0.0</td>\n",
       "      <td>0.0</td>\n",
       "      <td>1.0</td>\n",
       "      <td>1.0</td>\n",
       "      <td>0.0</td>\n",
       "      <td>-0.0</td>\n",
       "      <td>0.0</td>\n",
       "      <td>-0.0</td>\n",
       "    </tr>\n",
       "  </tbody>\n",
       "</table>\n",
       "<p>5 rows × 396 columns</p>\n",
       "</div>"
      ],
      "text/plain": [
       "   AGER_TYP  AKT_DAT_KL  ALTER_HH  ALTERSKATEGORIE_FEIN  ANZ_HAUSHALTE_AKTIV  \\\n",
       "0      -1.0        10.0      14.0                  18.0                 19.0   \n",
       "1       1.0         1.0       9.0                  11.0                  6.0   \n",
       "2      -2.0         9.0       3.0                  13.0                  4.0   \n",
       "3      -1.0         8.0       2.0                  15.0                 11.0   \n",
       "4      -1.0         6.0      15.0                  14.0                 10.0   \n",
       "\n",
       "   ANZ_HH_TITEL  ANZ_KINDER  ANZ_PERSONEN  ANZ_TITEL  ARBEIT  \\\n",
       "0          -0.0         0.0           2.0        0.0     3.0   \n",
       "1          -0.0         0.0           1.0        0.0     5.0   \n",
       "2          -0.0        -0.0           1.0        0.0     5.0   \n",
       "3           0.0         0.0           1.0       -0.0     4.0   \n",
       "4          -0.0         1.0           2.0       -0.0     4.0   \n",
       "\n",
       "           ...            CAMEO_INTL_2015_1s_1  CAMEO_INTL_2015_1s_2  \\\n",
       "0          ...                             0.0                   0.0   \n",
       "1          ...                             0.0                   0.0   \n",
       "2          ...                            -0.0                   0.0   \n",
       "3          ...                             0.0                   0.0   \n",
       "4          ...                             0.0                  -0.0   \n",
       "\n",
       "   CAMEO_INTL_2015_1s_3  CAMEO_INTL_2015_1s_4  CAMEO_INTL_2015_1s_5  \\\n",
       "0                   0.0                  -0.0                   1.0   \n",
       "1                   0.0                  -0.0                   1.0   \n",
       "2                   0.0                  -0.0                   1.0   \n",
       "3                  -0.0                  -0.0                   1.0   \n",
       "4                   0.0                   0.0                   1.0   \n",
       "\n",
       "   CAMEO_INTL_2015_10s_1  CAMEO_INTL_2015_10s_2  CAMEO_INTL_2015_10s_3  \\\n",
       "0                    1.0                   -0.0                    0.0   \n",
       "1                    1.0                    0.0                    0.0   \n",
       "2                   -0.0                    0.0                    0.0   \n",
       "3                    1.0                    0.0                    0.0   \n",
       "4                    1.0                    0.0                   -0.0   \n",
       "\n",
       "   CAMEO_INTL_2015_10s_4  CAMEO_INTL_2015_10s_5  \n",
       "0                    0.0                   -0.0  \n",
       "1                    0.0                   -0.0  \n",
       "2                   -0.0                    1.0  \n",
       "3                    0.0                    0.0  \n",
       "4                    0.0                   -0.0  \n",
       "\n",
       "[5 rows x 396 columns]"
      ]
     },
     "execution_count": 141,
     "metadata": {},
     "output_type": "execute_result"
    }
   ],
   "source": [
    "# Representation of population of cluster 3\n",
    "actionable_class = [3]\n",
    "result_df_3 = interpret_clusters(actionable_class)\n",
    "result_df_3.head()"
   ]
  },
  {
   "cell_type": "code",
   "execution_count": 142,
   "metadata": {},
   "outputs": [
    {
     "data": {
      "text/html": [
       "<div>\n",
       "<style scoped>\n",
       "    .dataframe tbody tr th:only-of-type {\n",
       "        vertical-align: middle;\n",
       "    }\n",
       "\n",
       "    .dataframe tbody tr th {\n",
       "        vertical-align: top;\n",
       "    }\n",
       "\n",
       "    .dataframe thead th {\n",
       "        text-align: right;\n",
       "    }\n",
       "</style>\n",
       "<table border=\"1\" class=\"dataframe\">\n",
       "  <thead>\n",
       "    <tr style=\"text-align: right;\">\n",
       "      <th></th>\n",
       "      <th>AGER_TYP</th>\n",
       "      <th>AKT_DAT_KL</th>\n",
       "      <th>ALTER_HH</th>\n",
       "      <th>ALTERSKATEGORIE_FEIN</th>\n",
       "      <th>ANZ_HAUSHALTE_AKTIV</th>\n",
       "      <th>ANZ_HH_TITEL</th>\n",
       "      <th>ANZ_KINDER</th>\n",
       "      <th>ANZ_PERSONEN</th>\n",
       "      <th>ANZ_TITEL</th>\n",
       "      <th>ARBEIT</th>\n",
       "      <th>...</th>\n",
       "      <th>CAMEO_INTL_2015_1s_1</th>\n",
       "      <th>CAMEO_INTL_2015_1s_2</th>\n",
       "      <th>CAMEO_INTL_2015_1s_3</th>\n",
       "      <th>CAMEO_INTL_2015_1s_4</th>\n",
       "      <th>CAMEO_INTL_2015_1s_5</th>\n",
       "      <th>CAMEO_INTL_2015_10s_1</th>\n",
       "      <th>CAMEO_INTL_2015_10s_2</th>\n",
       "      <th>CAMEO_INTL_2015_10s_3</th>\n",
       "      <th>CAMEO_INTL_2015_10s_4</th>\n",
       "      <th>CAMEO_INTL_2015_10s_5</th>\n",
       "    </tr>\n",
       "  </thead>\n",
       "  <tbody>\n",
       "    <tr>\n",
       "      <th>0</th>\n",
       "      <td>-1.0</td>\n",
       "      <td>3.0</td>\n",
       "      <td>17.0</td>\n",
       "      <td>18.0</td>\n",
       "      <td>13.0</td>\n",
       "      <td>-0.0</td>\n",
       "      <td>-0.0</td>\n",
       "      <td>1.0</td>\n",
       "      <td>0.0</td>\n",
       "      <td>3.0</td>\n",
       "      <td>...</td>\n",
       "      <td>-0.0</td>\n",
       "      <td>-0.0</td>\n",
       "      <td>-0.0</td>\n",
       "      <td>1.0</td>\n",
       "      <td>0.0</td>\n",
       "      <td>1.0</td>\n",
       "      <td>-0.0</td>\n",
       "      <td>-0.0</td>\n",
       "      <td>-0.0</td>\n",
       "      <td>-0.0</td>\n",
       "    </tr>\n",
       "    <tr>\n",
       "      <th>1</th>\n",
       "      <td>0.0</td>\n",
       "      <td>10.0</td>\n",
       "      <td>-3.0</td>\n",
       "      <td>11.0</td>\n",
       "      <td>48.0</td>\n",
       "      <td>1.0</td>\n",
       "      <td>-0.0</td>\n",
       "      <td>1.0</td>\n",
       "      <td>0.0</td>\n",
       "      <td>3.0</td>\n",
       "      <td>...</td>\n",
       "      <td>-0.0</td>\n",
       "      <td>-0.0</td>\n",
       "      <td>1.0</td>\n",
       "      <td>-0.0</td>\n",
       "      <td>0.0</td>\n",
       "      <td>-0.0</td>\n",
       "      <td>-0.0</td>\n",
       "      <td>-0.0</td>\n",
       "      <td>0.0</td>\n",
       "      <td>1.0</td>\n",
       "    </tr>\n",
       "    <tr>\n",
       "      <th>2</th>\n",
       "      <td>-1.0</td>\n",
       "      <td>2.0</td>\n",
       "      <td>17.0</td>\n",
       "      <td>15.0</td>\n",
       "      <td>7.0</td>\n",
       "      <td>-0.0</td>\n",
       "      <td>1.0</td>\n",
       "      <td>2.0</td>\n",
       "      <td>0.0</td>\n",
       "      <td>3.0</td>\n",
       "      <td>...</td>\n",
       "      <td>0.0</td>\n",
       "      <td>0.0</td>\n",
       "      <td>1.0</td>\n",
       "      <td>-0.0</td>\n",
       "      <td>-0.0</td>\n",
       "      <td>1.0</td>\n",
       "      <td>-0.0</td>\n",
       "      <td>-0.0</td>\n",
       "      <td>-0.0</td>\n",
       "      <td>0.0</td>\n",
       "    </tr>\n",
       "    <tr>\n",
       "      <th>3</th>\n",
       "      <td>-1.0</td>\n",
       "      <td>8.0</td>\n",
       "      <td>13.0</td>\n",
       "      <td>14.0</td>\n",
       "      <td>25.0</td>\n",
       "      <td>-0.0</td>\n",
       "      <td>-0.0</td>\n",
       "      <td>1.0</td>\n",
       "      <td>-0.0</td>\n",
       "      <td>4.0</td>\n",
       "      <td>...</td>\n",
       "      <td>0.0</td>\n",
       "      <td>0.0</td>\n",
       "      <td>0.0</td>\n",
       "      <td>1.0</td>\n",
       "      <td>-0.0</td>\n",
       "      <td>1.0</td>\n",
       "      <td>-0.0</td>\n",
       "      <td>0.0</td>\n",
       "      <td>-0.0</td>\n",
       "      <td>-0.0</td>\n",
       "    </tr>\n",
       "    <tr>\n",
       "      <th>4</th>\n",
       "      <td>-1.0</td>\n",
       "      <td>6.0</td>\n",
       "      <td>19.0</td>\n",
       "      <td>19.0</td>\n",
       "      <td>44.0</td>\n",
       "      <td>0.0</td>\n",
       "      <td>0.0</td>\n",
       "      <td>1.0</td>\n",
       "      <td>-0.0</td>\n",
       "      <td>4.0</td>\n",
       "      <td>...</td>\n",
       "      <td>-0.0</td>\n",
       "      <td>-0.0</td>\n",
       "      <td>-0.0</td>\n",
       "      <td>-0.0</td>\n",
       "      <td>1.0</td>\n",
       "      <td>1.0</td>\n",
       "      <td>-0.0</td>\n",
       "      <td>-0.0</td>\n",
       "      <td>0.0</td>\n",
       "      <td>0.0</td>\n",
       "    </tr>\n",
       "  </tbody>\n",
       "</table>\n",
       "<p>5 rows × 396 columns</p>\n",
       "</div>"
      ],
      "text/plain": [
       "   AGER_TYP  AKT_DAT_KL  ALTER_HH  ALTERSKATEGORIE_FEIN  ANZ_HAUSHALTE_AKTIV  \\\n",
       "0      -1.0         3.0      17.0                  18.0                 13.0   \n",
       "1       0.0        10.0      -3.0                  11.0                 48.0   \n",
       "2      -1.0         2.0      17.0                  15.0                  7.0   \n",
       "3      -1.0         8.0      13.0                  14.0                 25.0   \n",
       "4      -1.0         6.0      19.0                  19.0                 44.0   \n",
       "\n",
       "   ANZ_HH_TITEL  ANZ_KINDER  ANZ_PERSONEN  ANZ_TITEL  ARBEIT  \\\n",
       "0          -0.0        -0.0           1.0        0.0     3.0   \n",
       "1           1.0        -0.0           1.0        0.0     3.0   \n",
       "2          -0.0         1.0           2.0        0.0     3.0   \n",
       "3          -0.0        -0.0           1.0       -0.0     4.0   \n",
       "4           0.0         0.0           1.0       -0.0     4.0   \n",
       "\n",
       "           ...            CAMEO_INTL_2015_1s_1  CAMEO_INTL_2015_1s_2  \\\n",
       "0          ...                            -0.0                  -0.0   \n",
       "1          ...                            -0.0                  -0.0   \n",
       "2          ...                             0.0                   0.0   \n",
       "3          ...                             0.0                   0.0   \n",
       "4          ...                            -0.0                  -0.0   \n",
       "\n",
       "   CAMEO_INTL_2015_1s_3  CAMEO_INTL_2015_1s_4  CAMEO_INTL_2015_1s_5  \\\n",
       "0                  -0.0                   1.0                   0.0   \n",
       "1                   1.0                  -0.0                   0.0   \n",
       "2                   1.0                  -0.0                  -0.0   \n",
       "3                   0.0                   1.0                  -0.0   \n",
       "4                  -0.0                  -0.0                   1.0   \n",
       "\n",
       "   CAMEO_INTL_2015_10s_1  CAMEO_INTL_2015_10s_2  CAMEO_INTL_2015_10s_3  \\\n",
       "0                    1.0                   -0.0                   -0.0   \n",
       "1                   -0.0                   -0.0                   -0.0   \n",
       "2                    1.0                   -0.0                   -0.0   \n",
       "3                    1.0                   -0.0                    0.0   \n",
       "4                    1.0                   -0.0                   -0.0   \n",
       "\n",
       "   CAMEO_INTL_2015_10s_4  CAMEO_INTL_2015_10s_5  \n",
       "0                   -0.0                   -0.0  \n",
       "1                    0.0                    1.0  \n",
       "2                   -0.0                    0.0  \n",
       "3                   -0.0                   -0.0  \n",
       "4                    0.0                    0.0  \n",
       "\n",
       "[5 rows x 396 columns]"
      ]
     },
     "execution_count": 142,
     "metadata": {},
     "output_type": "execute_result"
    }
   ],
   "source": [
    "# Representation of population of cluster 0\n",
    "non_actionable_class = [0]\n",
    "result_df_0 = interpret_clusters(non_actionable_class)\n",
    "result_df_0.head()"
   ]
  },
  {
   "cell_type": "code",
   "execution_count": 143,
   "metadata": {},
   "outputs": [],
   "source": [
    "result_df_0['label'] = 0\n",
    "result_df_3['label'] = 3"
   ]
  },
  {
   "cell_type": "code",
   "execution_count": 144,
   "metadata": {},
   "outputs": [],
   "source": [
    "#merge only two clusters to find out diffrences \n",
    "result = result_df_0.append(result_df_3)\n",
    "desc = result.groupby('label').mean()"
   ]
  },
  {
   "cell_type": "code",
   "execution_count": 145,
   "metadata": {},
   "outputs": [
    {
     "data": {
      "text/html": [
       "<div>\n",
       "<style scoped>\n",
       "    .dataframe tbody tr th:only-of-type {\n",
       "        vertical-align: middle;\n",
       "    }\n",
       "\n",
       "    .dataframe tbody tr th {\n",
       "        vertical-align: top;\n",
       "    }\n",
       "\n",
       "    .dataframe thead th {\n",
       "        text-align: right;\n",
       "    }\n",
       "</style>\n",
       "<table border=\"1\" class=\"dataframe\">\n",
       "  <thead>\n",
       "    <tr style=\"text-align: right;\">\n",
       "      <th></th>\n",
       "      <th>BALLRAUM</th>\n",
       "      <th>CJT_GESAMTTYP</th>\n",
       "      <th>CJT_KATALOGNUTZER</th>\n",
       "      <th>CJT_TYP_1</th>\n",
       "      <th>CJT_TYP_2</th>\n",
       "      <th>CJT_TYP_3</th>\n",
       "      <th>CJT_TYP_4</th>\n",
       "      <th>CJT_TYP_5</th>\n",
       "      <th>CJT_TYP_6</th>\n",
       "      <th>D19_BANKEN_ANZ_12</th>\n",
       "      <th>D19_BANKEN_ANZ_24</th>\n",
       "      <th>D19_BANKEN_DATUM</th>\n",
       "      <th>D19_BANKEN_DIREKT</th>\n",
       "      <th>D19_BANKEN_GROSS</th>\n",
       "      <th>D19_BANKEN_LOKAL</th>\n",
       "    </tr>\n",
       "    <tr>\n",
       "      <th>label</th>\n",
       "      <th></th>\n",
       "      <th></th>\n",
       "      <th></th>\n",
       "      <th></th>\n",
       "      <th></th>\n",
       "      <th></th>\n",
       "      <th></th>\n",
       "      <th></th>\n",
       "      <th></th>\n",
       "      <th></th>\n",
       "      <th></th>\n",
       "      <th></th>\n",
       "      <th></th>\n",
       "      <th></th>\n",
       "      <th></th>\n",
       "    </tr>\n",
       "  </thead>\n",
       "  <tbody>\n",
       "    <tr>\n",
       "      <th>0</th>\n",
       "      <td>3.730542</td>\n",
       "      <td>3.223599</td>\n",
       "      <td>3.996724</td>\n",
       "      <td>2.958983</td>\n",
       "      <td>2.987182</td>\n",
       "      <td>3.497971</td>\n",
       "      <td>3.660471</td>\n",
       "      <td>3.523535</td>\n",
       "      <td>3.794916</td>\n",
       "      <td>0.047995</td>\n",
       "      <td>0.080467</td>\n",
       "      <td>9.710746</td>\n",
       "      <td>0.401054</td>\n",
       "      <td>0.259631</td>\n",
       "      <td>0.031902</td>\n",
       "    </tr>\n",
       "    <tr>\n",
       "      <th>3</th>\n",
       "      <td>3.243908</td>\n",
       "      <td>3.691691</td>\n",
       "      <td>3.317642</td>\n",
       "      <td>3.674240</td>\n",
       "      <td>3.680061</td>\n",
       "      <td>2.728757</td>\n",
       "      <td>2.969593</td>\n",
       "      <td>2.741285</td>\n",
       "      <td>2.987883</td>\n",
       "      <td>0.073835</td>\n",
       "      <td>0.132308</td>\n",
       "      <td>9.492953</td>\n",
       "      <td>0.760625</td>\n",
       "      <td>0.511028</td>\n",
       "      <td>0.033660</td>\n",
       "    </tr>\n",
       "  </tbody>\n",
       "</table>\n",
       "</div>"
      ],
      "text/plain": [
       "       BALLRAUM  CJT_GESAMTTYP  CJT_KATALOGNUTZER  CJT_TYP_1  CJT_TYP_2  \\\n",
       "label                                                                     \n",
       "0      3.730542       3.223599           3.996724   2.958983   2.987182   \n",
       "3      3.243908       3.691691           3.317642   3.674240   3.680061   \n",
       "\n",
       "       CJT_TYP_3  CJT_TYP_4  CJT_TYP_5  CJT_TYP_6  D19_BANKEN_ANZ_12  \\\n",
       "label                                                                  \n",
       "0       3.497971   3.660471   3.523535   3.794916           0.047995   \n",
       "3       2.728757   2.969593   2.741285   2.987883           0.073835   \n",
       "\n",
       "       D19_BANKEN_ANZ_24  D19_BANKEN_DATUM  D19_BANKEN_DIREKT  \\\n",
       "label                                                           \n",
       "0               0.080467          9.710746           0.401054   \n",
       "3               0.132308          9.492953           0.760625   \n",
       "\n",
       "       D19_BANKEN_GROSS  D19_BANKEN_LOKAL  \n",
       "label                                      \n",
       "0              0.259631          0.031902  \n",
       "3              0.511028          0.033660  "
      ]
     },
     "execution_count": 145,
     "metadata": {},
     "output_type": "execute_result"
    }
   ],
   "source": [
    "desc_temp = desc[desc.columns[10:25]] \n",
    "desc_temp"
   ]
  },
  {
   "cell_type": "code",
   "execution_count": 146,
   "metadata": {
    "scrolled": false
   },
   "outputs": [
    {
     "data": {
      "image/png": "[encoded data removed]",
      "text/plain": [
       "<Figure size 1080x864 with 1 Axes>"
      ]
     },
     "metadata": {},
     "output_type": "display_data"
    }
   ],
   "source": [
    "#plot mean values of some features per cluster\n",
    "plt.rcParams['figure.figsize'] = [15,12]#[25,150]\n",
    "ax =  desc_temp.T.plot.barh(width=0.5, title= 'Score by cluser')\n",
    "plt.savefig('Scores_Cluster.png')"
   ]
  },
  {
   "cell_type": "markdown",
   "metadata": {},
   "source": [
    "**Comment:** Above graph shows few features, which helps to identify where new person of a population fits, either in 0 or 3 cluster."
   ]
  },
  {
   "cell_type": "markdown",
   "metadata": {},
   "source": [
    "## Part 2: Supervised Learning Model\n",
    "\n",
    "Now that you've found which parts of the population are more likely to be customers of the mail-order company, it's time to build a prediction model. Each of the rows in the \"MAILOUT\" data files represents an individual that was targeted for a mailout campaign. Ideally, we should be able to use the demographic information from each individual to decide whether or not it will be worth it to include that person in the campaign.\n",
    "\n",
    "The \"MAILOUT\" data has been split into two approximately equal parts, each with almost 43 000 data rows. In this part, you can verify your model with the \"TRAIN\" partition, which includes a column, \"RESPONSE\", that states whether or not a person became a customer of the company following the campaign. In the next part, you'll need to create predictions on the \"TEST\" partition, where the \"RESPONSE\" column has been withheld."
   ]
  },
  {
   "cell_type": "code",
   "execution_count": 80,
   "metadata": {},
   "outputs": [
    {
     "name": "stderr",
     "output_type": "stream",
     "text": [
      "C:\\ProgramData\\Anaconda3\\lib\\site-packages\\IPython\\core\\interactiveshell.py:2785: DtypeWarning: Columns (18,19) have mixed types. Specify dtype option on import or set low_memory=False.\n",
      "  interactivity=interactivity, compiler=compiler, result=result)\n"
     ]
    },
    {
     "data": {
      "text/html": [
       "<div>\n",
       "<style scoped>\n",
       "    .dataframe tbody tr th:only-of-type {\n",
       "        vertical-align: middle;\n",
       "    }\n",
       "\n",
       "    .dataframe tbody tr th {\n",
       "        vertical-align: top;\n",
       "    }\n",
       "\n",
       "    .dataframe thead th {\n",
       "        text-align: right;\n",
       "    }\n",
       "</style>\n",
       "<table border=\"1\" class=\"dataframe\">\n",
       "  <thead>\n",
       "    <tr style=\"text-align: right;\">\n",
       "      <th></th>\n",
       "      <th>LNR</th>\n",
       "      <th>AGER_TYP</th>\n",
       "      <th>AKT_DAT_KL</th>\n",
       "      <th>ALTER_HH</th>\n",
       "      <th>ALTER_KIND1</th>\n",
       "      <th>ALTER_KIND2</th>\n",
       "      <th>ALTER_KIND3</th>\n",
       "      <th>ALTER_KIND4</th>\n",
       "      <th>ALTERSKATEGORIE_FEIN</th>\n",
       "      <th>ANZ_HAUSHALTE_AKTIV</th>\n",
       "      <th>...</th>\n",
       "      <th>VK_DHT4A</th>\n",
       "      <th>VK_DISTANZ</th>\n",
       "      <th>VK_ZG11</th>\n",
       "      <th>W_KEIT_KIND_HH</th>\n",
       "      <th>WOHNDAUER_2008</th>\n",
       "      <th>WOHNLAGE</th>\n",
       "      <th>ZABEOTYP</th>\n",
       "      <th>RESPONSE</th>\n",
       "      <th>ANREDE_KZ</th>\n",
       "      <th>ALTERSKATEGORIE_GROB</th>\n",
       "    </tr>\n",
       "  </thead>\n",
       "  <tbody>\n",
       "    <tr>\n",
       "      <th>0</th>\n",
       "      <td>1763</td>\n",
       "      <td>2</td>\n",
       "      <td>1.0</td>\n",
       "      <td>8.0</td>\n",
       "      <td>NaN</td>\n",
       "      <td>NaN</td>\n",
       "      <td>NaN</td>\n",
       "      <td>NaN</td>\n",
       "      <td>8.0</td>\n",
       "      <td>15.0</td>\n",
       "      <td>...</td>\n",
       "      <td>5.0</td>\n",
       "      <td>2.0</td>\n",
       "      <td>1.0</td>\n",
       "      <td>6.0</td>\n",
       "      <td>9.0</td>\n",
       "      <td>3.0</td>\n",
       "      <td>3</td>\n",
       "      <td>0</td>\n",
       "      <td>2</td>\n",
       "      <td>4</td>\n",
       "    </tr>\n",
       "    <tr>\n",
       "      <th>1</th>\n",
       "      <td>1771</td>\n",
       "      <td>1</td>\n",
       "      <td>4.0</td>\n",
       "      <td>13.0</td>\n",
       "      <td>NaN</td>\n",
       "      <td>NaN</td>\n",
       "      <td>NaN</td>\n",
       "      <td>NaN</td>\n",
       "      <td>13.0</td>\n",
       "      <td>1.0</td>\n",
       "      <td>...</td>\n",
       "      <td>1.0</td>\n",
       "      <td>2.0</td>\n",
       "      <td>1.0</td>\n",
       "      <td>4.0</td>\n",
       "      <td>9.0</td>\n",
       "      <td>7.0</td>\n",
       "      <td>1</td>\n",
       "      <td>0</td>\n",
       "      <td>2</td>\n",
       "      <td>3</td>\n",
       "    </tr>\n",
       "    <tr>\n",
       "      <th>2</th>\n",
       "      <td>1776</td>\n",
       "      <td>1</td>\n",
       "      <td>1.0</td>\n",
       "      <td>9.0</td>\n",
       "      <td>NaN</td>\n",
       "      <td>NaN</td>\n",
       "      <td>NaN</td>\n",
       "      <td>NaN</td>\n",
       "      <td>7.0</td>\n",
       "      <td>0.0</td>\n",
       "      <td>...</td>\n",
       "      <td>6.0</td>\n",
       "      <td>4.0</td>\n",
       "      <td>2.0</td>\n",
       "      <td>NaN</td>\n",
       "      <td>9.0</td>\n",
       "      <td>2.0</td>\n",
       "      <td>3</td>\n",
       "      <td>0</td>\n",
       "      <td>1</td>\n",
       "      <td>4</td>\n",
       "    </tr>\n",
       "    <tr>\n",
       "      <th>3</th>\n",
       "      <td>1460</td>\n",
       "      <td>2</td>\n",
       "      <td>1.0</td>\n",
       "      <td>6.0</td>\n",
       "      <td>NaN</td>\n",
       "      <td>NaN</td>\n",
       "      <td>NaN</td>\n",
       "      <td>NaN</td>\n",
       "      <td>6.0</td>\n",
       "      <td>4.0</td>\n",
       "      <td>...</td>\n",
       "      <td>8.0</td>\n",
       "      <td>11.0</td>\n",
       "      <td>11.0</td>\n",
       "      <td>6.0</td>\n",
       "      <td>9.0</td>\n",
       "      <td>1.0</td>\n",
       "      <td>3</td>\n",
       "      <td>0</td>\n",
       "      <td>2</td>\n",
       "      <td>4</td>\n",
       "    </tr>\n",
       "    <tr>\n",
       "      <th>4</th>\n",
       "      <td>1783</td>\n",
       "      <td>2</td>\n",
       "      <td>1.0</td>\n",
       "      <td>9.0</td>\n",
       "      <td>NaN</td>\n",
       "      <td>NaN</td>\n",
       "      <td>NaN</td>\n",
       "      <td>NaN</td>\n",
       "      <td>9.0</td>\n",
       "      <td>53.0</td>\n",
       "      <td>...</td>\n",
       "      <td>2.0</td>\n",
       "      <td>2.0</td>\n",
       "      <td>1.0</td>\n",
       "      <td>6.0</td>\n",
       "      <td>9.0</td>\n",
       "      <td>3.0</td>\n",
       "      <td>3</td>\n",
       "      <td>0</td>\n",
       "      <td>1</td>\n",
       "      <td>3</td>\n",
       "    </tr>\n",
       "  </tbody>\n",
       "</table>\n",
       "<p>5 rows × 367 columns</p>\n",
       "</div>"
      ],
      "text/plain": [
       "    LNR  AGER_TYP  AKT_DAT_KL  ALTER_HH  ALTER_KIND1  ALTER_KIND2  \\\n",
       "0  1763         2         1.0       8.0          NaN          NaN   \n",
       "1  1771         1         4.0      13.0          NaN          NaN   \n",
       "2  1776         1         1.0       9.0          NaN          NaN   \n",
       "3  1460         2         1.0       6.0          NaN          NaN   \n",
       "4  1783         2         1.0       9.0          NaN          NaN   \n",
       "\n",
       "   ALTER_KIND3  ALTER_KIND4  ALTERSKATEGORIE_FEIN  ANZ_HAUSHALTE_AKTIV  \\\n",
       "0          NaN          NaN                   8.0                 15.0   \n",
       "1          NaN          NaN                  13.0                  1.0   \n",
       "2          NaN          NaN                   7.0                  0.0   \n",
       "3          NaN          NaN                   6.0                  4.0   \n",
       "4          NaN          NaN                   9.0                 53.0   \n",
       "\n",
       "          ...           VK_DHT4A  VK_DISTANZ  VK_ZG11  W_KEIT_KIND_HH  \\\n",
       "0         ...                5.0         2.0      1.0             6.0   \n",
       "1         ...                1.0         2.0      1.0             4.0   \n",
       "2         ...                6.0         4.0      2.0             NaN   \n",
       "3         ...                8.0        11.0     11.0             6.0   \n",
       "4         ...                2.0         2.0      1.0             6.0   \n",
       "\n",
       "   WOHNDAUER_2008  WOHNLAGE  ZABEOTYP RESPONSE ANREDE_KZ ALTERSKATEGORIE_GROB  \n",
       "0             9.0       3.0         3        0         2                    4  \n",
       "1             9.0       7.0         1        0         2                    3  \n",
       "2             9.0       2.0         3        0         1                    4  \n",
       "3             9.0       1.0         3        0         2                    4  \n",
       "4             9.0       3.0         3        0         1                    3  \n",
       "\n",
       "[5 rows x 367 columns]"
      ]
     },
     "execution_count": 80,
     "metadata": {},
     "output_type": "execute_result"
    }
   ],
   "source": [
    "mailout_train = pd.read_csv('Udacity_MAILOUT_052018_TRAIN.csv', sep=';')\n",
    "mailout_train.head()"
   ]
  },
  {
   "cell_type": "markdown",
   "metadata": {},
   "source": [
    "### Step 3: Classification of mailout data"
   ]
  },
  {
   "cell_type": "markdown",
   "metadata": {},
   "source": [
    "##### 3.1 Clean up the data"
   ]
  },
  {
   "cell_type": "code",
   "execution_count": 81,
   "metadata": {},
   "outputs": [],
   "source": [
    "#Dropping Unique identifiers for mailout data\n",
    "id_mailout_train_LNR =  mailout_train['LNR']\n",
    "mailout_train = mailout_train.drop('LNR', axis=1)"
   ]
  },
  {
   "cell_type": "code",
   "execution_count": 82,
   "metadata": {},
   "outputs": [
    {
     "name": "stdout",
     "output_type": "stream",
     "text": [
      "mailout train Shape before (42962, 366)\n",
      "mailout train shape after (42962, 337)\n"
     ]
    }
   ],
   "source": [
    "#Clean train data- we are deleting the features from mailout dataset \n",
    "#which have removed from first two datasets as well.  \n",
    "print(\"mailout train Shape before\", mailout_train.shape)\n",
    "mailout_train_df = mailout_train.drop(columns_to_drop, axis=1)\n",
    "print(\"mailout train shape after\", mailout_train_df.shape)"
   ]
  },
  {
   "cell_type": "code",
   "execution_count": 83,
   "metadata": {},
   "outputs": [
    {
     "data": {
      "text/html": [
       "<div>\n",
       "<style scoped>\n",
       "    .dataframe tbody tr th:only-of-type {\n",
       "        vertical-align: middle;\n",
       "    }\n",
       "\n",
       "    .dataframe tbody tr th {\n",
       "        vertical-align: top;\n",
       "    }\n",
       "\n",
       "    .dataframe thead th {\n",
       "        text-align: right;\n",
       "    }\n",
       "</style>\n",
       "<table border=\"1\" class=\"dataframe\">\n",
       "  <thead>\n",
       "    <tr style=\"text-align: right;\">\n",
       "      <th></th>\n",
       "      <th>CAMEO_DEU_2015</th>\n",
       "      <th>CAMEO_DEUG_2015</th>\n",
       "      <th>CAMEO_INTL_2015</th>\n",
       "      <th>OST_WEST_KZ</th>\n",
       "    </tr>\n",
       "  </thead>\n",
       "  <tbody>\n",
       "    <tr>\n",
       "      <th>0</th>\n",
       "      <td>5D</td>\n",
       "      <td>5</td>\n",
       "      <td>34</td>\n",
       "      <td>W</td>\n",
       "    </tr>\n",
       "    <tr>\n",
       "      <th>1</th>\n",
       "      <td>5B</td>\n",
       "      <td>5</td>\n",
       "      <td>32</td>\n",
       "      <td>W</td>\n",
       "    </tr>\n",
       "    <tr>\n",
       "      <th>2</th>\n",
       "      <td>2D</td>\n",
       "      <td>2</td>\n",
       "      <td>14</td>\n",
       "      <td>O</td>\n",
       "    </tr>\n",
       "    <tr>\n",
       "      <th>3</th>\n",
       "      <td>2D</td>\n",
       "      <td>2</td>\n",
       "      <td>14</td>\n",
       "      <td>W</td>\n",
       "    </tr>\n",
       "    <tr>\n",
       "      <th>4</th>\n",
       "      <td>7B</td>\n",
       "      <td>7</td>\n",
       "      <td>41</td>\n",
       "      <td>W</td>\n",
       "    </tr>\n",
       "  </tbody>\n",
       "</table>\n",
       "</div>"
      ],
      "text/plain": [
       "  CAMEO_DEU_2015 CAMEO_DEUG_2015 CAMEO_INTL_2015 OST_WEST_KZ\n",
       "0             5D               5              34           W\n",
       "1             5B               5              32           W\n",
       "2             2D               2              14           O\n",
       "3             2D               2              14           W\n",
       "4             7B               7              41           W"
      ]
     },
     "execution_count": 83,
     "metadata": {},
     "output_type": "execute_result"
    }
   ],
   "source": [
    "# Check object features\n",
    "mailout_objects = mailout_train_df.select_dtypes(include='object')\n",
    "mailout_objects.head()"
   ]
  },
  {
   "cell_type": "code",
   "execution_count": 84,
   "metadata": {},
   "outputs": [
    {
     "data": {
      "text/plain": [
       "(42962, 397)"
      ]
     },
     "execution_count": 84,
     "metadata": {},
     "output_type": "execute_result"
    }
   ],
   "source": [
    "# Encode OST_WEST_KZ as dummy variable\n",
    "mailout_train_df['OST_WEST_KZ'] = mailout_train_df['OST_WEST_KZ'].map({'W': 1, 'O': 2})\n",
    "\n",
    "#Create dummy variables for object types\n",
    "mailout_train_df = clean_object_type_columns(mailout_train_df)\n",
    "\n",
    "# Get the dummies for object type attributes\n",
    "complete_mailout_train_df = pd.get_dummies(mailout_train_df)\n",
    "complete_mailout_train_df.shape"
   ]
  },
  {
   "cell_type": "markdown",
   "metadata": {},
   "source": [
    "##### 3.2 Separate features and labels"
   ]
  },
  {
   "cell_type": "code",
   "execution_count": 85,
   "metadata": {},
   "outputs": [
    {
     "data": {
      "text/plain": [
       "0    42430\n",
       "1      532\n",
       "Name: RESPONSE, dtype: int64"
      ]
     },
     "execution_count": 85,
     "metadata": {},
     "output_type": "execute_result"
    }
   ],
   "source": [
    "#Distribution of response classes\n",
    "complete_mailout_train_df.RESPONSE.value_counts(dropna=False)"
   ]
  },
  {
   "cell_type": "code",
   "execution_count": 86,
   "metadata": {},
   "outputs": [],
   "source": [
    "# Shuffle dataframe before separating label\n",
    "complete_mailout_train_df = shuffle(complete_mailout_train_df)"
   ]
  },
  {
   "cell_type": "code",
   "execution_count": 87,
   "metadata": {},
   "outputs": [],
   "source": [
    "# separate labels from features\n",
    "X = complete_mailout_train_df.drop('RESPONSE',axis=1)\n",
    "y = complete_mailout_train_df['RESPONSE']"
   ]
  },
  {
   "cell_type": "markdown",
   "metadata": {},
   "source": [
    "##### 3.3 Impute NaN and scale"
   ]
  },
  {
   "cell_type": "code",
   "execution_count": 88,
   "metadata": {},
   "outputs": [
    {
     "name": "stdout",
     "output_type": "stream",
     "text": [
      "Number of rows with NaN 13571\n",
      "30719    230\n",
      "40927    230\n",
      "34386    230\n",
      "20828    230\n",
      "4560     230\n",
      "3519     230\n",
      "22551    230\n",
      "20830    230\n",
      "19193    230\n",
      "20202    230\n",
      "37755    230\n",
      "20234    230\n",
      "32365    230\n",
      "7967     230\n",
      "9856     230\n",
      "4693     230\n",
      "5040     230\n",
      "38232    230\n",
      "15646    230\n",
      "28966    230\n",
      "27102    230\n",
      "5560     230\n",
      "37236    230\n",
      "25078    230\n",
      "33739    230\n",
      "30733    230\n",
      "39780    230\n",
      "32765    230\n",
      "9086     230\n",
      "37143    230\n",
      "        ... \n",
      "32723      0\n",
      "35527      0\n",
      "3479       0\n",
      "33453      0\n",
      "14365      0\n",
      "9084       0\n",
      "20557      0\n",
      "3461       0\n",
      "36469      0\n",
      "16471      0\n",
      "12517      0\n",
      "39355      0\n",
      "15619      0\n",
      "21098      0\n",
      "42048      0\n",
      "41085      0\n",
      "12944      0\n",
      "26174      0\n",
      "11768      0\n",
      "33587      0\n",
      "5191       0\n",
      "13080      0\n",
      "25607      0\n",
      "37625      0\n",
      "29772      0\n",
      "40512      0\n",
      "11605      0\n",
      "25641      0\n",
      "676        0\n",
      "35143      0\n",
      "Length: 42962, dtype: int64\n"
     ]
    }
   ],
   "source": [
    "# Number of rows which null values\n",
    "print(\"Number of rows with NaN\", sum(X.isnull().any(axis=1)))\n",
    "row_nans = X.isnull().sum(axis=1)\n",
    "print(row_nans.sort_values(ascending=False))"
   ]
  },
  {
   "cell_type": "markdown",
   "metadata": {},
   "source": [
    "**Comment**: Around 30% of the have atleast one NaN, so lets impute these NaN values."
   ]
  },
  {
   "cell_type": "code",
   "execution_count": 89,
   "metadata": {},
   "outputs": [
    {
     "data": {
      "text/plain": [
       "0"
      ]
     },
     "execution_count": 89,
     "metadata": {},
     "output_type": "execute_result"
    }
   ],
   "source": [
    "# impute NaN values with imputer object of general population\n",
    "imputed_X = imputer_azdias.transform(X)\n",
    "imputed_X_df = pd.DataFrame(imputed_X)\n",
    "sum(imputed_X_df.isnull().any(axis=1))"
   ]
  },
  {
   "cell_type": "code",
   "execution_count": 90,
   "metadata": {},
   "outputs": [],
   "source": [
    "# Scale the features\n",
    "imputed_X_df[imputed_X_df.columns] = scale_azdias_obj.transform(imputed_X_df)"
   ]
  },
  {
   "cell_type": "code",
   "execution_count": 91,
   "metadata": {},
   "outputs": [],
   "source": [
    "#For training on google colab\n",
    "save_imputed_X_df = imputed_X_df.copy()\n",
    "save_imputed_X_df['y'] = y\n",
    "save_imputed_X_df.to_csv('training_data.csv')"
   ]
  },
  {
   "cell_type": "markdown",
   "metadata": {},
   "source": [
    "##### 3.4 Modeling\n",
    "\n",
    "**3.4.1 Subsampling:** As data is imbalanced, I am creating one simple model with Random Under-Sampling/subsampling method.**"
   ]
  },
  {
   "cell_type": "code",
   "execution_count": 92,
   "metadata": {},
   "outputs": [
    {
     "data": {
      "text/plain": [
       "1    532\n",
       "0    532\n",
       "Name: y, dtype: int64"
      ]
     },
     "execution_count": 92,
     "metadata": {},
     "output_type": "execute_result"
    }
   ],
   "source": [
    "# subsampled data- amount of 1 class is 532 rows \n",
    "df_1 = save_imputed_X_df.loc[save_imputed_X_df['y'] == 1]\n",
    "df_0 = save_imputed_X_df.loc[save_imputed_X_df['y'] == 0][:532]\n",
    "normal_distributed_df = pd.concat([df_0, df_1])\n",
    "#Distribution of response classes in sumsample\n",
    "normal_distributed_df.y.value_counts(dropna=False)"
   ]
  },
  {
   "cell_type": "code",
   "execution_count": 93,
   "metadata": {},
   "outputs": [],
   "source": [
    "# separate labels from features\n",
    "X_subsample = normal_distributed_df.drop('y',axis=1)\n",
    "y_subsample = normal_distributed_df['y']"
   ]
  },
  {
   "cell_type": "code",
   "execution_count": 94,
   "metadata": {},
   "outputs": [
    {
     "name": "stderr",
     "output_type": "stream",
     "text": [
      "C:\\ProgramData\\Anaconda3\\lib\\site-packages\\ipykernel_launcher.py:1: FutureWarning: Method .as_matrix will be removed in a future version. Use .values instead.\n",
      "  \"\"\"Entry point for launching an IPython kernel.\n"
     ]
    }
   ],
   "source": [
    "X_sub = X_subsample.as_matrix()#to_numpy()\n",
    "x_train_sub, x_test_sub, y_train_sub, y_test_sub = train_test_split(X_sub, y_subsample, test_size=0.33, random_state=42)"
   ]
  },
  {
   "cell_type": "code",
   "execution_count": 95,
   "metadata": {},
   "outputs": [],
   "source": [
    "#Base Model with subsampled data\n",
    "clf = RandomForestRegressor().fit(x_train_sub, y_train_sub)\n",
    "train_sub_pred = clf.predict(x_train_sub)\n",
    "test_sub_pred = clf.predict(x_test_sub)"
   ]
  },
  {
   "cell_type": "code",
   "execution_count": 96,
   "metadata": {},
   "outputs": [
    {
     "name": "stdout",
     "output_type": "stream",
     "text": [
      "ROC AUC, Train: 0.9904385930283053  Test: 0.48388088687489883\n"
     ]
    }
   ],
   "source": [
    "print(\"ROC AUC, Train:\", roc_auc_score(y_train_sub, train_sub_pred),\n",
    "      \" Test:\", roc_auc_score(y_test_sub, test_sub_pred))"
   ]
  },
  {
   "cell_type": "markdown",
   "metadata": {},
   "source": [
    "**Comment:** Subsample causing overfitting and we are loosing lots of data. So keeping original dataset and experimenting with diffrent algorithms.\n",
    "\n"
   ]
  },
  {
   "cell_type": "markdown",
   "metadata": {},
   "source": [
    "**3.4.2 Checking Algorithms and respective learning curves**"
   ]
  },
  {
   "cell_type": "code",
   "execution_count": 97,
   "metadata": {},
   "outputs": [],
   "source": [
    "plt.rcParams['figure.figsize'] = [10,8]"
   ]
  },
  {
   "cell_type": "code",
   "execution_count": 98,
   "metadata": {},
   "outputs": [],
   "source": [
    "def plot_learning_curve(name, estimator):\n",
    "    train_sizes = np.linspace(.1, 1.0, 5)\n",
    "    train_sizes, train_scores, test_scores = learning_curve(\n",
    "        estimator, imputed_X_df, y, cv=5, scoring='roc_auc', n_jobs=-1, train_sizes=train_sizes)\n",
    "    \n",
    "    train_scores_mean = np.mean(train_scores, axis=1)\n",
    "    train_scores_std = np.std(train_scores, axis=1)\n",
    "    test_scores_mean = np.mean(test_scores, axis=1)\n",
    "    test_scores_std = np.std(test_scores, axis=1)\n",
    "    \n",
    "    fig = plt.figure()\n",
    "    plt.grid()\n",
    "    plt.title(name)\n",
    "    plt.xlabel(\"Training examples\")\n",
    "    plt.ylabel(\"Auc score\")\n",
    "\n",
    "    plt.plot(train_scores_mean, 'o-', color=\"b\",\n",
    "             label=\"Training score\")\n",
    "    plt.plot(test_scores_mean, 'o-', color=\"g\",\n",
    "             label=\"Cross-validation score\")\n",
    "    plt.legend(loc=\"best\")\n",
    "    plt.show()\n",
    "    plt.savefig(name + '.png')"
   ]
  },
  {
   "cell_type": "markdown",
   "metadata": {},
   "source": [
    "**3.4.2.1 GridSearch for LogisticRegression:** Here is the gridsearch to find parameters for LogisticRegression"
   ]
  },
  {
   "cell_type": "code",
   "execution_count": 147,
   "metadata": {
    "scrolled": false
   },
   "outputs": [
    {
     "name": "stdout",
     "output_type": "stream",
     "text": [
      "LogisticRegression(C=0.001, class_weight=None, dual=False, fit_intercept=True,\n",
      "                   intercept_scaling=1, l1_ratio=None, max_iter=100,\n",
      "                   multi_class='auto', n_jobs=None, penalty='l2',\n",
      "                   random_state=None, solver='lbfgs', tol=0.0001, verbose=0,\n",
      "                   warm_start=False)\n"
     ]
    }
   ],
   "source": [
    "# Logistic Regression \n",
    "grid_logistic_reg = GridSearchCV(LogisticRegression(), \n",
    "                            {\"penalty\": ['l1', 'l2'], 'C': [0.001, 0.01, 0.1, 1, 10, 100, 1000]})\n",
    "grid_logistic_reg.fit(imputed_X_df, y)\n",
    "print(grid_logistic_reg.best_estimator_)"
   ]
  },
  {
   "cell_type": "code",
   "execution_count": 100,
   "metadata": {},
   "outputs": [
    {
     "data": {
      "image/png": "[encoded data removed]",
      "text/plain": [
       "<Figure size 720x576 with 1 Axes>"
      ]
     },
     "metadata": {},
     "output_type": "display_data"
    },
    {
     "data": {
      "text/plain": [
       "<Figure size 720x576 with 0 Axes>"
      ]
     },
     "metadata": {},
     "output_type": "display_data"
    }
   ],
   "source": [
    "# pass the the best parameters to curve plot\n",
    "plot_learning_curve(\"LogisticRegression Learning Curve\", grid_logistic_reg.best_estimator_)"
   ]
  },
  {
   "cell_type": "code",
   "execution_count": 101,
   "metadata": {},
   "outputs": [
    {
     "data": {
      "text/plain": [
       "0.6457862707085886"
      ]
     },
     "execution_count": 101,
     "metadata": {},
     "output_type": "execute_result"
    }
   ],
   "source": [
    "# Get AUC for best estimator of Logistic regression\n",
    "log_reg_pred = cross_val_predict(grid_logistic_reg.best_estimator_, imputed_X_df, y, cv=5, method=\"decision_function\")\n",
    "roc_auc_score(y, log_reg_pred)"
   ]
  },
  {
   "cell_type": "markdown",
   "metadata": {},
   "source": [
    "**3.4.2.2 GridSearch for RandomForestRegressor:** Here is the gridsearch to find parameters for ensemble method called randomForestRegressor:"
   ]
  },
  {
   "cell_type": "code",
   "execution_count": 102,
   "metadata": {},
   "outputs": [
    {
     "name": "stdout",
     "output_type": "stream",
     "text": [
      "Fitting 5 folds for each of 9 candidates, totalling 45 fits\n"
     ]
    },
    {
     "name": "stderr",
     "output_type": "stream",
     "text": [
      "[Parallel(n_jobs=-1)]: Done  45 out of  45 | elapsed:  9.6min finished\n"
     ]
    },
    {
     "data": {
      "image/png": "[encoded data removed]",
      "text/plain": [
       "<Figure size 720x576 with 1 Axes>"
      ]
     },
     "metadata": {},
     "output_type": "display_data"
    },
    {
     "data": {
      "text/plain": [
       "<Figure size 720x576 with 0 Axes>"
      ]
     },
     "metadata": {},
     "output_type": "display_data"
    }
   ],
   "source": [
    "# we will select 'roc_auc' scoring as dataset is imbalanced\n",
    "gsc = GridSearchCV(estimator=RandomForestRegressor(),\n",
    "    param_grid={\n",
    "        'max_depth': (3, 5, 7),\n",
    "        'n_estimators': (10, 70, 200),\n",
    "    },\n",
    "    cv=5, scoring='roc_auc', verbose=1, n_jobs=-1)\n",
    "\n",
    "grid_rfr = gsc.fit(imputed_X_df, y)\n",
    "best_params = grid_rfr.best_params_\n",
    "\n",
    "grid_rfr.best_estimator_\n",
    "plot_learning_curve(\"RandomForestRegressor Learning Curve\", grid_rfr.best_estimator_)"
   ]
  },
  {
   "cell_type": "code",
   "execution_count": 103,
   "metadata": {},
   "outputs": [
    {
     "data": {
      "text/plain": [
       "0.7620244046363848"
      ]
     },
     "execution_count": 103,
     "metadata": {},
     "output_type": "execute_result"
    }
   ],
   "source": [
    "# Get AUC for best estimator of random forest Regressor\n",
    "#{'max_depth': 3, 'n_estimators': 200}\n",
    "random_regressor_pred = cross_val_predict(grid_rfr.best_estimator_, imputed_X_df, y, cv=5)\n",
    "roc_auc_score(y, random_regressor_pred)"
   ]
  },
  {
   "cell_type": "markdown",
   "metadata": {},
   "source": [
    "**3.4.2.3 GridSearch for XGBRegressor:** Here is the gridsearch to find parameters for XGBRegressor. Scale_pos_weight parameter will help to weigh the class as our dataset is imbalanced."
   ]
  },
  {
   "cell_type": "code",
   "execution_count": 105,
   "metadata": {},
   "outputs": [
    {
     "name": "stdout",
     "output_type": "stream",
     "text": [
      "Fitting 5 folds for each of 45 candidates, totalling 225 fits\n"
     ]
    },
    {
     "name": "stderr",
     "output_type": "stream",
     "text": [
      "[Parallel(n_jobs=5)]: Using backend LokyBackend with 5 concurrent workers.\n",
      "[Parallel(n_jobs=5)]: Done  40 tasks      | elapsed:  9.5min\n",
      "[Parallel(n_jobs=5)]: Done 190 tasks      | elapsed: 79.8min\n",
      "[Parallel(n_jobs=5)]: Done 225 out of 225 | elapsed: 104.5min finished\n"
     ]
    },
    {
     "name": "stdout",
     "output_type": "stream",
     "text": [
      "0.769769542252775\n",
      "{'learning_rate': 0.05, 'n_estimators': 70, 'objective': 'binary:logistic', 'scale_pos_weight': 10}\n",
      "Best: 0.769770 using {'learning_rate': 0.05, 'n_estimators': 70, 'objective': 'binary:logistic', 'scale_pos_weight': 10}\n",
      "0.765707 (0.026734) with: {'learning_rate': 0.03, 'n_estimators': 70, 'objective': 'binary:logistic', 'scale_pos_weight': 1}\n",
      "0.763779 (0.026329) with: {'learning_rate': 0.03, 'n_estimators': 70, 'objective': 'binary:logistic', 'scale_pos_weight': 10}\n",
      "0.760206 (0.022939) with: {'learning_rate': 0.03, 'n_estimators': 70, 'objective': 'binary:logistic', 'scale_pos_weight': 25}\n",
      "0.752627 (0.015678) with: {'learning_rate': 0.03, 'n_estimators': 70, 'objective': 'binary:logistic', 'scale_pos_weight': 50}\n",
      "0.749924 (0.012893) with: {'learning_rate': 0.03, 'n_estimators': 70, 'objective': 'binary:logistic', 'scale_pos_weight': 75}\n",
      "0.763111 (0.023555) with: {'learning_rate': 0.03, 'n_estimators': 100, 'objective': 'binary:logistic', 'scale_pos_weight': 1}\n",
      "0.767697 (0.026438) with: {'learning_rate': 0.03, 'n_estimators': 100, 'objective': 'binary:logistic', 'scale_pos_weight': 10}\n",
      "0.758549 (0.021921) with: {'learning_rate': 0.03, 'n_estimators': 100, 'objective': 'binary:logistic', 'scale_pos_weight': 25}\n",
      "0.747947 (0.015609) with: {'learning_rate': 0.03, 'n_estimators': 100, 'objective': 'binary:logistic', 'scale_pos_weight': 50}\n",
      "0.744382 (0.013492) with: {'learning_rate': 0.03, 'n_estimators': 100, 'objective': 'binary:logistic', 'scale_pos_weight': 75}\n",
      "0.759173 (0.021680) with: {'learning_rate': 0.03, 'n_estimators': 300, 'objective': 'binary:logistic', 'scale_pos_weight': 1}\n",
      "0.730948 (0.013347) with: {'learning_rate': 0.03, 'n_estimators': 300, 'objective': 'binary:logistic', 'scale_pos_weight': 10}\n",
      "0.713511 (0.013785) with: {'learning_rate': 0.03, 'n_estimators': 300, 'objective': 'binary:logistic', 'scale_pos_weight': 25}\n",
      "0.704715 (0.011869) with: {'learning_rate': 0.03, 'n_estimators': 300, 'objective': 'binary:logistic', 'scale_pos_weight': 50}\n",
      "0.697061 (0.012705) with: {'learning_rate': 0.03, 'n_estimators': 300, 'objective': 'binary:logistic', 'scale_pos_weight': 75}\n",
      "0.761419 (0.023937) with: {'learning_rate': 0.04, 'n_estimators': 70, 'objective': 'binary:logistic', 'scale_pos_weight': 1}\n",
      "0.767518 (0.026571) with: {'learning_rate': 0.04, 'n_estimators': 70, 'objective': 'binary:logistic', 'scale_pos_weight': 10}\n",
      "0.759003 (0.022475) with: {'learning_rate': 0.04, 'n_estimators': 70, 'objective': 'binary:logistic', 'scale_pos_weight': 25}\n",
      "0.750465 (0.015802) with: {'learning_rate': 0.04, 'n_estimators': 70, 'objective': 'binary:logistic', 'scale_pos_weight': 50}\n",
      "0.746228 (0.016449) with: {'learning_rate': 0.04, 'n_estimators': 70, 'objective': 'binary:logistic', 'scale_pos_weight': 75}\n",
      "0.763415 (0.020816) with: {'learning_rate': 0.04, 'n_estimators': 100, 'objective': 'binary:logistic', 'scale_pos_weight': 1}\n",
      "0.762162 (0.026586) with: {'learning_rate': 0.04, 'n_estimators': 100, 'objective': 'binary:logistic', 'scale_pos_weight': 10}\n",
      "0.749557 (0.018817) with: {'learning_rate': 0.04, 'n_estimators': 100, 'objective': 'binary:logistic', 'scale_pos_weight': 25}\n",
      "0.741611 (0.016717) with: {'learning_rate': 0.04, 'n_estimators': 100, 'objective': 'binary:logistic', 'scale_pos_weight': 50}\n",
      "0.731832 (0.014737) with: {'learning_rate': 0.04, 'n_estimators': 100, 'objective': 'binary:logistic', 'scale_pos_weight': 75}\n",
      "0.748413 (0.017770) with: {'learning_rate': 0.04, 'n_estimators': 300, 'objective': 'binary:logistic', 'scale_pos_weight': 1}\n",
      "0.714442 (0.012323) with: {'learning_rate': 0.04, 'n_estimators': 300, 'objective': 'binary:logistic', 'scale_pos_weight': 10}\n",
      "0.700067 (0.006539) with: {'learning_rate': 0.04, 'n_estimators': 300, 'objective': 'binary:logistic', 'scale_pos_weight': 25}\n",
      "0.694728 (0.009453) with: {'learning_rate': 0.04, 'n_estimators': 300, 'objective': 'binary:logistic', 'scale_pos_weight': 50}\n",
      "0.686453 (0.010841) with: {'learning_rate': 0.04, 'n_estimators': 300, 'objective': 'binary:logistic', 'scale_pos_weight': 75}\n",
      "0.761232 (0.025278) with: {'learning_rate': 0.05, 'n_estimators': 70, 'objective': 'binary:logistic', 'scale_pos_weight': 1}\n",
      "0.769770 (0.024423) with: {'learning_rate': 0.05, 'n_estimators': 70, 'objective': 'binary:logistic', 'scale_pos_weight': 10}\n",
      "0.753882 (0.018824) with: {'learning_rate': 0.05, 'n_estimators': 70, 'objective': 'binary:logistic', 'scale_pos_weight': 25}\n",
      "0.744929 (0.012608) with: {'learning_rate': 0.05, 'n_estimators': 70, 'objective': 'binary:logistic', 'scale_pos_weight': 50}\n",
      "0.741211 (0.013446) with: {'learning_rate': 0.05, 'n_estimators': 70, 'objective': 'binary:logistic', 'scale_pos_weight': 75}\n",
      "0.765390 (0.022369) with: {'learning_rate': 0.05, 'n_estimators': 100, 'objective': 'binary:logistic', 'scale_pos_weight': 1}\n",
      "0.761404 (0.020648) with: {'learning_rate': 0.05, 'n_estimators': 100, 'objective': 'binary:logistic', 'scale_pos_weight': 10}\n",
      "0.741385 (0.017186) with: {'learning_rate': 0.05, 'n_estimators': 100, 'objective': 'binary:logistic', 'scale_pos_weight': 25}\n",
      "0.726106 (0.011269) with: {'learning_rate': 0.05, 'n_estimators': 100, 'objective': 'binary:logistic', 'scale_pos_weight': 50}\n",
      "0.725402 (0.014264) with: {'learning_rate': 0.05, 'n_estimators': 100, 'objective': 'binary:logistic', 'scale_pos_weight': 75}\n",
      "0.731385 (0.013717) with: {'learning_rate': 0.05, 'n_estimators': 300, 'objective': 'binary:logistic', 'scale_pos_weight': 1}\n",
      "0.702993 (0.013444) with: {'learning_rate': 0.05, 'n_estimators': 300, 'objective': 'binary:logistic', 'scale_pos_weight': 10}\n",
      "0.691500 (0.008582) with: {'learning_rate': 0.05, 'n_estimators': 300, 'objective': 'binary:logistic', 'scale_pos_weight': 25}\n",
      "0.682829 (0.012279) with: {'learning_rate': 0.05, 'n_estimators': 300, 'objective': 'binary:logistic', 'scale_pos_weight': 50}\n",
      "0.680227 (0.011669) with: {'learning_rate': 0.05, 'n_estimators': 300, 'objective': 'binary:logistic', 'scale_pos_weight': 75}\n"
     ]
    }
   ],
   "source": [
    "# Various hyper-parameters to tune\n",
    "xgb_reg = XGBRegressor()\n",
    "parameters = {\n",
    "              'objective':['binary:logistic'],\n",
    "              'learning_rate': [.03, 0.04, 0.05],\n",
    "            'scale_pos_weight':[1, 10, 25, 50, 75], \n",
    "              'n_estimators': [70, 100,300]}\n",
    "\n",
    "grid_xgb_reg = GridSearchCV(xgb_reg,\n",
    "                        parameters,\n",
    "                        cv = 5,\n",
    "                        scoring='roc_auc',\n",
    "                        n_jobs = 5,\n",
    "                        verbose=True)\n",
    "\n",
    "grid_xgb_reg.fit(imputed_X_df, y)\n",
    "\n",
    "print(grid_xgb_reg.best_score_)\n",
    "print(grid_xgb_reg.best_params_)\n",
    "\n",
    "# report the best configuration\n",
    "print(\"Best: %f using %s\" % (grid_xgb_reg.best_score_, grid_xgb_reg.best_params_))\n",
    "\n",
    "# report all configurations\n",
    "means = grid_xgb_reg.cv_results_['mean_test_score']\n",
    "stds = grid_xgb_reg.cv_results_['std_test_score']\n",
    "params = grid_xgb_reg.cv_results_['params']\n",
    "for mean, stdev, param in zip(means, stds, params):\n",
    "    print(\"%f (%f) with: %r\" % (mean, stdev, param))\n",
    "    \n",
    "#0.7756945160110197\n",
    "#{'learning_rate': 0.05, 'n_estimators': 100, 'objective': 'binary:logistic', 'scale_pos_weight': 1}\n",
    "#Best: 0.775695 using {'learning_rate': 0.05, 'n_estimators': 100, 'objective': 'binary:logistic', 'scale_pos_weight': 1}"
   ]
  },
  {
   "cell_type": "code",
   "execution_count": 106,
   "metadata": {},
   "outputs": [
    {
     "data": {
      "image/png": "[encoded data removed]",
      "text/plain": [
       "<Figure size 720x576 with 1 Axes>"
      ]
     },
     "metadata": {},
     "output_type": "display_data"
    },
    {
     "data": {
      "text/plain": [
       "<Figure size 720x576 with 0 Axes>"
      ]
     },
     "metadata": {},
     "output_type": "display_data"
    }
   ],
   "source": [
    "plot_learning_curve(\"XGBRegressor Learning Curve\", grid_xgb_reg.best_estimator_)"
   ]
  },
  {
   "cell_type": "code",
   "execution_count": 107,
   "metadata": {},
   "outputs": [
    {
     "data": {
      "text/plain": [
       "0.7649967925942596"
      ]
     },
     "execution_count": 107,
     "metadata": {},
     "output_type": "execute_result"
    }
   ],
   "source": [
    "# Get AUC for best estimator of XGB Regressor\n",
    "xgb_reg_pred = cross_val_predict(grid_xgb_reg.best_estimator_, imputed_X_df, y, cv=5)\n",
    "roc_auc_score(y, xgb_reg_pred)"
   ]
  },
  {
   "cell_type": "markdown",
   "metadata": {},
   "source": [
    "**Comment:** Learning curve or validation score is decreasing for Random forest regressor when we increase number of examples. However XGB regressor score is not decreasing and AUC score looks good than Logistic regression. So best estimator for final prediction will be XGBRegressor. "
   ]
  },
  {
   "cell_type": "markdown",
   "metadata": {},
   "source": [
    "**3.4.5 ROC Curve Analysis**"
   ]
  },
  {
   "cell_type": "code",
   "execution_count": 108,
   "metadata": {},
   "outputs": [
    {
     "data": {
      "image/png": "[encoded data removed]",
      "text/plain": [
       "<Figure size 864x576 with 1 Axes>"
      ]
     },
     "metadata": {},
     "output_type": "display_data"
    }
   ],
   "source": [
    "plt.figure(figsize=(12,8))\n",
    "plt.title('ROC Curve 3 Classifiers', fontsize=18)\n",
    "log_fpr, log_tpr, log_thresold = roc_curve(y, log_reg_pred)\n",
    "rfr_fpr, rfr_tpr, rfr_thresold = roc_curve(y, random_regressor_pred)\n",
    "xgb_fpr, xgb_tpr, xgb_thresold = roc_curve(y, xgb_reg_pred)\n",
    "plt.plot(log_fpr, log_tpr, label='Logistic Regression Score: {:.4f}'.format(roc_auc_score(y, log_reg_pred)))\n",
    "plt.plot(rfr_fpr, rfr_tpr, label='RandomForestRegressor Score: {:.4f}'.format(roc_auc_score(y, random_regressor_pred)))\n",
    "plt.plot(xgb_fpr, xgb_tpr, label='XGBRegressor Score: {:.4f}'.format(roc_auc_score(y, xgb_reg_pred)))\n",
    "plt.plot([0, 1], [0, 1], 'k--')\n",
    "plt.axis([-0.01, 1, 0, 1])\n",
    "plt.xlabel('False Positive Rate', fontsize=16)\n",
    "plt.ylabel('True Positive Rate', fontsize=16)\n",
    "plt.legend()\n",
    "plt.show()"
   ]
  },
  {
   "cell_type": "markdown",
   "metadata": {},
   "source": [
    "#### 3.5 Fit final model using best estimator parameters"
   ]
  },
  {
   "cell_type": "code",
   "execution_count": 148,
   "metadata": {},
   "outputs": [],
   "source": [
    "#Best: 0.769770 using {'learning_rate': 0.05, 'n_estimators': 70, 'objective': 'binary:logistic', 'scale_pos_weight': 10}\n",
    "xgb = XGBRegressor(learning_rate=0.05, n_estimator=70, objective='binary:logistic', scale_pos_weight=10)\n",
    "xgb.fit(imputed_X_df, y)"
   ]
  },
  {
   "cell_type": "code",
   "execution_count": 140,
   "metadata": {},
   "outputs": [],
   "source": [
    "from pickle import dump\n",
    "# save the model\n",
    "dump(xgb, open('XGBRegressor_model.pkl', 'wb'))"
   ]
  },
  {
   "cell_type": "markdown",
   "metadata": {},
   "source": [
    "**Comment:** Final model is ready. Lets use it for predictions in next part"
   ]
  },
  {
   "cell_type": "markdown",
   "metadata": {},
   "source": [
    "## Part 3: Kaggle Competition\n",
    "\n",
    "Now that you've created a model to predict which individuals are most likely to respond to a mailout campaign, it's time to test that model in competition through Kaggle. If you click on the link [here](http://www.kaggle.com/t/21e6d45d4c574c7fa2d868f0e8c83140), you'll be taken to the competition page where, if you have a Kaggle account, you can enter. If you're one of the top performers, you may have the chance to be contacted by a hiring manager from Arvato or Bertelsmann for an interview!\n",
    "\n",
    "Your entry to the competition should be a CSV file with two columns. The first column should be a copy of \"LNR\", which acts as an ID number for each individual in the \"TEST\" partition. The second column, \"RESPONSE\", should be some measure of how likely each individual became a customer – this might not be a straightforward probability. As you should have found in Part 2, there is a large output class imbalance, where most individuals did not respond to the mailout. Thus, predicting individual classes and using accuracy does not seem to be an appropriate performance evaluation method. Instead, the competition will be using AUC to evaluate performance. The exact values of the \"RESPONSE\" column do not matter as much: only that the higher values try to capture as many of the actual customers as possible, early in the ROC curve sweep."
   ]
  },
  {
   "cell_type": "code",
   "execution_count": 123,
   "metadata": {},
   "outputs": [
    {
     "name": "stderr",
     "output_type": "stream",
     "text": [
      "C:\\ProgramData\\Anaconda3\\lib\\site-packages\\IPython\\core\\interactiveshell.py:2785: DtypeWarning: Columns (18,19) have mixed types. Specify dtype option on import or set low_memory=False.\n",
      "  interactivity=interactivity, compiler=compiler, result=result)\n"
     ]
    }
   ],
   "source": [
    "mailout_test = pd.read_csv('Udacity_MAILOUT_052018_TEST.csv', sep=';')"
   ]
  },
  {
   "cell_type": "markdown",
   "metadata": {},
   "source": [
    "##### 4.1 Preprocessing"
   ]
  },
  {
   "cell_type": "code",
   "execution_count": 124,
   "metadata": {},
   "outputs": [],
   "source": [
    "#Dropping Unique identifiers for customers\n",
    "id_mailout_test_LNR =  mailout_test['LNR']\n",
    "mailout_test = mailout_test.drop('LNR', axis=1)"
   ]
  },
  {
   "cell_type": "code",
   "execution_count": 125,
   "metadata": {},
   "outputs": [
    {
     "name": "stdout",
     "output_type": "stream",
     "text": [
      "mailout train Shape before (42833, 365)\n",
      "mailout train shape after (42833, 365)\n"
     ]
    }
   ],
   "source": [
    "#Clean test data- we are deleting the features from mailout dataset \n",
    "#which have removed from first two datasets as well.  \n",
    "print(\"mailout train Shape before\", mailout_test.shape)\n",
    "mailout_test_df = mailout_test.drop(columns_to_drop, axis=1)\n",
    "print(\"mailout train shape after\", mailout_test.shape)"
   ]
  },
  {
   "cell_type": "code",
   "execution_count": 126,
   "metadata": {},
   "outputs": [
    {
     "data": {
      "text/plain": [
       "(42833, 396)"
      ]
     },
     "execution_count": 126,
     "metadata": {},
     "output_type": "execute_result"
    }
   ],
   "source": [
    "# Encode OST_WEST_KZ as dummy variable\n",
    "mailout_test_df['OST_WEST_KZ'] = mailout_test_df['OST_WEST_KZ'].map({'W': 1, 'O': 2})\n",
    "\n",
    "#Create dummy variables for object types\n",
    "mailout_test_df = clean_object_type_columns(mailout_test_df)\n",
    "\n",
    "# Get the dummies for object type attributes\n",
    "complete_mailout_test_df = pd.get_dummies(mailout_test_df)\n",
    "complete_mailout_test_df.shape"
   ]
  },
  {
   "cell_type": "code",
   "execution_count": 127,
   "metadata": {},
   "outputs": [
    {
     "name": "stdout",
     "output_type": "stream",
     "text": [
      "Number of rows with NaN 13551\n",
      "29637    233\n",
      "17393    230\n",
      "9861     230\n",
      "28342    230\n",
      "3179     230\n",
      "38139    230\n",
      "9840     230\n",
      "28338    230\n",
      "38144    230\n",
      "28332    230\n",
      "28328    230\n",
      "28323    230\n",
      "9856     230\n",
      "9864     230\n",
      "38165    230\n",
      "28297    230\n",
      "38153    230\n",
      "9872     230\n",
      "3169     230\n",
      "28288    230\n",
      "38158    230\n",
      "28286    230\n",
      "9877     230\n",
      "38162    230\n",
      "38136    230\n",
      "3181     230\n",
      "28343    230\n",
      "28348    230\n",
      "28427    230\n",
      "9780     230\n",
      "        ... \n",
      "25759      0\n",
      "25760      0\n",
      "25761      0\n",
      "25763      0\n",
      "25764      0\n",
      "25765      0\n",
      "25767      0\n",
      "25768      0\n",
      "25769      0\n",
      "25771      0\n",
      "25773      0\n",
      "25774      0\n",
      "25775      0\n",
      "25776      0\n",
      "25777      0\n",
      "25779      0\n",
      "25780      0\n",
      "25782      0\n",
      "25783      0\n",
      "25784      0\n",
      "25789      0\n",
      "25790      0\n",
      "25791      0\n",
      "25792      0\n",
      "25793      0\n",
      "25795      0\n",
      "25796      0\n",
      "25798      0\n",
      "25799      0\n",
      "0          0\n",
      "Length: 42833, dtype: int64\n"
     ]
    }
   ],
   "source": [
    "# Number of rows which null values\n",
    "print(\"Number of rows with NaN\", sum(complete_mailout_test_df.isnull().any(axis=1)))\n",
    "row_nans = complete_mailout_test_df.isnull().sum(axis=1)\n",
    "print(row_nans.sort_values(ascending=False))"
   ]
  },
  {
   "cell_type": "code",
   "execution_count": 128,
   "metadata": {},
   "outputs": [
    {
     "data": {
      "text/plain": [
       "0"
      ]
     },
     "execution_count": 128,
     "metadata": {},
     "output_type": "execute_result"
    }
   ],
   "source": [
    "# impute NaN values with imputer object of general population\n",
    "imputed_test = imputer_azdias.transform(complete_mailout_test_df)\n",
    "imputed_test_df = pd.DataFrame(imputed_test)\n",
    "sum(imputed_test_df.isnull().any(axis=1))"
   ]
  },
  {
   "cell_type": "code",
   "execution_count": 129,
   "metadata": {},
   "outputs": [],
   "source": [
    "# Scale the features\n",
    "imputed_test_df[imputed_test_df.columns] = scale_azdias_obj.transform(imputed_test_df)"
   ]
  },
  {
   "cell_type": "code",
   "execution_count": 137,
   "metadata": {},
   "outputs": [],
   "source": [
    "predictions = xgb.predict(imputed_test_df)"
   ]
  },
  {
   "cell_type": "code",
   "execution_count": 138,
   "metadata": {},
   "outputs": [
    {
     "data": {
      "text/html": [
       "<div>\n",
       "<style scoped>\n",
       "    .dataframe tbody tr th:only-of-type {\n",
       "        vertical-align: middle;\n",
       "    }\n",
       "\n",
       "    .dataframe tbody tr th {\n",
       "        vertical-align: top;\n",
       "    }\n",
       "\n",
       "    .dataframe thead th {\n",
       "        text-align: right;\n",
       "    }\n",
       "</style>\n",
       "<table border=\"1\" class=\"dataframe\">\n",
       "  <thead>\n",
       "    <tr style=\"text-align: right;\">\n",
       "      <th></th>\n",
       "      <th>RESPONSE</th>\n",
       "    </tr>\n",
       "    <tr>\n",
       "      <th>LNR</th>\n",
       "      <th></th>\n",
       "    </tr>\n",
       "  </thead>\n",
       "  <tbody>\n",
       "    <tr>\n",
       "      <th>1754</th>\n",
       "      <td>0.255372</td>\n",
       "    </tr>\n",
       "    <tr>\n",
       "      <th>1770</th>\n",
       "      <td>0.181949</td>\n",
       "    </tr>\n",
       "    <tr>\n",
       "      <th>1465</th>\n",
       "      <td>0.024009</td>\n",
       "    </tr>\n",
       "    <tr>\n",
       "      <th>1470</th>\n",
       "      <td>0.008532</td>\n",
       "    </tr>\n",
       "    <tr>\n",
       "      <th>1478</th>\n",
       "      <td>0.062922</td>\n",
       "    </tr>\n",
       "  </tbody>\n",
       "</table>\n",
       "</div>"
      ],
      "text/plain": [
       "      RESPONSE\n",
       "LNR           \n",
       "1754  0.255372\n",
       "1770  0.181949\n",
       "1465  0.024009\n",
       "1470  0.008532\n",
       "1478  0.062922"
      ]
     },
     "execution_count": 138,
     "metadata": {},
     "output_type": "execute_result"
    }
   ],
   "source": [
    "submission = pd.DataFrame(predictions, index = id_mailout_test_LNR.astype(int),columns=[\"RESPONSE\"])\n",
    "submission.head()"
   ]
  },
  {
   "cell_type": "code",
   "execution_count": 139,
   "metadata": {},
   "outputs": [],
   "source": [
    "# Kaggle submission\n",
    "submission.to_csv('submission.csv')"
   ]
  }
 ],
 "metadata": {
  "kernelspec": {
   "display_name": "Python 3",
   "language": "python",
   "name": "python3"
  },
  "language_info": {
   "codemirror_mode": {
    "name": "ipython",
    "version": 3
   },
   "file_extension": ".py",
   "mimetype": "text/x-python",
   "name": "python",
   "nbconvert_exporter": "python",
   "pygments_lexer": "ipython3",
   "version": "3.7.0"
  }
 },
 "nbformat": 4,
 "nbformat_minor": 4
}
